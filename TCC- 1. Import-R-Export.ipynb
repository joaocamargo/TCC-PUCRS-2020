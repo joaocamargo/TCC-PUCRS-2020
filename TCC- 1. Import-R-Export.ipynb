{
 "cells": [
  {
   "cell_type": "code",
   "execution_count": 1,
   "metadata": {},
   "outputs": [],
   "source": [
    "import pandas as pd\n",
    "import numpy as np\n",
    "import pandas as pd\n",
    "import numpy as np\n",
    "import re\n",
    "import string\n",
    "import unicodedata\n",
    "import plotly_express as px\n",
    "import plotly.io as pio\n",
    "from sklearn import preprocessing\n",
    "import pandas_profiling\n",
    "import datetime\n",
    "%matplotlib inline\n",
    "import matplotlib.style\n",
    "import matplotlib as mpl\n",
    "import matplotlib.pyplot as plt \n",
    "from sklearn import preprocessing\n",
    "import warnings\n",
    "import math\n",
    "\n",
    "warnings.filterwarnings(\"ignore\")\n"
   ]
  },
  {
   "cell_type": "code",
   "execution_count": 2,
   "metadata": {},
   "outputs": [
    {
     "data": {
      "text/plain": [
       "'/Users/joaocamargo/macHD/GITHUB/TCC-PUCRS-2020'"
      ]
     },
     "execution_count": 2,
     "metadata": {},
     "output_type": "execute_result"
    }
   ],
   "source": [
    "pwd"
   ]
  },
  {
   "cell_type": "code",
   "execution_count": 3,
   "metadata": {},
   "outputs": [
    {
     "name": "stdout",
     "output_type": "stream",
     "text": [
      "total 9424\r\n",
      "-rw-r--r--  1 joaocamargo  staff  3301959 Apr 21 10:13 count_day_type.csv\r\n",
      "-rw-r--r--  1 joaocamargo  staff   124920 Apr 21 10:13 count_day.csv\r\n",
      "-rw-r--r--  1 joaocamargo  staff    24972 Apr 21 10:13 count_week_day_type.csv\r\n",
      "-rw-r--r--  1 joaocamargo  staff      138 Apr 21 10:13 count_week_day.csv\r\n",
      "-rw-r--r--  1 joaocamargo  staff   386439 Apr 21 10:13 count_year_month_type.csv\r\n",
      "-rw-r--r--  1 joaocamargo  staff     4827 Apr 21 10:13 count_year_month.csv\r\n"
     ]
    }
   ],
   "source": [
    "ls -ltr Data/"
   ]
  },
  {
   "cell_type": "code",
   "execution_count": 4,
   "metadata": {},
   "outputs": [],
   "source": [
    "df_count_day_type = pd.read_csv('./Data/count_day_type.csv',sep=\",\",encoding='ascii')\n",
    "df_count_week_day_type = pd.read_csv('Data/count_week_day_type.csv',sep=\",\",encoding='ascii')\n",
    "df_count_year_month_type = pd.read_csv('Data/count_year_month_type.csv',sep=\",\",encoding='ascii')\n",
    "\n",
    "del df_count_day_type['Unnamed: 0']\n",
    "#del df_count_day['Unnamed: 0']\n",
    "del df_count_week_day_type['Unnamed: 0']\n",
    "#del df_count_week_day['Unnamed: 0']\n",
    "del df_count_year_month_type['Unnamed: 0']\n",
    "#del df_count_year_month['Unnamed: 0']"
   ]
  },
  {
   "cell_type": "code",
   "execution_count": 5,
   "metadata": {},
   "outputs": [
    {
     "data": {
      "text/html": [
       "<div>\n",
       "<style scoped>\n",
       "    .dataframe tbody tr th:only-of-type {\n",
       "        vertical-align: middle;\n",
       "    }\n",
       "\n",
       "    .dataframe tbody tr th {\n",
       "        vertical-align: top;\n",
       "    }\n",
       "\n",
       "    .dataframe thead th {\n",
       "        text-align: right;\n",
       "    }\n",
       "</style>\n",
       "<table border=\"1\" class=\"dataframe\">\n",
       "  <thead>\n",
       "    <tr style=\"text-align: right;\">\n",
       "      <th></th>\n",
       "      <th>judgmentDate</th>\n",
       "      <th>type</th>\n",
       "      <th>count</th>\n",
       "    </tr>\n",
       "  </thead>\n",
       "  <tbody>\n",
       "    <tr>\n",
       "      <th>0</th>\n",
       "      <td>2000-01-03</td>\n",
       "      <td>Agravo de Instrumento</td>\n",
       "      <td>2</td>\n",
       "    </tr>\n",
       "  </tbody>\n",
       "</table>\n",
       "</div>"
      ],
      "text/plain": [
       "  judgmentDate                   type  count\n",
       "0   2000-01-03  Agravo de Instrumento      2"
      ]
     },
     "metadata": {},
     "output_type": "display_data"
    },
    {
     "data": {
      "text/html": [
       "<div>\n",
       "<style scoped>\n",
       "    .dataframe tbody tr th:only-of-type {\n",
       "        vertical-align: middle;\n",
       "    }\n",
       "\n",
       "    .dataframe tbody tr th {\n",
       "        vertical-align: top;\n",
       "    }\n",
       "\n",
       "    .dataframe thead th {\n",
       "        text-align: right;\n",
       "    }\n",
       "</style>\n",
       "<table border=\"1\" class=\"dataframe\">\n",
       "  <thead>\n",
       "    <tr style=\"text-align: right;\">\n",
       "      <th></th>\n",
       "      <th>weekDay</th>\n",
       "      <th>type</th>\n",
       "      <th>count</th>\n",
       "    </tr>\n",
       "  </thead>\n",
       "  <tbody>\n",
       "    <tr>\n",
       "      <th>0</th>\n",
       "      <td>Sun</td>\n",
       "      <td>A\\xc3\\xa7\\xc3\\xa3o Civil P\\xc3\\xbablica</td>\n",
       "      <td>2</td>\n",
       "    </tr>\n",
       "  </tbody>\n",
       "</table>\n",
       "</div>"
      ],
      "text/plain": [
       "  weekDay                                     type  count\n",
       "0     Sun  A\\xc3\\xa7\\xc3\\xa3o Civil P\\xc3\\xbablica      2"
      ]
     },
     "metadata": {},
     "output_type": "display_data"
    },
    {
     "data": {
      "text/html": [
       "<div>\n",
       "<style scoped>\n",
       "    .dataframe tbody tr th:only-of-type {\n",
       "        vertical-align: middle;\n",
       "    }\n",
       "\n",
       "    .dataframe tbody tr th {\n",
       "        vertical-align: top;\n",
       "    }\n",
       "\n",
       "    .dataframe thead th {\n",
       "        text-align: right;\n",
       "    }\n",
       "</style>\n",
       "<table border=\"1\" class=\"dataframe\">\n",
       "  <thead>\n",
       "    <tr style=\"text-align: right;\">\n",
       "      <th></th>\n",
       "      <th>yearMonth</th>\n",
       "      <th>type</th>\n",
       "      <th>count</th>\n",
       "    </tr>\n",
       "  </thead>\n",
       "  <tbody>\n",
       "    <tr>\n",
       "      <th>0</th>\n",
       "      <td>2000-01-01</td>\n",
       "      <td>Agravo de Instrumento</td>\n",
       "      <td>12</td>\n",
       "    </tr>\n",
       "  </tbody>\n",
       "</table>\n",
       "</div>"
      ],
      "text/plain": [
       "    yearMonth                   type  count\n",
       "0  2000-01-01  Agravo de Instrumento     12"
      ]
     },
     "metadata": {},
     "output_type": "display_data"
    }
   ],
   "source": [
    "#dataFrames = [df_count_day_type,df_count_day,df_count_week_day_type,df_count_week_day,df_count_year_month_type,df_count_year_month]\n",
    "dataFrames = [df_count_day_type,df_count_week_day_type,df_count_year_month_type]\n",
    "for df in dataFrames:\n",
    "    display(df.head(1))"
   ]
  },
  {
   "cell_type": "code",
   "execution_count": 6,
   "metadata": {},
   "outputs": [],
   "source": [
    "#verificar feriados \n",
    "def isHoliday(dia,mes):\n",
    "    if dia == 1:\n",
    "        if mes == 1 or mes ==5:\n",
    "            return(True)\n",
    "    if (dia ==2 or dia==15) and mes==11:\n",
    "        return(True)\n",
    "    if (dia ==7 or dia==20) and mes == 9:\n",
    "        return(True)\n",
    "    if mes == 4 and (dia ==10 or dia ==12 or dia==21):\n",
    "        return(True)\n",
    "    if dia ==24 and mes == 6:\n",
    "        return(True)\n",
    "    if mes==10 and (dia==12 or dia==28):\n",
    "        return(True)\n",
    "    if mes==12 and dia ==25:\n",
    "        return(True)\n",
    "    return(False)   "
   ]
  },
  {
   "cell_type": "code",
   "execution_count": 7,
   "metadata": {},
   "outputs": [
    {
     "name": "stdout",
     "output_type": "stream",
     "text": [
      "formato:  4\n",
      "-\n"
     ]
    }
   ],
   "source": [
    "#transformar data \n",
    "# adiciona coluna de dia da semana  (segunda=0,terça=1,quarta=2,quinta=3, sexta=4,sabado=5,domingo=6)\n",
    "for df in [df_count_day_type]:\n",
    "    if df['judgmentDate'].dtype != 'datetime64[ns]':\n",
    "        character = df['judgmentDate'].str.replace('\\d+','')[2][1]\n",
    "        formato=''\n",
    "        print('formato: ',df['judgmentDate'].str.find(character)[0])\n",
    "        if df['judgmentDate'].str.find(character)[0] ==4:\n",
    "            formato = '%Y{0}%m{0}%d'\n",
    "        else:\n",
    "            formato = '%d{0}%m{0}%Y'\n",
    "        print(character)\n",
    "    df['judgmentDate'] = pd.to_datetime(df['judgmentDate'],format=formato.format(character))\n",
    "    df['weekDay'] = df['judgmentDate'].apply(lambda x: x.weekday())\n",
    "    df['weekType'] = df['judgmentDate'].apply(lambda x: 'DiaSemana' if x.weekday()<5 else 'FimSemana')\n",
    "    df['Dia'] = df['judgmentDate'].apply(lambda x: x.day)   \n",
    "    df['Mes'] = df['judgmentDate'].apply(lambda x: x.month)  \n",
    "    df['Ano'] = df['judgmentDate'].apply(lambda x: x.year)  \n",
    "    df['Feriado'] = df['judgmentDate'].apply(lambda x: isHoliday(x.day,x.month))  "
   ]
  },
  {
   "cell_type": "code",
   "execution_count": 8,
   "metadata": {},
   "outputs": [],
   "source": [
    "def elementdecode(x):\n",
    "    #if the first condition if not met, the second is not evaluated\n",
    "    if (type(x) == str):        \n",
    "        bb=x.encode()\n",
    "        cc = bb.decode('unicode-escape').encode('ISO-8859-1')                \n",
    "        return(cc.decode('utf-8'))\n",
    "    else:                \n",
    "        return x.decode('utf-8')"
   ]
  },
  {
   "cell_type": "code",
   "execution_count": 9,
   "metadata": {},
   "outputs": [],
   "source": [
    "df_count_day_type['type'] = df_count_day_type['type'].apply(lambda x: elementdecode(x))\n",
    "df_count_week_day_type['type'] = df_count_week_day_type['type'].apply(lambda x: elementdecode(x))\n",
    "df_count_year_month_type['type'] = df_count_year_month_type['type'].apply(lambda x: elementdecode(x))"
   ]
  },
  {
   "cell_type": "code",
   "execution_count": 10,
   "metadata": {},
   "outputs": [
    {
     "data": {
      "text/html": [
       "<div>\n",
       "<style scoped>\n",
       "    .dataframe tbody tr th:only-of-type {\n",
       "        vertical-align: middle;\n",
       "    }\n",
       "\n",
       "    .dataframe tbody tr th {\n",
       "        vertical-align: top;\n",
       "    }\n",
       "\n",
       "    .dataframe thead th {\n",
       "        text-align: right;\n",
       "    }\n",
       "</style>\n",
       "<table border=\"1\" class=\"dataframe\">\n",
       "  <thead>\n",
       "    <tr style=\"text-align: right;\">\n",
       "      <th></th>\n",
       "      <th>judgmentDate</th>\n",
       "      <th>type</th>\n",
       "      <th>count</th>\n",
       "      <th>weekDay</th>\n",
       "      <th>weekType</th>\n",
       "      <th>Dia</th>\n",
       "      <th>Mes</th>\n",
       "      <th>Ano</th>\n",
       "      <th>Feriado</th>\n",
       "    </tr>\n",
       "  </thead>\n",
       "  <tbody>\n",
       "    <tr>\n",
       "      <th>0</th>\n",
       "      <td>2000-01-03</td>\n",
       "      <td>Agravo de Instrumento</td>\n",
       "      <td>2</td>\n",
       "      <td>0</td>\n",
       "      <td>DiaSemana</td>\n",
       "      <td>3</td>\n",
       "      <td>1</td>\n",
       "      <td>2000</td>\n",
       "      <td>False</td>\n",
       "    </tr>\n",
       "  </tbody>\n",
       "</table>\n",
       "</div>"
      ],
      "text/plain": [
       "  judgmentDate                   type  count  weekDay   weekType  Dia  Mes  \\\n",
       "0   2000-01-03  Agravo de Instrumento      2        0  DiaSemana    3    1   \n",
       "\n",
       "    Ano  Feriado  \n",
       "0  2000    False  "
      ]
     },
     "metadata": {},
     "output_type": "display_data"
    },
    {
     "data": {
      "text/html": [
       "<div>\n",
       "<style scoped>\n",
       "    .dataframe tbody tr th:only-of-type {\n",
       "        vertical-align: middle;\n",
       "    }\n",
       "\n",
       "    .dataframe tbody tr th {\n",
       "        vertical-align: top;\n",
       "    }\n",
       "\n",
       "    .dataframe thead th {\n",
       "        text-align: right;\n",
       "    }\n",
       "</style>\n",
       "<table border=\"1\" class=\"dataframe\">\n",
       "  <thead>\n",
       "    <tr style=\"text-align: right;\">\n",
       "      <th></th>\n",
       "      <th>weekDay</th>\n",
       "      <th>type</th>\n",
       "      <th>count</th>\n",
       "    </tr>\n",
       "  </thead>\n",
       "  <tbody>\n",
       "    <tr>\n",
       "      <th>0</th>\n",
       "      <td>Sun</td>\n",
       "      <td>Ação Civil Pública</td>\n",
       "      <td>2</td>\n",
       "    </tr>\n",
       "  </tbody>\n",
       "</table>\n",
       "</div>"
      ],
      "text/plain": [
       "  weekDay                type  count\n",
       "0     Sun  Ação Civil Pública      2"
      ]
     },
     "metadata": {},
     "output_type": "display_data"
    },
    {
     "data": {
      "text/html": [
       "<div>\n",
       "<style scoped>\n",
       "    .dataframe tbody tr th:only-of-type {\n",
       "        vertical-align: middle;\n",
       "    }\n",
       "\n",
       "    .dataframe tbody tr th {\n",
       "        vertical-align: top;\n",
       "    }\n",
       "\n",
       "    .dataframe thead th {\n",
       "        text-align: right;\n",
       "    }\n",
       "</style>\n",
       "<table border=\"1\" class=\"dataframe\">\n",
       "  <thead>\n",
       "    <tr style=\"text-align: right;\">\n",
       "      <th></th>\n",
       "      <th>yearMonth</th>\n",
       "      <th>type</th>\n",
       "      <th>count</th>\n",
       "    </tr>\n",
       "  </thead>\n",
       "  <tbody>\n",
       "    <tr>\n",
       "      <th>0</th>\n",
       "      <td>2000-01-01</td>\n",
       "      <td>Agravo de Instrumento</td>\n",
       "      <td>12</td>\n",
       "    </tr>\n",
       "  </tbody>\n",
       "</table>\n",
       "</div>"
      ],
      "text/plain": [
       "    yearMonth                   type  count\n",
       "0  2000-01-01  Agravo de Instrumento     12"
      ]
     },
     "metadata": {},
     "output_type": "display_data"
    }
   ],
   "source": [
    "for df in dataFrames:\n",
    "    display(df.head(1))"
   ]
  },
  {
   "cell_type": "markdown",
   "metadata": {},
   "source": [
    "\n",
    "<div class=\"alert alert-info\"><h1> Export dos CVS já tratados\n",
    "</h1>\n",
    "    <hr/>\n",
    "</div>\n"
   ]
  },
  {
   "cell_type": "code",
   "execution_count": 11,
   "metadata": {},
   "outputs": [],
   "source": [
    "df_count_day_type.to_csv('./data_joao/df_count_day_type_modificado.csv')\n",
    "df_count_week_day_type.to_csv('./data_joao/df_count_week_day_type_modificado.csv')\n",
    "df_count_year_month_type.to_csv('./data_joao/df_count_year_month_type_modificado.csv')"
   ]
  }
 ],
 "metadata": {
  "kernelspec": {
   "display_name": "Python 3",
   "language": "python",
   "name": "python3"
  },
  "language_info": {
   "codemirror_mode": {
    "name": "ipython",
    "version": 3
   },
   "file_extension": ".py",
   "mimetype": "text/x-python",
   "name": "python",
   "nbconvert_exporter": "python",
   "pygments_lexer": "ipython3",
   "version": "3.7.6"
  }
 },
 "nbformat": 4,
 "nbformat_minor": 4
}
