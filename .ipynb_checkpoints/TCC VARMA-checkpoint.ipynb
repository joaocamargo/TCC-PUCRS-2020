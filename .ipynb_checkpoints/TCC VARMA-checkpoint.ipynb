{
 "cells": [
  {
   "cell_type": "code",
   "execution_count": 1,
   "metadata": {},
   "outputs": [
    {
     "name": "stderr",
     "output_type": "stream",
     "text": [
      "/usr/local/Cellar/python/3.7.6_1/Frameworks/Python.framework/Versions/3.7/lib/python3.7/importlib/_bootstrap.py:219: RuntimeWarning:\n",
      "\n",
      "numpy.ufunc size changed, may indicate binary incompatibility. Expected 192 from C header, got 216 from PyObject\n",
      "\n",
      "/usr/local/Cellar/python/3.7.6_1/Frameworks/Python.framework/Versions/3.7/lib/python3.7/importlib/_bootstrap.py:219: RuntimeWarning:\n",
      "\n",
      "numpy.ufunc size changed, may indicate binary incompatibility. Expected 192 from C header, got 216 from PyObject\n",
      "\n",
      "/usr/local/Cellar/python/3.7.6_1/Frameworks/Python.framework/Versions/3.7/lib/python3.7/importlib/_bootstrap.py:219: RuntimeWarning:\n",
      "\n",
      "numpy.ufunc size changed, may indicate binary incompatibility. Expected 192 from C header, got 216 from PyObject\n",
      "\n",
      "/usr/local/Cellar/python/3.7.6_1/Frameworks/Python.framework/Versions/3.7/lib/python3.7/importlib/_bootstrap.py:219: RuntimeWarning:\n",
      "\n",
      "numpy.ufunc size changed, may indicate binary incompatibility. Expected 192 from C header, got 216 from PyObject\n",
      "\n",
      "/usr/local/Cellar/python/3.7.6_1/Frameworks/Python.framework/Versions/3.7/lib/python3.7/importlib/_bootstrap.py:219: RuntimeWarning:\n",
      "\n",
      "numpy.ufunc size changed, may indicate binary incompatibility. Expected 192 from C header, got 216 from PyObject\n",
      "\n"
     ]
    },
    {
     "name": "stdout",
     "output_type": "stream",
     "text": [
      "scipy: 1.4.1\n",
      "numpy: 1.18.2\n",
      "matplotlib: 3.2.1\n",
      "pandas: 1.0.3\n",
      "sklearn: 0.22.2.post1\n",
      "statsmodels: 0.11.1\n"
     ]
    }
   ],
   "source": [
    "import pandas as pd\n",
    "import numpy as np\n",
    "import re\n",
    "import string\n",
    "import unicodedata\n",
    "import plotly_express as px\n",
    "import plotly.io as pio\n",
    "from sklearn import preprocessing\n",
    "import pandas_profiling\n",
    "import datetime\n",
    "%matplotlib inline\n",
    "import matplotlib.style\n",
    "import matplotlib as mpl\n",
    "import matplotlib.pyplot as plt \n",
    "from sklearn import preprocessing\n",
    "import warnings\n",
    "import math\n",
    "import plotly.express as px\n",
    "import statsmodels\n",
    "import scipy\n",
    "import sklearn\n",
    "from statsmodels.tsa.seasonal import seasonal_decompose      # for ETS Plots\n",
    "from pmdarima import auto_arima                              # for determining ARIMA orders\n",
    "from statsmodels.tsa.statespace.sarimax import SARIMAX\n",
    "from pmdarima import auto_arima\n",
    "from statsmodels.tsa.statespace.tools import diff\n",
    "from statsmodels.tsa.arima.model import ARIMA\n",
    "from statsmodels.tools.eval_measures import rmse\n",
    "from sklearn.metrics import mean_squared_error\n",
    "from statsmodels.tsa.holtwinters import SimpleExpSmoothing\n",
    "from statsmodels.tsa.holtwinters import ExponentialSmoothing\n",
    "from statsmodels.tsa.api import VAR\n",
    "from statsmodels.tsa.statespace.varmax import VARMAX,VARMAXResults\n",
    "\n",
    "\n",
    "import math\n",
    "\n",
    "\n",
    "warnings.filterwarnings(\"ignore\")\n",
    "\n",
    "# scipy\n",
    "print('scipy: %s' % scipy.__version__)\n",
    "# numpy\n",
    "print('numpy: %s' % np.__version__)\n",
    "# matplotlib\n",
    "print('matplotlib: %s' % matplotlib.__version__)\n",
    "# pandas\n",
    "print('pandas: %s' % pd.__version__)\n",
    "# scikit-learn\n",
    "print('sklearn: %s' % sklearn.__version__)\n",
    "# statsmodels\n",
    "print('statsmodels: %s' % statsmodels.__version__)\n",
    "#print('unicodedata: %s' % unicodedata.__version__)"
   ]
  },
  {
   "cell_type": "code",
   "execution_count": 2,
   "metadata": {},
   "outputs": [],
   "source": [
    "#verificar feriados \n",
    "def isHoliday(dia,mes):\n",
    "    if dia == 1:\n",
    "        if mes == 1 or mes ==5:\n",
    "            return(True)\n",
    "    if (dia ==2 or dia==15) and mes==11:\n",
    "        return(True)\n",
    "    if (dia ==7 or dia==20) and mes == 9:\n",
    "        return(True)\n",
    "    if mes == 4 and dia==21:\n",
    "        return(True)    \n",
    "    if mes==10 and (dia==12):\n",
    "        return(True)\n",
    "    if mes==12 and (dia ==25 or dia ==24):\n",
    "        return(True)\n",
    "    if mes==12 and dia==31:\n",
    "        return(True)\n",
    "    return(False)   \n",
    "\n",
    "def AdjustFeriado(x):\n",
    "    #print(x)\n",
    "    if x['Feriado'] == 0 or x['Feriado'] == 1:\n",
    "        return(x['Feriado'])\n",
    "       # print('else')\n",
    "       # print(x['Feriado'] >=0)\n",
    "    else:\n",
    "        dia = x['judgmentDate'].day\n",
    "        mes = x['judgmentDate'].month \n",
    "        feriado = 0 if isHoliday(dia,mes) == True else 1\n",
    "        return(feriado)\n",
    "    \n",
    "def AdjustWeekDay(x):    \n",
    "    if x['weekDay'] > 0:\n",
    "        return(x['weekDay'])\n",
    "    else:\n",
    "        return(x['judgmentDate'].weekday())        \n",
    "    \n",
    "def AdjustWeekType(x):    \n",
    "    if x['weekType'] > 0:\n",
    "        return(x['weekType'])\n",
    "    else:\n",
    "        weekType = 1 if x['judgmentDate'].weekday() <5 else 0\n",
    "        return(weekType)     "
   ]
  },
  {
   "cell_type": "code",
   "execution_count": 3,
   "metadata": {},
   "outputs": [],
   "source": [
    "from statsmodels.tsa.stattools import adfuller\n",
    "\n",
    "def adf_teste(series,title='',prints=False):    \n",
    "    summay = ''\n",
    "    if prints:\n",
    "        print(f'Augmented Dickey-Fuller Test: {title}')\n",
    "    result = adfuller(series.dropna(),autolag='AIC',) \n",
    "    \n",
    "    labels = ['ADF test statistic','p-value','# lags used','# observations']\n",
    "    out = pd.Series(result[0:4],index=labels)\n",
    "\n",
    "    for key,val in result[4].items():        \n",
    "        out[f'critical value ({key})']=val\n",
    "        \n",
    "    if prints:\n",
    "        display(pd.DataFrame(out))\n",
    "    \n",
    "    \n",
    "    \n",
    "    if result[1] <= 0.05:\n",
    "        summary = \"Strong evidence against the null hypothesis \\n Reject the null hypothesis \\n Data has no unit root and is stationary\"\n",
    "        if prints:\n",
    "            print(\"Strong evidence against the null hypothesis\")\n",
    "            print(\"Reject the null hypothesis\")\n",
    "            print(\"Data has no unit root and is stationary\")        \n",
    "    else:\n",
    "        summary = \"Weak evidence against the null hypothesis \\n Fail to reject the null hypothesis \\n Data has a unit root and is non-stationary\"\n",
    "        if prints:\n",
    "            print(\"Weak evidence against the null hypothesis\")\n",
    "            print(\"Fail to reject the null hypothesis\")\n",
    "            print(\"Data has a unit root and is non-stationary\")\n",
    "            \n",
    "    \n",
    "    return(result[1],title,result[0],result[2],result[3],result[4],result[5],summary) "
   ]
  },
  {
   "cell_type": "code",
   "execution_count": 4,
   "metadata": {},
   "outputs": [],
   "source": [
    "#carrega\n",
    "df_count_day_type = pd.read_csv('./data_joao/df_count_day_type_modificado.csv',sep=\",\")#,parse_dates=['judgmentDate'])\n",
    "df_count_week_day_type = pd.read_csv('./data_joao/df_count_week_day_type_modificado.csv',sep=\",\")\n",
    "df_count_year_month_type = pd.read_csv('./data_joao/df_count_year_month_type_modificado.csv',sep=\",\")\n",
    "\n",
    "dfUniqueTypes = df_count_day_type['type'].unique()\n",
    "\n",
    "#cria indice\n",
    "df_count_day_type.index = pd.to_datetime(df_count_day_type['judgmentDate'])\n",
    "df_count_year_month_type.index = pd.to_datetime(df_count_year_month_type['yearMonth'])\n",
    "\n",
    "#deleta colunas que sobraram da importacao e da criacao do indice\n",
    "del df_count_day_type['Unnamed: 0']\n",
    "del df_count_week_day_type['Unnamed: 0']\n",
    "del df_count_year_month_type['Unnamed: 0']\n",
    "del df_count_day_type['judgmentDate']\n",
    "del df_count_year_month_type['yearMonth']\n",
    "\n",
    "#calcula o total do dia\n",
    "df_count_day_type['total'] = df_count_day_type.groupby(['judgmentDate'])['count'].agg('sum')\n",
    "#salva as informacoes que nao serao pivotadas\n",
    "ref = df_count_day_type[['weekDay','weekType','Feriado','total']]\n",
    "#realiza o pivot\n",
    "df_count_day_typeGRP = df_count_day_type.pivot(columns='type', values='count').fillna(0)\n",
    "\n",
    "#transforma tudo pra int (count)\n",
    "for i in df_count_day_typeGRP.columns:    \n",
    "        df_count_day_typeGRP[i] = df_count_day_typeGRP[i].astype(int)\n",
    "        \n",
    "#faz o merge com as que foram salvas antes do pivot        \n",
    "df_count_day_typeGRP = pd.merge(df_count_day_typeGRP,ref,on='judgmentDate',how='left')\n",
    "df_count_day_typeGRP = df_count_day_typeGRP.fillna(0)\n",
    "df_count_day_typeGRP = df_count_day_typeGRP.sort_values(by='judgmentDate').drop_duplicates()\n",
    "\n",
    "#remove duplicadas e nulas pra fazer a frequencia diaria\n",
    "df_count_day_typeGRP = df_count_day_typeGRP.sort_values(by='judgmentDate')\n",
    "df_count_day_typeGRP = df_count_day_typeGRP.drop_duplicates()\n",
    "df_count_day_typeGRP = df_count_day_typeGRP.dropna()\n",
    "\n",
    "\n",
    "df_count_day_typeGRP.sort_values(by='judgmentDate')\n",
    "df_count_day_typeGRP['Feriado'] = df_count_day_typeGRP['Feriado'].apply( lambda x: 0 if x==True else 1)\n",
    "df_count_day_typeGRP['weekType'] = pd.get_dummies(df_count_day_typeGRP['weekType'])\n",
    "df_count_day_typeGRP = df_count_day_typeGRP.asfreq('D') #precisa pois abaixo seto os que faltam\n",
    "\n",
    "#reseta o indice agora com todos os dias inclusive vazios e seta as informaçoes das datas novas (sem dados)\n",
    "df_count_day_typeGRP = df_count_day_typeGRP.reset_index()    \n",
    "df_count_day_typeGRP['Feriado'] = df_count_day_typeGRP.apply(AdjustFeriado,axis=1)\n",
    "df_count_day_typeGRP['weekDay'] = df_count_day_typeGRP.apply(AdjustWeekDay,axis=1)\n",
    "df_count_day_typeGRP['weekType'] = df_count_day_typeGRP.apply(AdjustWeekType,axis=1)\n",
    "\n",
    "#volta ao estado normal (com indice e frequencia)\n",
    "df_count_day_typeGRP.index = df_count_day_typeGRP['judgmentDate']\n",
    "del df_count_day_typeGRP['judgmentDate']\n",
    "df_count_day_typeGRP = df_count_day_typeGRP.asfreq('D')\n",
    "\n",
    "#seta para zerado as datas que nao existiam antes \n",
    "df_count_day_typeGRP = df_count_day_typeGRP.fillna(0)\n",
    "\n",
    "for i in df_count_day_typeGRP.columns:    \n",
    "        df_count_day_typeGRP[i] = df_count_day_typeGRP[i].astype(int)\n"
   ]
  },
  {
   "cell_type": "code",
   "execution_count": 5,
   "metadata": {},
   "outputs": [],
   "source": [
    "df_count_day_typeGRP.head(3)\n",
    "df = df_count_day_typeGRP\n",
    "dfMonth = df.resample('MS').sum()\n",
    "dfQuarter = df.resample('QS').sum()\n",
    "dfYear = df.resample('Y').sum()\n",
    "figsize=(12,8)\n",
    "field = 'total'"
   ]
  },
  {
   "cell_type": "code",
   "execution_count": 13,
   "metadata": {},
   "outputs": [
    {
     "data": {
      "text/plain": [
       "'Apelação Cível'"
      ]
     },
     "execution_count": 13,
     "metadata": {},
     "output_type": "execute_result"
    }
   ],
   "source": [
    "dfUniqueTypes[1]"
   ]
  },
  {
   "cell_type": "code",
   "execution_count": 31,
   "metadata": {},
   "outputs": [],
   "source": [
    "typeOne = dfUniqueTypes[1]\n"
   ]
  },
  {
   "cell_type": "code",
   "execution_count": 25,
   "metadata": {},
   "outputs": [
    {
     "data": {
      "text/plain": [
       "ARIMA(maxiter=1000, method='lbfgs', order=(3, 1, 3), out_of_sample_size=0,\n",
       "      scoring='mse', scoring_args=None, seasonal_order=(0, 0, 0, 0),\n",
       "      start_params=None, suppress_warnings=False, trend=None,\n",
       "      with_intercept=True)"
      ]
     },
     "execution_count": 25,
     "metadata": {},
     "output_type": "execute_result"
    }
   ],
   "source": [
    "auto_arima(dfMonth[typeOne],maxiter=1000)"
   ]
  },
  {
   "cell_type": "code",
   "execution_count": 36,
   "metadata": {},
   "outputs": [
    {
     "data": {
      "text/plain": [
       "ARIMA(maxiter=1000, method='lbfgs', order=(2, 0, 2), out_of_sample_size=0,\n",
       "      scoring='mse', scoring_args=None, seasonal_order=(0, 0, 0, 0),\n",
       "      start_params=None, suppress_warnings=False, trend=None,\n",
       "      with_intercept=True)"
      ]
     },
     "execution_count": 36,
     "metadata": {},
     "output_type": "execute_result"
    }
   ],
   "source": [
    "typeTwo = dfUniqueTypes[10]\n",
    "auto_arima(dfMonth[typeTwo],maxiter=1000)"
   ]
  },
  {
   "cell_type": "code",
   "execution_count": null,
   "metadata": {},
   "outputs": [],
   "source": []
  },
  {
   "cell_type": "code",
   "execution_count": null,
   "metadata": {},
   "outputs": [],
   "source": []
  },
  {
   "cell_type": "code",
   "execution_count": 42,
   "metadata": {},
   "outputs": [
    {
     "data": {
      "text/plain": [
       "(216, 2)"
      ]
     },
     "execution_count": 42,
     "metadata": {},
     "output_type": "execute_result"
    }
   ],
   "source": [
    "dfVAR = dfMonth[[typeOne,typeTwo]]\n",
    "dfVAR.shape"
   ]
  },
  {
   "cell_type": "code",
   "execution_count": 43,
   "metadata": {},
   "outputs": [
    {
     "data": {
      "text/plain": [
       "<matplotlib.axes._subplots.AxesSubplot at 0x12c5709d0>"
      ]
     },
     "execution_count": 43,
     "metadata": {},
     "output_type": "execute_result"
    },
    {
     "data": {
      "image/png": "[encoded data removed]",
      "text/plain": [
       "<Figure size 864x576 with 1 Axes>"
      ]
     },
     "metadata": {
      "needs_background": "light"
     },
     "output_type": "display_data"
    }
   ],
   "source": [
    "dfVAR.plot(figsize=figsize)"
   ]
  },
  {
   "cell_type": "code",
   "execution_count": 86,
   "metadata": {},
   "outputs": [],
   "source": [
    "pd.DataFrame(adf_teste(dfVAR[typeOne]),adf_teste(dfVAR[typeTwo]))\n",
    "dfVarDiff = dfVAR.diff().diff()"
   ]
  },
  {
   "cell_type": "code",
   "execution_count": 87,
   "metadata": {},
   "outputs": [
    {
     "data": {
      "text/html": [
       "<div>\n",
       "<style scoped>\n",
       "    .dataframe tbody tr th:only-of-type {\n",
       "        vertical-align: middle;\n",
       "    }\n",
       "\n",
       "    .dataframe tbody tr th {\n",
       "        vertical-align: top;\n",
       "    }\n",
       "\n",
       "    .dataframe thead th {\n",
       "        text-align: right;\n",
       "    }\n",
       "</style>\n",
       "<table border=\"1\" class=\"dataframe\">\n",
       "  <thead>\n",
       "    <tr style=\"text-align: right;\">\n",
       "      <th></th>\n",
       "      <th>0</th>\n",
       "    </tr>\n",
       "  </thead>\n",
       "  <tbody>\n",
       "    <tr>\n",
       "      <th>3.8763657633324606e-13</th>\n",
       "      <td>5.4176e-18</td>\n",
       "    </tr>\n",
       "    <tr>\n",
       "      <th></th>\n",
       "      <td></td>\n",
       "    </tr>\n",
       "    <tr>\n",
       "      <th>-8.307135400064642</th>\n",
       "      <td>-10.218</td>\n",
       "    </tr>\n",
       "    <tr>\n",
       "      <th>13</th>\n",
       "      <td>15</td>\n",
       "    </tr>\n",
       "    <tr>\n",
       "      <th>200</th>\n",
       "      <td>198</td>\n",
       "    </tr>\n",
       "    <tr>\n",
       "      <th>{'1%': -3.463476079125, '5%': -2.876102355, '10%': -2.574532225}</th>\n",
       "      <td>{'1%': -3.4638151713286316, '5%': -2.876250632...</td>\n",
       "    </tr>\n",
       "    <tr>\n",
       "      <th>1889.9460389840376</th>\n",
       "      <td>3504.96</td>\n",
       "    </tr>\n",
       "    <tr>\n",
       "      <th>Strong evidence against the null hypothesis \\n Reject the null hypothesis \\n Data has no unit root and is stationary</th>\n",
       "      <td>Strong evidence against the null hypothesis \\n...</td>\n",
       "    </tr>\n",
       "  </tbody>\n",
       "</table>\n",
       "</div>"
      ],
      "text/plain": [
       "                                                                                                    0\n",
       "3.8763657633324606e-13                                                                     5.4176e-18\n",
       "                                                                                                     \n",
       "-8.307135400064642                                                                            -10.218\n",
       "13                                                                                                 15\n",
       "200                                                                                               198\n",
       "{'1%': -3.463476079125, '5%': -2.876102355, '10...  {'1%': -3.4638151713286316, '5%': -2.876250632...\n",
       "1889.9460389840376                                                                            3504.96\n",
       "Strong evidence against the null hypothesis \\n ...  Strong evidence against the null hypothesis \\n..."
      ]
     },
     "execution_count": 87,
     "metadata": {},
     "output_type": "execute_result"
    }
   ],
   "source": [
    "pd.DataFrame(adf_teste(dfVarDiff[typeOne]),adf_teste(dfVarDiff[typeTwo]))"
   ]
  },
  {
   "cell_type": "code",
   "execution_count": 88,
   "metadata": {},
   "outputs": [
    {
     "data": {
      "text/plain": [
       "(215, 2)"
      ]
     },
     "execution_count": 88,
     "metadata": {},
     "output_type": "execute_result"
    }
   ],
   "source": [
    "dfVarDiff = dfVAR.diff().dropna()\n",
    "dfVarDiff.shape"
   ]
  },
  {
   "cell_type": "code",
   "execution_count": 89,
   "metadata": {},
   "outputs": [],
   "source": [
    "#um of obs\n",
    "nobs =12"
   ]
  },
  {
   "cell_type": "code",
   "execution_count": 90,
   "metadata": {},
   "outputs": [],
   "source": [
    "train = dfVarDiff[:-nobs]\n",
    "test = dfVarDiff[-nobs:]"
   ]
  },
  {
   "cell_type": "code",
   "execution_count": 91,
   "metadata": {},
   "outputs": [
    {
     "name": "stdout",
     "output_type": "stream",
     "text": [
      "Apelação Cível    203\n",
      "Agravo Interno    203\n",
      "dtype: int64\n"
     ]
    },
    {
     "data": {
      "text/html": [
       "<table class=\"simpletable\">\n",
       "<caption>Statespace Model Results</caption>\n",
       "<tr>\n",
       "  <th>Dep. Variable:</th>   <td>['Apelação Cível', 'Agravo Interno']</td> <th>  No. Observations:  </th>    <td>203</td>   \n",
       "</tr>\n",
       "<tr>\n",
       "  <th>Model:</th>                          <td>VAR(1)</td>                <th>  Log Likelihood     </th> <td>-2863.549</td>\n",
       "</tr>\n",
       "<tr>\n",
       "  <th></th>                              <td>+ intercept</td>             <th>  AIC                </th> <td>5745.099</td> \n",
       "</tr>\n",
       "<tr>\n",
       "  <th>Date:</th>                      <td>Sun, 10 May 2020</td>           <th>  BIC                </th> <td>5774.918</td> \n",
       "</tr>\n",
       "<tr>\n",
       "  <th>Time:</th>                          <td>23:27:24</td>               <th>  HQIC               </th> <td>5757.162</td> \n",
       "</tr>\n",
       "<tr>\n",
       "  <th>Sample:</th>                       <td>02-01-2000</td>              <th>                     </th>     <td> </td>    \n",
       "</tr>\n",
       "<tr>\n",
       "  <th></th>                             <td>- 12-01-2016</td>             <th>                     </th>     <td> </td>    \n",
       "</tr>\n",
       "<tr>\n",
       "  <th>Covariance Type:</th>                  <td>opg</td>                 <th>                     </th>     <td> </td>    \n",
       "</tr>\n",
       "</table>\n",
       "<table class=\"simpletable\">\n",
       "<tr>\n",
       "  <th>Ljung-Box (Q):</th>          <td>404.49, 74.29</td> <th>  Jarque-Bera (JB):  </th> <td>32.24, 1613.51</td>\n",
       "</tr>\n",
       "<tr>\n",
       "  <th>Prob(Q):</th>                 <td>0.00, 0.00</td>   <th>  Prob(JB):          </th>   <td>0.00, 0.00</td>  \n",
       "</tr>\n",
       "<tr>\n",
       "  <th>Heteroskedasticity (H):</th>  <td>0.57, 1.05</td>   <th>  Skew:              </th>   <td>-0.35, 1.65</td> \n",
       "</tr>\n",
       "<tr>\n",
       "  <th>Prob(H) (two-sided):</th>     <td>0.02, 0.84</td>   <th>  Kurtosis:          </th>   <td>4.82, 16.41</td> \n",
       "</tr>\n",
       "</table>\n",
       "<table class=\"simpletable\">\n",
       "<caption>Results for equation Apelação Cível</caption>\n",
       "<tr>\n",
       "          <td></td>             <th>coef</th>     <th>std err</th>      <th>z</th>      <th>P>|z|</th>  <th>[0.025</th>    <th>0.975]</th>  \n",
       "</tr>\n",
       "<tr>\n",
       "  <th>intercept</th>         <td>   41.5170</td> <td>  204.038</td> <td>    0.203</td> <td> 0.839</td> <td> -358.390</td> <td>  441.424</td>\n",
       "</tr>\n",
       "<tr>\n",
       "  <th>L1.Apelação Cível</th> <td>   -0.2943</td> <td>    0.067</td> <td>   -4.411</td> <td> 0.000</td> <td>   -0.425</td> <td>   -0.164</td>\n",
       "</tr>\n",
       "<tr>\n",
       "  <th>L1.Agravo Interno</th> <td>    8.4624</td> <td>    7.476</td> <td>    1.132</td> <td> 0.258</td> <td>   -6.190</td> <td>   23.115</td>\n",
       "</tr>\n",
       "</table>\n",
       "<table class=\"simpletable\">\n",
       "<caption>Results for equation Agravo Interno</caption>\n",
       "<tr>\n",
       "          <td></td>             <th>coef</th>     <th>std err</th>      <th>z</th>      <th>P>|z|</th>  <th>[0.025</th>    <th>0.975]</th>  \n",
       "</tr>\n",
       "<tr>\n",
       "  <th>intercept</th>         <td>    0.2848</td> <td>    2.407</td> <td>    0.118</td> <td> 0.906</td> <td>   -4.433</td> <td>    5.002</td>\n",
       "</tr>\n",
       "<tr>\n",
       "  <th>L1.Apelação Cível</th> <td>   -0.0005</td> <td>    0.001</td> <td>   -0.417</td> <td> 0.677</td> <td>   -0.003</td> <td>    0.002</td>\n",
       "</tr>\n",
       "<tr>\n",
       "  <th>L1.Agravo Interno</th> <td>   -0.4100</td> <td>    0.045</td> <td>   -9.059</td> <td> 0.000</td> <td>   -0.499</td> <td>   -0.321</td>\n",
       "</tr>\n",
       "</table>\n",
       "<table class=\"simpletable\">\n",
       "<caption>Error covariance matrix</caption>\n",
       "<tr>\n",
       "                     <td></td>                       <th>coef</th>     <th>std err</th>      <th>z</th>      <th>P>|z|</th>  <th>[0.025</th>    <th>0.975]</th>  \n",
       "</tr>\n",
       "<tr>\n",
       "  <th>sqrt.var.Apelação Cível</th>                <td> 2666.6441</td> <td>   99.896</td> <td>   26.694</td> <td> 0.000</td> <td> 2470.852</td> <td> 2862.436</td>\n",
       "</tr>\n",
       "<tr>\n",
       "  <th>sqrt.cov.Apelação Cível.Agravo Interno</th> <td>    3.7867</td> <td>    3.444</td> <td>    1.100</td> <td> 0.272</td> <td>   -2.963</td> <td>   10.536</td>\n",
       "</tr>\n",
       "<tr>\n",
       "  <th>sqrt.var.Agravo Interno</th>                <td>   29.5572</td> <td>    0.921</td> <td>   32.094</td> <td> 0.000</td> <td>   27.752</td> <td>   31.362</td>\n",
       "</tr>\n",
       "</table><br/><br/>Warnings:<br/>[1] Covariance matrix calculated using the outer product of gradients (complex-step)."
      ],
      "text/plain": [
       "<class 'statsmodels.iolib.summary.Summary'>\n",
       "\"\"\"\n",
       "                                    Statespace Model Results                                    \n",
       "================================================================================================\n",
       "Dep. Variable:     ['Apelação Cível', 'Agravo Interno']   No. Observations:                  203\n",
       "Model:                                           VAR(1)   Log Likelihood               -2863.549\n",
       "                                            + intercept   AIC                           5745.099\n",
       "Date:                                  Sun, 10 May 2020   BIC                           5774.918\n",
       "Time:                                          23:27:24   HQIC                          5757.162\n",
       "Sample:                                      02-01-2000                                         \n",
       "                                           - 12-01-2016                                         \n",
       "Covariance Type:                                    opg                                         \n",
       "===================================================================================\n",
       "Ljung-Box (Q):               404.49, 74.29   Jarque-Bera (JB):       32.24, 1613.51\n",
       "Prob(Q):                        0.00, 0.00   Prob(JB):                   0.00, 0.00\n",
       "Heteroskedasticity (H):         0.57, 1.05   Skew:                      -0.35, 1.65\n",
       "Prob(H) (two-sided):            0.02, 0.84   Kurtosis:                  4.82, 16.41\n",
       "                         Results for equation Apelação Cível                         \n",
       "=====================================================================================\n",
       "                        coef    std err          z      P>|z|      [0.025      0.975]\n",
       "-------------------------------------------------------------------------------------\n",
       "intercept            41.5170    204.038      0.203      0.839    -358.390     441.424\n",
       "L1.Apelação Cível    -0.2943      0.067     -4.411      0.000      -0.425      -0.164\n",
       "L1.Agravo Interno     8.4624      7.476      1.132      0.258      -6.190      23.115\n",
       "                         Results for equation Agravo Interno                         \n",
       "=====================================================================================\n",
       "                        coef    std err          z      P>|z|      [0.025      0.975]\n",
       "-------------------------------------------------------------------------------------\n",
       "intercept             0.2848      2.407      0.118      0.906      -4.433       5.002\n",
       "L1.Apelação Cível    -0.0005      0.001     -0.417      0.677      -0.003       0.002\n",
       "L1.Agravo Interno    -0.4100      0.045     -9.059      0.000      -0.499      -0.321\n",
       "                                         Error covariance matrix                                          \n",
       "==========================================================================================================\n",
       "                                             coef    std err          z      P>|z|      [0.025      0.975]\n",
       "----------------------------------------------------------------------------------------------------------\n",
       "sqrt.var.Apelação Cível                 2666.6441     99.896     26.694      0.000    2470.852    2862.436\n",
       "sqrt.cov.Apelação Cível.Agravo Interno     3.7867      3.444      1.100      0.272      -2.963      10.536\n",
       "sqrt.var.Agravo Interno                   29.5572      0.921     32.094      0.000      27.752      31.362\n",
       "==========================================================================================================\n",
       "\n",
       "Warnings:\n",
       "[1] Covariance matrix calculated using the outer product of gradients (complex-step).\n",
       "\"\"\""
      ]
     },
     "execution_count": 91,
     "metadata": {},
     "output_type": "execute_result"
    }
   ],
   "source": [
    "#GRID SEARCH - FOR ORDER p AR of VAR MODEL\n",
    "model = VARMAX(train)\n",
    "results = model.fit(maxiter=1000)\n",
    "print(train.count())\n",
    "results.summary()"
   ]
  },
  {
   "cell_type": "code",
   "execution_count": 92,
   "metadata": {},
   "outputs": [
    {
     "data": {
      "text/html": [
       "<table class=\"simpletable\">\n",
       "<caption>Statespace Model Results</caption>\n",
       "<tr>\n",
       "  <th>Dep. Variable:</th>   <td>['Apelação Cível', 'Agravo Interno']</td> <th>  No. Observations:  </th>    <td>203</td>   \n",
       "</tr>\n",
       "<tr>\n",
       "  <th>Model:</th>                        <td>VARMA(1,1)</td>              <th>  Log Likelihood     </th> <td>-2824.803</td>\n",
       "</tr>\n",
       "<tr>\n",
       "  <th></th>                              <td>+ intercept</td>             <th>  AIC                </th> <td>5675.606</td> \n",
       "</tr>\n",
       "<tr>\n",
       "  <th>Date:</th>                      <td>Sun, 10 May 2020</td>           <th>  BIC                </th> <td>5718.678</td> \n",
       "</tr>\n",
       "<tr>\n",
       "  <th>Time:</th>                          <td>23:27:31</td>               <th>  HQIC               </th> <td>5693.031</td> \n",
       "</tr>\n",
       "<tr>\n",
       "  <th>Sample:</th>                       <td>02-01-2000</td>              <th>                     </th>     <td> </td>    \n",
       "</tr>\n",
       "<tr>\n",
       "  <th></th>                             <td>- 12-01-2016</td>             <th>                     </th>     <td> </td>    \n",
       "</tr>\n",
       "<tr>\n",
       "  <th>Covariance Type:</th>                  <td>opg</td>                 <th>                     </th>     <td> </td>    \n",
       "</tr>\n",
       "</table>\n",
       "<table class=\"simpletable\">\n",
       "<tr>\n",
       "  <th>Ljung-Box (Q):</th>          <td>348.96, 46.61</td> <th>  Jarque-Bera (JB):  </th> <td>39.65, 2651.47</td>\n",
       "</tr>\n",
       "<tr>\n",
       "  <th>Prob(Q):</th>                 <td>0.00, 0.22</td>   <th>  Prob(JB):          </th>   <td>0.00, 0.00</td>  \n",
       "</tr>\n",
       "<tr>\n",
       "  <th>Heteroskedasticity (H):</th>  <td>0.72, 1.14</td>   <th>  Skew:              </th>   <td>-0.89, 2.75</td> \n",
       "</tr>\n",
       "<tr>\n",
       "  <th>Prob(H) (two-sided):</th>     <td>0.18, 0.59</td>   <th>  Kurtosis:          </th>   <td>4.22, 19.83</td> \n",
       "</tr>\n",
       "</table>\n",
       "<table class=\"simpletable\">\n",
       "<caption>Results for equation Apelação Cível</caption>\n",
       "<tr>\n",
       "            <td></td>              <th>coef</th>     <th>std err</th>      <th>z</th>      <th>P>|z|</th>  <th>[0.025</th>    <th>0.975]</th>  \n",
       "</tr>\n",
       "<tr>\n",
       "  <th>intercept</th>            <td>   41.4337</td> <td>   29.676</td> <td>    1.396</td> <td> 0.163</td> <td>  -16.730</td> <td>   99.597</td>\n",
       "</tr>\n",
       "<tr>\n",
       "  <th>L1.Apelação Cível</th>    <td>    0.2730</td> <td>    0.122</td> <td>    2.242</td> <td> 0.025</td> <td>    0.034</td> <td>    0.512</td>\n",
       "</tr>\n",
       "<tr>\n",
       "  <th>L1.Agravo Interno</th>    <td>    1.4969</td> <td>   13.491</td> <td>    0.111</td> <td> 0.912</td> <td>  -24.945</td> <td>   27.938</td>\n",
       "</tr>\n",
       "<tr>\n",
       "  <th>L1.e(Apelação Cível)</th> <td>   -0.8965</td> <td>    0.056</td> <td>  -15.938</td> <td> 0.000</td> <td>   -1.007</td> <td>   -0.786</td>\n",
       "</tr>\n",
       "<tr>\n",
       "  <th>L1.e(Agravo Interno)</th> <td>   -0.2226</td> <td>    5.617</td> <td>   -0.040</td> <td> 0.968</td> <td>  -11.232</td> <td>   10.787</td>\n",
       "</tr>\n",
       "</table>\n",
       "<table class=\"simpletable\">\n",
       "<caption>Results for equation Agravo Interno</caption>\n",
       "<tr>\n",
       "            <td></td>              <th>coef</th>     <th>std err</th>      <th>z</th>      <th>P>|z|</th>  <th>[0.025</th>    <th>0.975]</th>  \n",
       "</tr>\n",
       "<tr>\n",
       "  <th>intercept</th>            <td>   -0.0907</td> <td>    0.740</td> <td>   -0.123</td> <td> 0.902</td> <td>   -1.541</td> <td>    1.359</td>\n",
       "</tr>\n",
       "<tr>\n",
       "  <th>L1.Apelação Cível</th>    <td>   -0.0010</td> <td>    0.001</td> <td>   -0.715</td> <td> 0.475</td> <td>   -0.004</td> <td>    0.002</td>\n",
       "</tr>\n",
       "<tr>\n",
       "  <th>L1.Agravo Interno</th>    <td>    0.1347</td> <td>    0.115</td> <td>    1.175</td> <td> 0.240</td> <td>   -0.090</td> <td>    0.359</td>\n",
       "</tr>\n",
       "<tr>\n",
       "  <th>L1.e(Apelação Cível)</th> <td>   -0.0005</td> <td>    0.001</td> <td>   -0.486</td> <td> 0.627</td> <td>   -0.002</td> <td>    0.001</td>\n",
       "</tr>\n",
       "<tr>\n",
       "  <th>L1.e(Agravo Interno)</th> <td>   -0.7861</td> <td>    0.073</td> <td>  -10.799</td> <td> 0.000</td> <td>   -0.929</td> <td>   -0.643</td>\n",
       "</tr>\n",
       "</table>\n",
       "<table class=\"simpletable\">\n",
       "<caption>Error covariance matrix</caption>\n",
       "<tr>\n",
       "                     <td></td>                       <th>coef</th>     <th>std err</th>      <th>z</th>      <th>P>|z|</th>  <th>[0.025</th>    <th>0.975]</th>  \n",
       "</tr>\n",
       "<tr>\n",
       "  <th>sqrt.var.Apelação Cível</th>                <td> 2666.6059</td> <td>  166.557</td> <td>   16.010</td> <td> 0.000</td> <td> 2340.160</td> <td> 2993.052</td>\n",
       "</tr>\n",
       "<tr>\n",
       "  <th>sqrt.cov.Apelação Cível.Agravo Interno</th> <td>    2.9481</td> <td>    3.368</td> <td>    0.875</td> <td> 0.381</td> <td>   -3.654</td> <td>    9.550</td>\n",
       "</tr>\n",
       "<tr>\n",
       "  <th>sqrt.var.Agravo Interno</th>                <td>   27.1683</td> <td>    1.065</td> <td>   25.505</td> <td> 0.000</td> <td>   25.080</td> <td>   29.256</td>\n",
       "</tr>\n",
       "</table><br/><br/>Warnings:<br/>[1] Covariance matrix calculated using the outer product of gradients (complex-step)."
      ],
      "text/plain": [
       "<class 'statsmodels.iolib.summary.Summary'>\n",
       "\"\"\"\n",
       "                                    Statespace Model Results                                    \n",
       "================================================================================================\n",
       "Dep. Variable:     ['Apelação Cível', 'Agravo Interno']   No. Observations:                  203\n",
       "Model:                                       VARMA(1,1)   Log Likelihood               -2824.803\n",
       "                                            + intercept   AIC                           5675.606\n",
       "Date:                                  Sun, 10 May 2020   BIC                           5718.678\n",
       "Time:                                          23:27:31   HQIC                          5693.031\n",
       "Sample:                                      02-01-2000                                         \n",
       "                                           - 12-01-2016                                         \n",
       "Covariance Type:                                    opg                                         \n",
       "===================================================================================\n",
       "Ljung-Box (Q):               348.96, 46.61   Jarque-Bera (JB):       39.65, 2651.47\n",
       "Prob(Q):                        0.00, 0.22   Prob(JB):                   0.00, 0.00\n",
       "Heteroskedasticity (H):         0.72, 1.14   Skew:                      -0.89, 2.75\n",
       "Prob(H) (two-sided):            0.18, 0.59   Kurtosis:                  4.22, 19.83\n",
       "                          Results for equation Apelação Cível                           \n",
       "========================================================================================\n",
       "                           coef    std err          z      P>|z|      [0.025      0.975]\n",
       "----------------------------------------------------------------------------------------\n",
       "intercept               41.4337     29.676      1.396      0.163     -16.730      99.597\n",
       "L1.Apelação Cível        0.2730      0.122      2.242      0.025       0.034       0.512\n",
       "L1.Agravo Interno        1.4969     13.491      0.111      0.912     -24.945      27.938\n",
       "L1.e(Apelação Cível)    -0.8965      0.056    -15.938      0.000      -1.007      -0.786\n",
       "L1.e(Agravo Interno)    -0.2226      5.617     -0.040      0.968     -11.232      10.787\n",
       "                          Results for equation Agravo Interno                           \n",
       "========================================================================================\n",
       "                           coef    std err          z      P>|z|      [0.025      0.975]\n",
       "----------------------------------------------------------------------------------------\n",
       "intercept               -0.0907      0.740     -0.123      0.902      -1.541       1.359\n",
       "L1.Apelação Cível       -0.0010      0.001     -0.715      0.475      -0.004       0.002\n",
       "L1.Agravo Interno        0.1347      0.115      1.175      0.240      -0.090       0.359\n",
       "L1.e(Apelação Cível)    -0.0005      0.001     -0.486      0.627      -0.002       0.001\n",
       "L1.e(Agravo Interno)    -0.7861      0.073    -10.799      0.000      -0.929      -0.643\n",
       "                                         Error covariance matrix                                          \n",
       "==========================================================================================================\n",
       "                                             coef    std err          z      P>|z|      [0.025      0.975]\n",
       "----------------------------------------------------------------------------------------------------------\n",
       "sqrt.var.Apelação Cível                 2666.6059    166.557     16.010      0.000    2340.160    2993.052\n",
       "sqrt.cov.Apelação Cível.Agravo Interno     2.9481      3.368      0.875      0.381      -3.654       9.550\n",
       "sqrt.var.Agravo Interno                   27.1683      1.065     25.505      0.000      25.080      29.256\n",
       "==========================================================================================================\n",
       "\n",
       "Warnings:\n",
       "[1] Covariance matrix calculated using the outer product of gradients (complex-step).\n",
       "\"\"\""
      ]
     },
     "execution_count": 92,
     "metadata": {},
     "output_type": "execute_result"
    }
   ],
   "source": [
    "model = VARMAX(train, order=(1,1), trend='c')\n",
    "results = model.fit(maxiter=1000, disp=False)\n",
    "results.summary()"
   ]
  },
  {
   "cell_type": "code",
   "execution_count": 122,
   "metadata": {},
   "outputs": [
    {
     "name": "stdout",
     "output_type": "stream",
     "text": [
      "Index(['Apelação Cível', 'Agravo Interno'], dtype='object')\n"
     ]
    },
    {
     "data": {
      "text/plain": [
       "2017-01-01    1528.025642\n",
       "2017-02-01     450.530746\n",
       "2017-03-01     160.909865\n",
       "2017-04-01      84.074888\n",
       "2017-05-01      63.835191\n",
       "2017-06-01      58.524515\n",
       "2017-07-01      57.134077\n",
       "2017-08-01      56.770476\n",
       "2017-09-01      56.675458\n",
       "2017-10-01      56.650637\n",
       "2017-11-01      56.644154\n",
       "2017-12-01      56.642462\n",
       "Freq: MS, Name: Apelação Cível, dtype: float64"
      ]
     },
     "execution_count": 122,
     "metadata": {},
     "output_type": "execute_result"
    }
   ],
   "source": [
    "df_forecast = results.forecast(12)\n",
    "print(df_forecast.columns)\n",
    "df_forecast[typeOne]"
   ]
  },
  {
   "cell_type": "code",
   "execution_count": 123,
   "metadata": {},
   "outputs": [],
   "source": [
    "idx = pd.date_range('2017-01-01',periods=12,freq='MS')"
   ]
  },
  {
   "cell_type": "code",
   "execution_count": 124,
   "metadata": {},
   "outputs": [
    {
     "data": {
      "text/html": [
       "<div>\n",
       "<style scoped>\n",
       "    .dataframe tbody tr th:only-of-type {\n",
       "        vertical-align: middle;\n",
       "    }\n",
       "\n",
       "    .dataframe tbody tr th {\n",
       "        vertical-align: top;\n",
       "    }\n",
       "\n",
       "    .dataframe thead th {\n",
       "        text-align: right;\n",
       "    }\n",
       "</style>\n",
       "<table border=\"1\" class=\"dataframe\">\n",
       "  <thead>\n",
       "    <tr style=\"text-align: right;\">\n",
       "      <th></th>\n",
       "      <th>level_0</th>\n",
       "      <th>index</th>\n",
       "      <th>judgmentDate</th>\n",
       "      <th>Apelação Cível</th>\n",
       "      <th>Agravo Interno</th>\n",
       "    </tr>\n",
       "  </thead>\n",
       "  <tbody>\n",
       "    <tr>\n",
       "      <th>0</th>\n",
       "      <td>0</td>\n",
       "      <td>0</td>\n",
       "      <td>2000-02-01</td>\n",
       "      <td>151.0</td>\n",
       "      <td>0.0</td>\n",
       "    </tr>\n",
       "    <tr>\n",
       "      <th>1</th>\n",
       "      <td>1</td>\n",
       "      <td>1</td>\n",
       "      <td>2000-03-01</td>\n",
       "      <td>126.0</td>\n",
       "      <td>3.0</td>\n",
       "    </tr>\n",
       "    <tr>\n",
       "      <th>2</th>\n",
       "      <td>2</td>\n",
       "      <td>2</td>\n",
       "      <td>2000-04-01</td>\n",
       "      <td>66.0</td>\n",
       "      <td>-3.0</td>\n",
       "    </tr>\n",
       "    <tr>\n",
       "      <th>3</th>\n",
       "      <td>3</td>\n",
       "      <td>3</td>\n",
       "      <td>2000-05-01</td>\n",
       "      <td>252.0</td>\n",
       "      <td>4.0</td>\n",
       "    </tr>\n",
       "    <tr>\n",
       "      <th>4</th>\n",
       "      <td>4</td>\n",
       "      <td>4</td>\n",
       "      <td>2000-06-01</td>\n",
       "      <td>575.0</td>\n",
       "      <td>23.0</td>\n",
       "    </tr>\n",
       "    <tr>\n",
       "      <th>...</th>\n",
       "      <td>...</td>\n",
       "      <td>...</td>\n",
       "      <td>...</td>\n",
       "      <td>...</td>\n",
       "      <td>...</td>\n",
       "    </tr>\n",
       "    <tr>\n",
       "      <th>210</th>\n",
       "      <td>210</td>\n",
       "      <td>210</td>\n",
       "      <td>2017-08-01</td>\n",
       "      <td>1734.0</td>\n",
       "      <td>10.0</td>\n",
       "    </tr>\n",
       "    <tr>\n",
       "      <th>211</th>\n",
       "      <td>211</td>\n",
       "      <td>211</td>\n",
       "      <td>2017-09-01</td>\n",
       "      <td>-2265.0</td>\n",
       "      <td>0.0</td>\n",
       "    </tr>\n",
       "    <tr>\n",
       "      <th>212</th>\n",
       "      <td>212</td>\n",
       "      <td>212</td>\n",
       "      <td>2017-10-01</td>\n",
       "      <td>1199.0</td>\n",
       "      <td>-11.0</td>\n",
       "    </tr>\n",
       "    <tr>\n",
       "      <th>213</th>\n",
       "      <td>213</td>\n",
       "      <td>213</td>\n",
       "      <td>2017-11-01</td>\n",
       "      <td>-555.0</td>\n",
       "      <td>16.0</td>\n",
       "    </tr>\n",
       "    <tr>\n",
       "      <th>214</th>\n",
       "      <td>214</td>\n",
       "      <td>214</td>\n",
       "      <td>2017-12-01</td>\n",
       "      <td>-1017.0</td>\n",
       "      <td>-26.0</td>\n",
       "    </tr>\n",
       "  </tbody>\n",
       "</table>\n",
       "<p>215 rows × 5 columns</p>\n",
       "</div>"
      ],
      "text/plain": [
       "     level_0  index judgmentDate  Apelação Cível  Agravo Interno\n",
       "0          0      0   2000-02-01           151.0             0.0\n",
       "1          1      1   2000-03-01           126.0             3.0\n",
       "2          2      2   2000-04-01            66.0            -3.0\n",
       "3          3      3   2000-05-01           252.0             4.0\n",
       "4          4      4   2000-06-01           575.0            23.0\n",
       "..       ...    ...          ...             ...             ...\n",
       "210      210    210   2017-08-01          1734.0            10.0\n",
       "211      211    211   2017-09-01         -2265.0             0.0\n",
       "212      212    212   2017-10-01          1199.0           -11.0\n",
       "213      213    213   2017-11-01          -555.0            16.0\n",
       "214      214    214   2017-12-01         -1017.0           -26.0\n",
       "\n",
       "[215 rows x 5 columns]"
      ]
     },
     "execution_count": 124,
     "metadata": {},
     "output_type": "execute_result"
    }
   ],
   "source": [
    "#dfForecast = pd.DataFrame(data=z,index=idx,columns=[typeOne +'_2d',typeOne+'_2d'])\n",
    "dfVarDiff = dfVarDiff.reset_index()\n",
    "dfVarDiff"
   ]
  },
  {
   "cell_type": "code",
   "execution_count": 126,
   "metadata": {},
   "outputs": [
    {
     "data": {
      "text/html": [
       "<div>\n",
       "<style scoped>\n",
       "    .dataframe tbody tr th:only-of-type {\n",
       "        vertical-align: middle;\n",
       "    }\n",
       "\n",
       "    .dataframe tbody tr th {\n",
       "        vertical-align: top;\n",
       "    }\n",
       "\n",
       "    .dataframe thead th {\n",
       "        text-align: right;\n",
       "    }\n",
       "</style>\n",
       "<table border=\"1\" class=\"dataframe\">\n",
       "  <thead>\n",
       "    <tr style=\"text-align: right;\">\n",
       "      <th></th>\n",
       "      <th>Apelação Cível</th>\n",
       "      <th>Agravo Interno</th>\n",
       "    </tr>\n",
       "  </thead>\n",
       "  <tbody>\n",
       "    <tr>\n",
       "      <th>2017-01-01</th>\n",
       "      <td>1528.025642</td>\n",
       "      <td>-5.386732</td>\n",
       "    </tr>\n",
       "    <tr>\n",
       "      <th>2017-02-01</th>\n",
       "      <td>450.530746</td>\n",
       "      <td>-2.352519</td>\n",
       "    </tr>\n",
       "    <tr>\n",
       "      <th>2017-03-01</th>\n",
       "      <td>160.909865</td>\n",
       "      <td>-0.860566</td>\n",
       "    </tr>\n",
       "    <tr>\n",
       "      <th>2017-04-01</th>\n",
       "      <td>84.074888</td>\n",
       "      <td>-0.368401</td>\n",
       "    </tr>\n",
       "    <tr>\n",
       "      <th>2017-05-01</th>\n",
       "      <td>63.835191</td>\n",
       "      <td>-0.224848</td>\n",
       "    </tr>\n",
       "    <tr>\n",
       "      <th>2017-06-01</th>\n",
       "      <td>58.524515</td>\n",
       "      <td>-0.185159</td>\n",
       "    </tr>\n",
       "    <tr>\n",
       "      <th>2017-07-01</th>\n",
       "      <td>57.134077</td>\n",
       "      <td>-0.174473</td>\n",
       "    </tr>\n",
       "    <tr>\n",
       "      <th>2017-08-01</th>\n",
       "      <td>56.770476</td>\n",
       "      <td>-0.171635</td>\n",
       "    </tr>\n",
       "    <tr>\n",
       "      <th>2017-09-01</th>\n",
       "      <td>56.675458</td>\n",
       "      <td>-0.170887</td>\n",
       "    </tr>\n",
       "    <tr>\n",
       "      <th>2017-10-01</th>\n",
       "      <td>56.650637</td>\n",
       "      <td>-0.170691</td>\n",
       "    </tr>\n",
       "    <tr>\n",
       "      <th>2017-11-01</th>\n",
       "      <td>56.644154</td>\n",
       "      <td>-0.170640</td>\n",
       "    </tr>\n",
       "    <tr>\n",
       "      <th>2017-12-01</th>\n",
       "      <td>56.642462</td>\n",
       "      <td>-0.170626</td>\n",
       "    </tr>\n",
       "  </tbody>\n",
       "</table>\n",
       "</div>"
      ],
      "text/plain": [
       "            Apelação Cível  Agravo Interno\n",
       "2017-01-01     1528.025642       -5.386732\n",
       "2017-02-01      450.530746       -2.352519\n",
       "2017-03-01      160.909865       -0.860566\n",
       "2017-04-01       84.074888       -0.368401\n",
       "2017-05-01       63.835191       -0.224848\n",
       "2017-06-01       58.524515       -0.185159\n",
       "2017-07-01       57.134077       -0.174473\n",
       "2017-08-01       56.770476       -0.171635\n",
       "2017-09-01       56.675458       -0.170887\n",
       "2017-10-01       56.650637       -0.170691\n",
       "2017-11-01       56.644154       -0.170640\n",
       "2017-12-01       56.642462       -0.170626"
      ]
     },
     "execution_count": 126,
     "metadata": {},
     "output_type": "execute_result"
    }
   ],
   "source": [
    "#dfVarDiff[[typeOne]]\n",
    "df_forecast#[typeOne]#.cumsum()"
   ]
  },
  {
   "cell_type": "code",
   "execution_count": 128,
   "metadata": {},
   "outputs": [
    {
     "name": "stdout",
     "output_type": "stream",
     "text": [
      "Index(['level_0', 'index', 'judgmentDate', 'Apelação Cível', 'Agravo Interno'], dtype='object')\n",
      "Index(['Apelação Cível_2d', 'Apelação Cível_2d', 'Apelação Cível_1d'], dtype='object')\n",
      "Apelação Cível_1d Apelação Cível_2d Apelação Cível Forecast\n"
     ]
    }
   ],
   "source": [
    "print(dfVarDiff.columns)\n",
    "print(dfForecast.columns)\n",
    "typeOne1d=typeOne+'_1d'\n",
    "typeOne2d=typeOne+'_2d'\n",
    "typeOneForecast = typeOne +' Forecast'\n",
    "print(typeOne1d,typeOne2d,typeOneForecast)\n",
    "df_forecast[typeOne1d] = (dfVarDiff[typeOne].iloc[-nobs-1]-dfVarDiff[typeOne].iloc[-nobs-2]) + df_forecast[typeOne].cumsum()\n",
    "df_forecast[typeOneForecast] = dfVarDiff[typeOne].iloc[-nobs-1] + df_forecast[typeOne].cumsum()"
   ]
  },
  {
   "cell_type": "code",
   "execution_count": 132,
   "metadata": {},
   "outputs": [],
   "source": [
    "df_forecast[typeTwo+'_1d'] = (dfVarDiff[typeTwo].iloc[-nobs-1]-dfVarDiff[typeTwo].iloc[-nobs-2]) +df_forecast[typeTwo].cumsum()\n",
    "df_forecast[typeTwo+' Forecast'] = dfVarDiff[typeTwo].iloc[-nobs-1] + df_forecast[typeTwo+'_1d'].cumsum()"
   ]
  },
  {
   "cell_type": "code",
   "execution_count": 151,
   "metadata": {},
   "outputs": [
    {
     "data": {
      "text/html": [
       "<div>\n",
       "<style scoped>\n",
       "    .dataframe tbody tr th:only-of-type {\n",
       "        vertical-align: middle;\n",
       "    }\n",
       "\n",
       "    .dataframe tbody tr th {\n",
       "        vertical-align: top;\n",
       "    }\n",
       "\n",
       "    .dataframe thead th {\n",
       "        text-align: right;\n",
       "    }\n",
       "</style>\n",
       "<table border=\"1\" class=\"dataframe\">\n",
       "  <thead>\n",
       "    <tr style=\"text-align: right;\">\n",
       "      <th></th>\n",
       "      <th>Apelação Cível</th>\n",
       "      <th>Agravo Interno</th>\n",
       "      <th>Apelação Cível_1d</th>\n",
       "      <th>Apelação Cível Forecast</th>\n",
       "      <th>Agravo Interno_1d</th>\n",
       "      <th>Agravo Interno Forecast</th>\n",
       "    </tr>\n",
       "  </thead>\n",
       "  <tbody>\n",
       "    <tr>\n",
       "      <th>2017-01-01</th>\n",
       "      <td>1528.025642</td>\n",
       "      <td>-5.386732</td>\n",
       "      <td>-250.974358</td>\n",
       "      <td>225.025642</td>\n",
       "      <td>23.613268</td>\n",
       "      <td>39.613268</td>\n",
       "    </tr>\n",
       "    <tr>\n",
       "      <th>2017-02-01</th>\n",
       "      <td>450.530746</td>\n",
       "      <td>-2.352519</td>\n",
       "      <td>199.556388</td>\n",
       "      <td>675.556388</td>\n",
       "      <td>21.260749</td>\n",
       "      <td>60.874017</td>\n",
       "    </tr>\n",
       "    <tr>\n",
       "      <th>2017-03-01</th>\n",
       "      <td>160.909865</td>\n",
       "      <td>-0.860566</td>\n",
       "      <td>360.466254</td>\n",
       "      <td>836.466254</td>\n",
       "      <td>20.400183</td>\n",
       "      <td>81.274200</td>\n",
       "    </tr>\n",
       "  </tbody>\n",
       "</table>\n",
       "</div>"
      ],
      "text/plain": [
       "            Apelação Cível  Agravo Interno  Apelação Cível_1d  Apelação Cível Forecast  Agravo Interno_1d  Agravo Interno Forecast\n",
       "2017-01-01     1528.025642       -5.386732        -250.974358               225.025642          23.613268                39.613268\n",
       "2017-02-01      450.530746       -2.352519         199.556388               675.556388          21.260749                60.874017\n",
       "2017-03-01      160.909865       -0.860566         360.466254               836.466254          20.400183                81.274200"
      ]
     },
     "metadata": {},
     "output_type": "display_data"
    },
    {
     "data": {
      "text/html": [
       "<div>\n",
       "<style scoped>\n",
       "    .dataframe tbody tr th:only-of-type {\n",
       "        vertical-align: middle;\n",
       "    }\n",
       "\n",
       "    .dataframe tbody tr th {\n",
       "        vertical-align: top;\n",
       "    }\n",
       "\n",
       "    .dataframe thead th {\n",
       "        text-align: right;\n",
       "    }\n",
       "</style>\n",
       "<table border=\"1\" class=\"dataframe\">\n",
       "  <thead>\n",
       "    <tr style=\"text-align: right;\">\n",
       "      <th></th>\n",
       "      <th>Apelação Cível</th>\n",
       "      <th>Agravo Interno</th>\n",
       "    </tr>\n",
       "    <tr>\n",
       "      <th>judgmentDate</th>\n",
       "      <th></th>\n",
       "      <th></th>\n",
       "    </tr>\n",
       "  </thead>\n",
       "  <tbody>\n",
       "    <tr>\n",
       "      <th>2000-02-01</th>\n",
       "      <td>151.0</td>\n",
       "      <td>0.0</td>\n",
       "    </tr>\n",
       "    <tr>\n",
       "      <th>2000-03-01</th>\n",
       "      <td>126.0</td>\n",
       "      <td>3.0</td>\n",
       "    </tr>\n",
       "    <tr>\n",
       "      <th>2000-04-01</th>\n",
       "      <td>66.0</td>\n",
       "      <td>-3.0</td>\n",
       "    </tr>\n",
       "  </tbody>\n",
       "</table>\n",
       "</div>"
      ],
      "text/plain": [
       "              Apelação Cível  Agravo Interno\n",
       "judgmentDate                                \n",
       "2000-02-01             151.0             0.0\n",
       "2000-03-01             126.0             3.0\n",
       "2000-04-01              66.0            -3.0"
      ]
     },
     "metadata": {},
     "output_type": "display_data"
    },
    {
     "data": {
      "text/plain": [
       "DatetimeIndex(['2000-02-01', '2000-03-01', '2000-04-01', '2000-05-01',\n",
       "               '2000-06-01', '2000-07-01', '2000-08-01', '2000-09-01',\n",
       "               '2000-10-01', '2000-11-01',\n",
       "               ...\n",
       "               '2017-03-01', '2017-04-01', '2017-05-01', '2017-06-01',\n",
       "               '2017-07-01', '2017-08-01', '2017-09-01', '2017-10-01',\n",
       "               '2017-11-01', '2017-12-01'],\n",
       "              dtype='datetime64[ns]', name='judgmentDate', length=215, freq=None)"
      ]
     },
     "execution_count": 151,
     "metadata": {},
     "output_type": "execute_result"
    }
   ],
   "source": [
    "display(df_forecast.head(3))\n",
    "display(dfVarDiff.head(3))\n",
    "#del dfVarDiff['level_0']\n",
    "#del dfVarDiff['index']\n",
    "\n",
    "#dfVarDiff.index = dfVarDiff['judgmentDate']\n",
    "#del dfVarDiff['judgmentDate']\n",
    "#dfVarDiff = dfVarDiff.asfreq('MS')\n",
    "dfVarDiff.index"
   ]
  },
  {
   "cell_type": "code",
   "execution_count": 152,
   "metadata": {},
   "outputs": [
    {
     "data": {
      "text/html": [
       "<div>\n",
       "<style scoped>\n",
       "    .dataframe tbody tr th:only-of-type {\n",
       "        vertical-align: middle;\n",
       "    }\n",
       "\n",
       "    .dataframe tbody tr th {\n",
       "        vertical-align: top;\n",
       "    }\n",
       "\n",
       "    .dataframe thead th {\n",
       "        text-align: right;\n",
       "    }\n",
       "</style>\n",
       "<table border=\"1\" class=\"dataframe\">\n",
       "  <thead>\n",
       "    <tr style=\"text-align: right;\">\n",
       "      <th></th>\n",
       "      <th>Apelação Cível</th>\n",
       "      <th>Agravo Interno</th>\n",
       "      <th>Apelação Cível Forecast</th>\n",
       "      <th>Agravo Interno Forecast</th>\n",
       "    </tr>\n",
       "  </thead>\n",
       "  <tbody>\n",
       "    <tr>\n",
       "      <th>2017-01-01</th>\n",
       "      <td>-4894.0</td>\n",
       "      <td>-41.0</td>\n",
       "      <td>225.025642</td>\n",
       "      <td>39.613268</td>\n",
       "    </tr>\n",
       "    <tr>\n",
       "      <th>2017-02-01</th>\n",
       "      <td>3546.0</td>\n",
       "      <td>55.0</td>\n",
       "      <td>675.556388</td>\n",
       "      <td>60.874017</td>\n",
       "    </tr>\n",
       "    <tr>\n",
       "      <th>2017-03-01</th>\n",
       "      <td>3502.0</td>\n",
       "      <td>-25.0</td>\n",
       "      <td>836.466254</td>\n",
       "      <td>81.274200</td>\n",
       "    </tr>\n",
       "    <tr>\n",
       "      <th>2017-04-01</th>\n",
       "      <td>-2122.0</td>\n",
       "      <td>19.0</td>\n",
       "      <td>920.541142</td>\n",
       "      <td>101.305983</td>\n",
       "    </tr>\n",
       "    <tr>\n",
       "      <th>2017-05-01</th>\n",
       "      <td>1341.0</td>\n",
       "      <td>-12.0</td>\n",
       "      <td>984.376333</td>\n",
       "      <td>121.112917</td>\n",
       "    </tr>\n",
       "    <tr>\n",
       "      <th>2017-06-01</th>\n",
       "      <td>-1228.0</td>\n",
       "      <td>26.0</td>\n",
       "      <td>1042.900848</td>\n",
       "      <td>140.734693</td>\n",
       "    </tr>\n",
       "    <tr>\n",
       "      <th>2017-07-01</th>\n",
       "      <td>528.0</td>\n",
       "      <td>-46.0</td>\n",
       "      <td>1100.034925</td>\n",
       "      <td>160.181996</td>\n",
       "    </tr>\n",
       "    <tr>\n",
       "      <th>2017-08-01</th>\n",
       "      <td>1734.0</td>\n",
       "      <td>10.0</td>\n",
       "      <td>1156.805401</td>\n",
       "      <td>179.457664</td>\n",
       "    </tr>\n",
       "    <tr>\n",
       "      <th>2017-09-01</th>\n",
       "      <td>-2265.0</td>\n",
       "      <td>0.0</td>\n",
       "      <td>1213.480859</td>\n",
       "      <td>198.562445</td>\n",
       "    </tr>\n",
       "    <tr>\n",
       "      <th>2017-10-01</th>\n",
       "      <td>1199.0</td>\n",
       "      <td>-11.0</td>\n",
       "      <td>1270.131496</td>\n",
       "      <td>217.496534</td>\n",
       "    </tr>\n",
       "    <tr>\n",
       "      <th>2017-11-01</th>\n",
       "      <td>-555.0</td>\n",
       "      <td>16.0</td>\n",
       "      <td>1326.775650</td>\n",
       "      <td>236.259984</td>\n",
       "    </tr>\n",
       "    <tr>\n",
       "      <th>2017-12-01</th>\n",
       "      <td>-1017.0</td>\n",
       "      <td>-26.0</td>\n",
       "      <td>1383.418112</td>\n",
       "      <td>254.852808</td>\n",
       "    </tr>\n",
       "  </tbody>\n",
       "</table>\n",
       "</div>"
      ],
      "text/plain": [
       "            Apelação Cível  Agravo Interno  Apelação Cível Forecast  Agravo Interno Forecast\n",
       "2017-01-01         -4894.0           -41.0               225.025642                39.613268\n",
       "2017-02-01          3546.0            55.0               675.556388                60.874017\n",
       "2017-03-01          3502.0           -25.0               836.466254                81.274200\n",
       "2017-04-01         -2122.0            19.0               920.541142               101.305983\n",
       "2017-05-01          1341.0           -12.0               984.376333               121.112917\n",
       "2017-06-01         -1228.0            26.0              1042.900848               140.734693\n",
       "2017-07-01           528.0           -46.0              1100.034925               160.181996\n",
       "2017-08-01          1734.0            10.0              1156.805401               179.457664\n",
       "2017-09-01         -2265.0             0.0              1213.480859               198.562445\n",
       "2017-10-01          1199.0           -11.0              1270.131496               217.496534\n",
       "2017-11-01          -555.0            16.0              1326.775650               236.259984\n",
       "2017-12-01         -1017.0           -26.0              1383.418112               254.852808"
      ]
     },
     "execution_count": 152,
     "metadata": {},
     "output_type": "execute_result"
    }
   ],
   "source": [
    "pd.concat([dfVarDiff.iloc[-12:],df_forecast[[typeOneForecast,typeTwo+' Forecast']]],axis=1)"
   ]
  },
  {
   "cell_type": "code",
   "execution_count": 156,
   "metadata": {},
   "outputs": [
    {
     "data": {
      "text/plain": [
       "<matplotlib.axes._subplots.AxesSubplot at 0x131b2b4d0>"
      ]
     },
     "execution_count": 156,
     "metadata": {},
     "output_type": "execute_result"
    },
    {
     "data": {
      "image/png": "[encoded data removed]",
      "text/plain": [
       "<Figure size 432x288 with 1 Axes>"
      ]
     },
     "metadata": {
      "needs_background": "light"
     },
     "output_type": "display_data"
    },
    {
     "data": {
      "image/png": "[encoded data removed]",
      "text/plain": [
       "<Figure size 432x288 with 1 Axes>"
      ]
     },
     "metadata": {
      "needs_background": "light"
     },
     "output_type": "display_data"
    }
   ],
   "source": [
    "test_range = dfVarDiff[-nobs:]\n",
    "#display(test_range)\n",
    "test_range.plot()\n",
    "#print(dfForecast.columns)\n",
    "df_forecast[[typeOneForecast,typeTwo+' Forecast']].plot()\n",
    "#dfForecast.plot(figsize=figsize)\n",
    "#dfVarDiff.plot()"
   ]
  },
  {
   "cell_type": "code",
   "execution_count": null,
   "metadata": {},
   "outputs": [],
   "source": []
  },
  {
   "cell_type": "code",
   "execution_count": null,
   "metadata": {},
   "outputs": [],
   "source": []
  },
  {
   "cell_type": "code",
   "execution_count": null,
   "metadata": {
    "scrolled": false
   },
   "outputs": [],
   "source": []
  },
  {
   "cell_type": "code",
   "execution_count": null,
   "metadata": {},
   "outputs": [],
   "source": [
    "\n",
    "\n",
    "\n",
    "\n"
   ]
  },
  {
   "cell_type": "code",
   "execution_count": null,
   "metadata": {},
   "outputs": [],
   "source": []
  },
  {
   "cell_type": "code",
   "execution_count": null,
   "metadata": {},
   "outputs": [],
   "source": []
  }
 ],
 "metadata": {
  "kernelspec": {
   "display_name": "Python 3",
   "language": "python",
   "name": "python3"
  },
  "language_info": {
   "codemirror_mode": {
    "name": "ipython",
    "version": 3
   },
   "file_extension": ".py",
   "mimetype": "text/x-python",
   "name": "python",
   "nbconvert_exporter": "python",
   "pygments_lexer": "ipython3",
   "version": "3.7.6"
  }
 },
 "nbformat": 4,
 "nbformat_minor": 4
}
