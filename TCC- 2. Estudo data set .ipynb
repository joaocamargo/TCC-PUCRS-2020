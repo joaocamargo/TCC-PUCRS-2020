{
 "cells": [
  {
   "cell_type": "code",
   "execution_count": 1,
   "metadata": {},
   "outputs": [],
   "source": [
    "import pandas as pd\n",
    "import numpy as np\n",
    "import pandas as pd\n",
    "import numpy as np\n",
    "import re\n",
    "import string\n",
    "import unicodedata\n",
    "import plotly_express as px\n",
    "import plotly.io as pio\n",
    "from sklearn import preprocessing\n",
    "import pandas_profiling\n",
    "import datetime\n",
    "%matplotlib inline\n",
    "import matplotlib.style\n",
    "import matplotlib as mpl\n",
    "import matplotlib.pyplot as plt \n",
    "from sklearn import preprocessing\n",
    "import warnings\n",
    "import math\n",
    "\n",
    "warnings.filterwarnings(\"ignore\")\n"
   ]
  },
  {
   "cell_type": "code",
   "execution_count": 180,
   "metadata": {},
   "outputs": [
    {
     "data": {
      "text/html": [
       "<div>\n",
       "<style scoped>\n",
       "    .dataframe tbody tr th:only-of-type {\n",
       "        vertical-align: middle;\n",
       "    }\n",
       "\n",
       "    .dataframe tbody tr th {\n",
       "        vertical-align: top;\n",
       "    }\n",
       "\n",
       "    .dataframe thead th {\n",
       "        text-align: right;\n",
       "    }\n",
       "</style>\n",
       "<table border=\"1\" class=\"dataframe\">\n",
       "  <thead>\n",
       "    <tr style=\"text-align: right;\">\n",
       "      <th></th>\n",
       "      <th>type</th>\n",
       "      <th>count</th>\n",
       "      <th>weekDay</th>\n",
       "      <th>weekType</th>\n",
       "      <th>Dia</th>\n",
       "      <th>Mes</th>\n",
       "      <th>Ano</th>\n",
       "      <th>Feriado</th>\n",
       "    </tr>\n",
       "    <tr>\n",
       "      <th>judgmentDate</th>\n",
       "      <th></th>\n",
       "      <th></th>\n",
       "      <th></th>\n",
       "      <th></th>\n",
       "      <th></th>\n",
       "      <th></th>\n",
       "      <th></th>\n",
       "      <th></th>\n",
       "    </tr>\n",
       "  </thead>\n",
       "  <tbody>\n",
       "    <tr>\n",
       "      <th>2000-01-03</th>\n",
       "      <td>Agravo de Instrumento</td>\n",
       "      <td>2</td>\n",
       "      <td>0</td>\n",
       "      <td>DiaSemana</td>\n",
       "      <td>3</td>\n",
       "      <td>1</td>\n",
       "      <td>2000</td>\n",
       "      <td>False</td>\n",
       "    </tr>\n",
       "    <tr>\n",
       "      <th>2000-01-06</th>\n",
       "      <td>Agravo de Instrumento</td>\n",
       "      <td>1</td>\n",
       "      <td>3</td>\n",
       "      <td>DiaSemana</td>\n",
       "      <td>6</td>\n",
       "      <td>1</td>\n",
       "      <td>2000</td>\n",
       "      <td>False</td>\n",
       "    </tr>\n",
       "  </tbody>\n",
       "</table>\n",
       "</div>"
      ],
      "text/plain": [
       "                               type  count  weekDay   weekType  Dia  Mes  \\\n",
       "judgmentDate                                                               \n",
       "2000-01-03    Agravo de Instrumento      2        0  DiaSemana    3    1   \n",
       "2000-01-06    Agravo de Instrumento      1        3  DiaSemana    6    1   \n",
       "\n",
       "               Ano  Feriado  \n",
       "judgmentDate                 \n",
       "2000-01-03    2000    False  \n",
       "2000-01-06    2000    False  "
      ]
     },
     "metadata": {},
     "output_type": "display_data"
    },
    {
     "data": {
      "text/plain": [
       "DatetimeIndex(['2000-01-03', '2000-01-06', '2000-01-10', '2000-01-11',\n",
       "               '2000-01-20', '2000-01-24', '2000-02-02', '2000-02-06',\n",
       "               '2000-02-07', '2000-02-08',\n",
       "               ...\n",
       "               '2017-12-21', '2017-12-21', '2017-12-27', '2017-12-28',\n",
       "               '2017-12-28', '2017-12-28', '2017-12-29', '2017-12-29',\n",
       "               '2017-12-29', '2017-12-29'],\n",
       "              dtype='datetime64[ns]', name='judgmentDate', length=63765, freq=None)"
      ]
     },
     "metadata": {},
     "output_type": "display_data"
    },
    {
     "data": {
      "text/html": [
       "<div>\n",
       "<style scoped>\n",
       "    .dataframe tbody tr th:only-of-type {\n",
       "        vertical-align: middle;\n",
       "    }\n",
       "\n",
       "    .dataframe tbody tr th {\n",
       "        vertical-align: top;\n",
       "    }\n",
       "\n",
       "    .dataframe thead th {\n",
       "        text-align: right;\n",
       "    }\n",
       "</style>\n",
       "<table border=\"1\" class=\"dataframe\">\n",
       "  <thead>\n",
       "    <tr style=\"text-align: right;\">\n",
       "      <th></th>\n",
       "      <th>weekDay</th>\n",
       "      <th>type</th>\n",
       "      <th>count</th>\n",
       "    </tr>\n",
       "  </thead>\n",
       "  <tbody>\n",
       "    <tr>\n",
       "      <th>0</th>\n",
       "      <td>Sun</td>\n",
       "      <td>Ação Civil Pública</td>\n",
       "      <td>2</td>\n",
       "    </tr>\n",
       "    <tr>\n",
       "      <th>1</th>\n",
       "      <td>Sun</td>\n",
       "      <td>Ação Rescisória</td>\n",
       "      <td>9</td>\n",
       "    </tr>\n",
       "  </tbody>\n",
       "</table>\n",
       "</div>"
      ],
      "text/plain": [
       "  weekDay                type  count\n",
       "0     Sun  Ação Civil Pública      2\n",
       "1     Sun     Ação Rescisória      9"
      ]
     },
     "metadata": {},
     "output_type": "display_data"
    },
    {
     "data": {
      "text/plain": [
       "RangeIndex(start=0, stop=513, step=1)"
      ]
     },
     "metadata": {},
     "output_type": "display_data"
    },
    {
     "data": {
      "text/html": [
       "<div>\n",
       "<style scoped>\n",
       "    .dataframe tbody tr th:only-of-type {\n",
       "        vertical-align: middle;\n",
       "    }\n",
       "\n",
       "    .dataframe tbody tr th {\n",
       "        vertical-align: top;\n",
       "    }\n",
       "\n",
       "    .dataframe thead th {\n",
       "        text-align: right;\n",
       "    }\n",
       "</style>\n",
       "<table border=\"1\" class=\"dataframe\">\n",
       "  <thead>\n",
       "    <tr style=\"text-align: right;\">\n",
       "      <th></th>\n",
       "      <th>type</th>\n",
       "      <th>count</th>\n",
       "    </tr>\n",
       "    <tr>\n",
       "      <th>yearMonth</th>\n",
       "      <th></th>\n",
       "      <th></th>\n",
       "    </tr>\n",
       "  </thead>\n",
       "  <tbody>\n",
       "    <tr>\n",
       "      <th>2000-01-01</th>\n",
       "      <td>Agravo de Instrumento</td>\n",
       "      <td>12</td>\n",
       "    </tr>\n",
       "    <tr>\n",
       "      <th>2000-02-01</th>\n",
       "      <td>Ação Rescisória</td>\n",
       "      <td>1</td>\n",
       "    </tr>\n",
       "  </tbody>\n",
       "</table>\n",
       "</div>"
      ],
      "text/plain": [
       "                             type  count\n",
       "yearMonth                               \n",
       "2000-01-01  Agravo de Instrumento     12\n",
       "2000-02-01        Ação Rescisória      1"
      ]
     },
     "metadata": {},
     "output_type": "display_data"
    },
    {
     "data": {
      "text/plain": [
       "DatetimeIndex(['2000-01-01', '2000-02-01', '2000-02-01', '2000-02-01',\n",
       "               '2000-02-01', '2000-02-01', '2000-02-01', '2000-02-01',\n",
       "               '2000-02-01', '2000-02-01',\n",
       "               ...\n",
       "               '2017-12-01', '2017-12-01', '2017-12-01', '2017-12-01',\n",
       "               '2017-12-01', '2017-12-01', '2017-12-01', '2017-12-01',\n",
       "               '2017-12-01', '2017-12-01'],\n",
       "              dtype='datetime64[ns]', name='yearMonth', length=7455, freq=None)"
      ]
     },
     "metadata": {},
     "output_type": "display_data"
    }
   ],
   "source": [
    "df_count_day_type = pd.read_csv('./data_joao/df_count_day_type_modificado.csv',sep=\",\",parse_dates=['judgmentDate'])\n",
    "df_count_week_day_type = pd.read_csv('./data_joao/df_count_week_day_type_modificado.csv',sep=\",\")\n",
    "df_count_year_month_type = pd.read_csv('./data_joao/df_count_year_month_type_modificado.csv',sep=\",\")\n",
    "\n",
    "df_count_day_type.index = pd.to_datetime(df_count_day_type['judgmentDate'])\n",
    "df_count_year_month_type.index = pd.to_datetime(df_count_year_month_type['yearMonth'])\n",
    "#df_count_week_day_type.index = pd.to_datetime(df_count_week_day_type['weekDay'])\n",
    "\n",
    "del df_count_day_type['Unnamed: 0']\n",
    "del df_count_week_day_type['Unnamed: 0']\n",
    "del df_count_year_month_type['Unnamed: 0']\n",
    "del df_count_day_type['judgmentDate']\n",
    "del df_count_year_month_type['yearMonth']\n",
    "\n",
    "dataFrames = [df_count_day_type,df_count_week_day_type,df_count_year_month_type]\n",
    "for df in dataFrames:\n",
    "    display(df.head(2))\n",
    "    display(df.index)"
   ]
  },
  {
   "cell_type": "code",
   "execution_count": 269,
   "metadata": {},
   "outputs": [
    {
     "data": {
      "text/html": [
       "<div>\n",
       "<style scoped>\n",
       "    .dataframe tbody tr th:only-of-type {\n",
       "        vertical-align: middle;\n",
       "    }\n",
       "\n",
       "    .dataframe tbody tr th {\n",
       "        vertical-align: top;\n",
       "    }\n",
       "\n",
       "    .dataframe thead th {\n",
       "        text-align: right;\n",
       "    }\n",
       "</style>\n",
       "<table border=\"1\" class=\"dataframe\">\n",
       "  <thead>\n",
       "    <tr style=\"text-align: right;\">\n",
       "      <th></th>\n",
       "      <th>total</th>\n",
       "    </tr>\n",
       "    <tr>\n",
       "      <th>type</th>\n",
       "      <th></th>\n",
       "    </tr>\n",
       "  </thead>\n",
       "  <tbody>\n",
       "    <tr>\n",
       "      <th>Apelação Cível</th>\n",
       "      <td>1619859</td>\n",
       "    </tr>\n",
       "    <tr>\n",
       "      <th>Agravo de Instrumento</th>\n",
       "      <td>1367460</td>\n",
       "    </tr>\n",
       "    <tr>\n",
       "      <th>Embargos de Declaração</th>\n",
       "      <td>813282</td>\n",
       "    </tr>\n",
       "    <tr>\n",
       "      <th>Recurso Cível</th>\n",
       "      <td>470179</td>\n",
       "    </tr>\n",
       "    <tr>\n",
       "      <th>Agravo</th>\n",
       "      <td>420130</td>\n",
       "    </tr>\n",
       "    <tr>\n",
       "      <th>Apelação Crime</th>\n",
       "      <td>274843</td>\n",
       "    </tr>\n",
       "    <tr>\n",
       "      <th>Apelação e Reexame Necessário</th>\n",
       "      <td>146944</td>\n",
       "    </tr>\n",
       "    <tr>\n",
       "      <th>Habeas Corpus</th>\n",
       "      <td>139648</td>\n",
       "    </tr>\n",
       "    <tr>\n",
       "      <th>Recurso Especial</th>\n",
       "      <td>59457</td>\n",
       "    </tr>\n",
       "    <tr>\n",
       "      <th>Reexame Necessário</th>\n",
       "      <td>47982</td>\n",
       "    </tr>\n",
       "    <tr>\n",
       "      <th>Recurso em Sentido Estrito</th>\n",
       "      <td>31637</td>\n",
       "    </tr>\n",
       "    <tr>\n",
       "      <th>Recurso Crime</th>\n",
       "      <td>31530</td>\n",
       "    </tr>\n",
       "    <tr>\n",
       "      <th>Conflito de Competência</th>\n",
       "      <td>28710</td>\n",
       "    </tr>\n",
       "    <tr>\n",
       "      <th>Agravo Regimental</th>\n",
       "      <td>26798</td>\n",
       "    </tr>\n",
       "    <tr>\n",
       "      <th>Embargos Infringentes</th>\n",
       "      <td>23556</td>\n",
       "    </tr>\n",
       "    <tr>\n",
       "      <th>Recurso Extraordinário</th>\n",
       "      <td>23547</td>\n",
       "    </tr>\n",
       "    <tr>\n",
       "      <th>Mandado de Segurança</th>\n",
       "      <td>22101</td>\n",
       "    </tr>\n",
       "    <tr>\n",
       "      <th>Recurso Especial e ou Extraordinário</th>\n",
       "      <td>15489</td>\n",
       "    </tr>\n",
       "    <tr>\n",
       "      <th>Embargos Infringentes e de Nulidade</th>\n",
       "      <td>12187</td>\n",
       "    </tr>\n",
       "    <tr>\n",
       "      <th>Agravo em Execução</th>\n",
       "      <td>7244</td>\n",
       "    </tr>\n",
       "  </tbody>\n",
       "</table>\n",
       "</div>"
      ],
      "text/plain": [
       "                                        total\n",
       "type                                         \n",
       "Apelação Cível                        1619859\n",
       "Agravo de Instrumento                 1367460\n",
       "Embargos de Declaração                 813282\n",
       "Recurso Cível                          470179\n",
       "Agravo                                 420130\n",
       "Apelação Crime                         274843\n",
       "Apelação e Reexame Necessário          146944\n",
       "Habeas Corpus                          139648\n",
       "Recurso Especial                        59457\n",
       "Reexame Necessário                      47982\n",
       "Recurso em Sentido Estrito              31637\n",
       "Recurso Crime                           31530\n",
       "Conflito de Competência                 28710\n",
       "Agravo Regimental                       26798\n",
       "Embargos Infringentes                   23556\n",
       "Recurso Extraordinário                  23547\n",
       "Mandado de Segurança                    22101\n",
       "Recurso Especial e ou Extraordinário    15489\n",
       "Embargos Infringentes e de Nulidade     12187\n",
       "Agravo em Execução                       7244"
      ]
     },
     "metadata": {},
     "output_type": "display_data"
    },
    {
     "data": {
      "application/vnd.plotly.v1+json": {
       "config": {
        "plotlyServerURL": "https://plot.ly"
       },
       "data": [
        {
         "alignmentgroup": "True",
         "hovertemplate": "type=%{x}<br>total=%{y}<extra></extra>",
         "legendgroup": "",
         "marker": {
          "color": "#636efa"
         },
         "name": "",
         "offsetgroup": "",
         "orientation": "v",
         "showlegend": false,
         "textposition": "auto",
         "type": "bar",
         "x": [
          "Apelação Cível",
          "Agravo de Instrumento",
          "Embargos de Declaração",
          "Recurso Cível",
          "Agravo",
          "Apelação Crime",
          "Apelação e Reexame Necessário",
          "Habeas Corpus",
          "Recurso Especial",
          "Reexame Necessário",
          "Recurso em Sentido Estrito",
          "Recurso Crime",
          "Conflito de Competência",
          "Agravo Regimental",
          "Embargos Infringentes",
          "Recurso Extraordinário",
          "Mandado de Segurança",
          "Recurso Especial e ou Extraordinário",
          "Embargos Infringentes e de Nulidade",
          "Agravo em Execução"
         ],
         "xaxis": "x",
         "y": [
          1619859,
          1367460,
          813282,
          470179,
          420130,
          274843,
          146944,
          139648,
          59457,
          47982,
          31637,
          31530,
          28710,
          26798,
          23556,
          23547,
          22101,
          15489,
          12187,
          7244
         ],
         "yaxis": "y"
        }
       ],
       "layout": {
        "barmode": "relative",
        "legend": {
         "tracegroupgap": 0
        },
        "margin": {
         "t": 60
        },
        "template": {
         "data": {
          "bar": [
           {
            "error_x": {
             "color": "#2a3f5f"
            },
            "error_y": {
             "color": "#2a3f5f"
            },
            "marker": {
             "line": {
              "color": "#E5ECF6",
              "width": 0.5
             }
            },
            "type": "bar"
           }
          ],
          "barpolar": [
           {
            "marker": {
             "line": {
              "color": "#E5ECF6",
              "width": 0.5
             }
            },
            "type": "barpolar"
           }
          ],
          "carpet": [
           {
            "aaxis": {
             "endlinecolor": "#2a3f5f",
             "gridcolor": "white",
             "linecolor": "white",
             "minorgridcolor": "white",
             "startlinecolor": "#2a3f5f"
            },
            "baxis": {
             "endlinecolor": "#2a3f5f",
             "gridcolor": "white",
             "linecolor": "white",
             "minorgridcolor": "white",
             "startlinecolor": "#2a3f5f"
            },
            "type": "carpet"
           }
          ],
          "choropleth": [
           {
            "colorbar": {
             "outlinewidth": 0,
             "ticks": ""
            },
            "type": "choropleth"
           }
          ],
          "contour": [
           {
            "colorbar": {
             "outlinewidth": 0,
             "ticks": ""
            },
            "colorscale": [
             [
              0,
              "#0d0887"
             ],
             [
              0.1111111111111111,
              "#46039f"
             ],
             [
              0.2222222222222222,
              "#7201a8"
             ],
             [
              0.3333333333333333,
              "#9c179e"
             ],
             [
              0.4444444444444444,
              "#bd3786"
             ],
             [
              0.5555555555555556,
              "#d8576b"
             ],
             [
              0.6666666666666666,
              "#ed7953"
             ],
             [
              0.7777777777777778,
              "#fb9f3a"
             ],
             [
              0.8888888888888888,
              "#fdca26"
             ],
             [
              1,
              "#f0f921"
             ]
            ],
            "type": "contour"
           }
          ],
          "contourcarpet": [
           {
            "colorbar": {
             "outlinewidth": 0,
             "ticks": ""
            },
            "type": "contourcarpet"
           }
          ],
          "heatmap": [
           {
            "colorbar": {
             "outlinewidth": 0,
             "ticks": ""
            },
            "colorscale": [
             [
              0,
              "#0d0887"
             ],
             [
              0.1111111111111111,
              "#46039f"
             ],
             [
              0.2222222222222222,
              "#7201a8"
             ],
             [
              0.3333333333333333,
              "#9c179e"
             ],
             [
              0.4444444444444444,
              "#bd3786"
             ],
             [
              0.5555555555555556,
              "#d8576b"
             ],
             [
              0.6666666666666666,
              "#ed7953"
             ],
             [
              0.7777777777777778,
              "#fb9f3a"
             ],
             [
              0.8888888888888888,
              "#fdca26"
             ],
             [
              1,
              "#f0f921"
             ]
            ],
            "type": "heatmap"
           }
          ],
          "heatmapgl": [
           {
            "colorbar": {
             "outlinewidth": 0,
             "ticks": ""
            },
            "colorscale": [
             [
              0,
              "#0d0887"
             ],
             [
              0.1111111111111111,
              "#46039f"
             ],
             [
              0.2222222222222222,
              "#7201a8"
             ],
             [
              0.3333333333333333,
              "#9c179e"
             ],
             [
              0.4444444444444444,
              "#bd3786"
             ],
             [
              0.5555555555555556,
              "#d8576b"
             ],
             [
              0.6666666666666666,
              "#ed7953"
             ],
             [
              0.7777777777777778,
              "#fb9f3a"
             ],
             [
              0.8888888888888888,
              "#fdca26"
             ],
             [
              1,
              "#f0f921"
             ]
            ],
            "type": "heatmapgl"
           }
          ],
          "histogram": [
           {
            "marker": {
             "colorbar": {
              "outlinewidth": 0,
              "ticks": ""
             }
            },
            "type": "histogram"
           }
          ],
          "histogram2d": [
           {
            "colorbar": {
             "outlinewidth": 0,
             "ticks": ""
            },
            "colorscale": [
             [
              0,
              "#0d0887"
             ],
             [
              0.1111111111111111,
              "#46039f"
             ],
             [
              0.2222222222222222,
              "#7201a8"
             ],
             [
              0.3333333333333333,
              "#9c179e"
             ],
             [
              0.4444444444444444,
              "#bd3786"
             ],
             [
              0.5555555555555556,
              "#d8576b"
             ],
             [
              0.6666666666666666,
              "#ed7953"
             ],
             [
              0.7777777777777778,
              "#fb9f3a"
             ],
             [
              0.8888888888888888,
              "#fdca26"
             ],
             [
              1,
              "#f0f921"
             ]
            ],
            "type": "histogram2d"
           }
          ],
          "histogram2dcontour": [
           {
            "colorbar": {
             "outlinewidth": 0,
             "ticks": ""
            },
            "colorscale": [
             [
              0,
              "#0d0887"
             ],
             [
              0.1111111111111111,
              "#46039f"
             ],
             [
              0.2222222222222222,
              "#7201a8"
             ],
             [
              0.3333333333333333,
              "#9c179e"
             ],
             [
              0.4444444444444444,
              "#bd3786"
             ],
             [
              0.5555555555555556,
              "#d8576b"
             ],
             [
              0.6666666666666666,
              "#ed7953"
             ],
             [
              0.7777777777777778,
              "#fb9f3a"
             ],
             [
              0.8888888888888888,
              "#fdca26"
             ],
             [
              1,
              "#f0f921"
             ]
            ],
            "type": "histogram2dcontour"
           }
          ],
          "mesh3d": [
           {
            "colorbar": {
             "outlinewidth": 0,
             "ticks": ""
            },
            "type": "mesh3d"
           }
          ],
          "parcoords": [
           {
            "line": {
             "colorbar": {
              "outlinewidth": 0,
              "ticks": ""
             }
            },
            "type": "parcoords"
           }
          ],
          "pie": [
           {
            "automargin": true,
            "type": "pie"
           }
          ],
          "scatter": [
           {
            "marker": {
             "colorbar": {
              "outlinewidth": 0,
              "ticks": ""
             }
            },
            "type": "scatter"
           }
          ],
          "scatter3d": [
           {
            "line": {
             "colorbar": {
              "outlinewidth": 0,
              "ticks": ""
             }
            },
            "marker": {
             "colorbar": {
              "outlinewidth": 0,
              "ticks": ""
             }
            },
            "type": "scatter3d"
           }
          ],
          "scattercarpet": [
           {
            "marker": {
             "colorbar": {
              "outlinewidth": 0,
              "ticks": ""
             }
            },
            "type": "scattercarpet"
           }
          ],
          "scattergeo": [
           {
            "marker": {
             "colorbar": {
              "outlinewidth": 0,
              "ticks": ""
             }
            },
            "type": "scattergeo"
           }
          ],
          "scattergl": [
           {
            "marker": {
             "colorbar": {
              "outlinewidth": 0,
              "ticks": ""
             }
            },
            "type": "scattergl"
           }
          ],
          "scattermapbox": [
           {
            "marker": {
             "colorbar": {
              "outlinewidth": 0,
              "ticks": ""
             }
            },
            "type": "scattermapbox"
           }
          ],
          "scatterpolar": [
           {
            "marker": {
             "colorbar": {
              "outlinewidth": 0,
              "ticks": ""
             }
            },
            "type": "scatterpolar"
           }
          ],
          "scatterpolargl": [
           {
            "marker": {
             "colorbar": {
              "outlinewidth": 0,
              "ticks": ""
             }
            },
            "type": "scatterpolargl"
           }
          ],
          "scatterternary": [
           {
            "marker": {
             "colorbar": {
              "outlinewidth": 0,
              "ticks": ""
             }
            },
            "type": "scatterternary"
           }
          ],
          "surface": [
           {
            "colorbar": {
             "outlinewidth": 0,
             "ticks": ""
            },
            "colorscale": [
             [
              0,
              "#0d0887"
             ],
             [
              0.1111111111111111,
              "#46039f"
             ],
             [
              0.2222222222222222,
              "#7201a8"
             ],
             [
              0.3333333333333333,
              "#9c179e"
             ],
             [
              0.4444444444444444,
              "#bd3786"
             ],
             [
              0.5555555555555556,
              "#d8576b"
             ],
             [
              0.6666666666666666,
              "#ed7953"
             ],
             [
              0.7777777777777778,
              "#fb9f3a"
             ],
             [
              0.8888888888888888,
              "#fdca26"
             ],
             [
              1,
              "#f0f921"
             ]
            ],
            "type": "surface"
           }
          ],
          "table": [
           {
            "cells": {
             "fill": {
              "color": "#EBF0F8"
             },
             "line": {
              "color": "white"
             }
            },
            "header": {
             "fill": {
              "color": "#C8D4E3"
             },
             "line": {
              "color": "white"
             }
            },
            "type": "table"
           }
          ]
         },
         "layout": {
          "annotationdefaults": {
           "arrowcolor": "#2a3f5f",
           "arrowhead": 0,
           "arrowwidth": 1
          },
          "coloraxis": {
           "colorbar": {
            "outlinewidth": 0,
            "ticks": ""
           }
          },
          "colorscale": {
           "diverging": [
            [
             0,
             "#8e0152"
            ],
            [
             0.1,
             "#c51b7d"
            ],
            [
             0.2,
             "#de77ae"
            ],
            [
             0.3,
             "#f1b6da"
            ],
            [
             0.4,
             "#fde0ef"
            ],
            [
             0.5,
             "#f7f7f7"
            ],
            [
             0.6,
             "#e6f5d0"
            ],
            [
             0.7,
             "#b8e186"
            ],
            [
             0.8,
             "#7fbc41"
            ],
            [
             0.9,
             "#4d9221"
            ],
            [
             1,
             "#276419"
            ]
           ],
           "sequential": [
            [
             0,
             "#0d0887"
            ],
            [
             0.1111111111111111,
             "#46039f"
            ],
            [
             0.2222222222222222,
             "#7201a8"
            ],
            [
             0.3333333333333333,
             "#9c179e"
            ],
            [
             0.4444444444444444,
             "#bd3786"
            ],
            [
             0.5555555555555556,
             "#d8576b"
            ],
            [
             0.6666666666666666,
             "#ed7953"
            ],
            [
             0.7777777777777778,
             "#fb9f3a"
            ],
            [
             0.8888888888888888,
             "#fdca26"
            ],
            [
             1,
             "#f0f921"
            ]
           ],
           "sequentialminus": [
            [
             0,
             "#0d0887"
            ],
            [
             0.1111111111111111,
             "#46039f"
            ],
            [
             0.2222222222222222,
             "#7201a8"
            ],
            [
             0.3333333333333333,
             "#9c179e"
            ],
            [
             0.4444444444444444,
             "#bd3786"
            ],
            [
             0.5555555555555556,
             "#d8576b"
            ],
            [
             0.6666666666666666,
             "#ed7953"
            ],
            [
             0.7777777777777778,
             "#fb9f3a"
            ],
            [
             0.8888888888888888,
             "#fdca26"
            ],
            [
             1,
             "#f0f921"
            ]
           ]
          },
          "colorway": [
           "#636efa",
           "#EF553B",
           "#00cc96",
           "#ab63fa",
           "#FFA15A",
           "#19d3f3",
           "#FF6692",
           "#B6E880",
           "#FF97FF",
           "#FECB52"
          ],
          "font": {
           "color": "#2a3f5f"
          },
          "geo": {
           "bgcolor": "white",
           "lakecolor": "white",
           "landcolor": "#E5ECF6",
           "showlakes": true,
           "showland": true,
           "subunitcolor": "white"
          },
          "hoverlabel": {
           "align": "left"
          },
          "hovermode": "closest",
          "mapbox": {
           "style": "light"
          },
          "paper_bgcolor": "white",
          "plot_bgcolor": "#E5ECF6",
          "polar": {
           "angularaxis": {
            "gridcolor": "white",
            "linecolor": "white",
            "ticks": ""
           },
           "bgcolor": "#E5ECF6",
           "radialaxis": {
            "gridcolor": "white",
            "linecolor": "white",
            "ticks": ""
           }
          },
          "scene": {
           "xaxis": {
            "backgroundcolor": "#E5ECF6",
            "gridcolor": "white",
            "gridwidth": 2,
            "linecolor": "white",
            "showbackground": true,
            "ticks": "",
            "zerolinecolor": "white"
           },
           "yaxis": {
            "backgroundcolor": "#E5ECF6",
            "gridcolor": "white",
            "gridwidth": 2,
            "linecolor": "white",
            "showbackground": true,
            "ticks": "",
            "zerolinecolor": "white"
           },
           "zaxis": {
            "backgroundcolor": "#E5ECF6",
            "gridcolor": "white",
            "gridwidth": 2,
            "linecolor": "white",
            "showbackground": true,
            "ticks": "",
            "zerolinecolor": "white"
           }
          },
          "shapedefaults": {
           "line": {
            "color": "#2a3f5f"
           }
          },
          "ternary": {
           "aaxis": {
            "gridcolor": "white",
            "linecolor": "white",
            "ticks": ""
           },
           "baxis": {
            "gridcolor": "white",
            "linecolor": "white",
            "ticks": ""
           },
           "bgcolor": "#E5ECF6",
           "caxis": {
            "gridcolor": "white",
            "linecolor": "white",
            "ticks": ""
           }
          },
          "title": {
           "x": 0.05
          },
          "xaxis": {
           "automargin": true,
           "gridcolor": "white",
           "linecolor": "white",
           "ticks": "",
           "title": {
            "standoff": 15
           },
           "zerolinecolor": "white",
           "zerolinewidth": 2
          },
          "yaxis": {
           "automargin": true,
           "gridcolor": "white",
           "linecolor": "white",
           "ticks": "",
           "title": {
            "standoff": 15
           },
           "zerolinecolor": "white",
           "zerolinewidth": 2
          }
         }
        },
        "xaxis": {
         "anchor": "y",
         "domain": [
          0,
          1
         ],
         "title": {
          "text": "type"
         }
        },
        "yaxis": {
         "anchor": "x",
         "domain": [
          0,
          1
         ],
         "title": {
          "text": "total"
         }
        }
       }
      },
      "text/html": [
       "<div>\n",
       "        \n",
       "        \n",
       "            <div id=\"86f39bf9-8d33-4ac7-9647-cbf648a39deb\" class=\"plotly-graph-div\" style=\"height:525px; width:100%;\"></div>\n",
       "            <script type=\"text/javascript\">\n",
       "                require([\"plotly\"], function(Plotly) {\n",
       "                    window.PLOTLYENV=window.PLOTLYENV || {};\n",
       "                    \n",
       "                if (document.getElementById(\"86f39bf9-8d33-4ac7-9647-cbf648a39deb\")) {\n",
       "                    Plotly.newPlot(\n",
       "                        '86f39bf9-8d33-4ac7-9647-cbf648a39deb',\n",
       "                        [{\"alignmentgroup\": \"True\", \"hovertemplate\": \"type=%{x}<br>total=%{y}<extra></extra>\", \"legendgroup\": \"\", \"marker\": {\"color\": \"#636efa\"}, \"name\": \"\", \"offsetgroup\": \"\", \"orientation\": \"v\", \"showlegend\": false, \"textposition\": \"auto\", \"type\": \"bar\", \"x\": [\"Apela\\u00e7\\u00e3o C\\u00edvel\", \"Agravo de Instrumento\", \"Embargos de Declara\\u00e7\\u00e3o\", \"Recurso C\\u00edvel\", \"Agravo\", \"Apela\\u00e7\\u00e3o Crime\", \"Apela\\u00e7\\u00e3o e Reexame Necess\\u00e1rio\", \"Habeas Corpus\", \"Recurso Especial\", \"Reexame Necess\\u00e1rio\", \"Recurso em Sentido Estrito\", \"Recurso Crime\", \"Conflito de Compet\\u00eancia\", \"Agravo Regimental\", \"Embargos Infringentes\", \"Recurso Extraordin\\u00e1rio\", \"Mandado de Seguran\\u00e7a\", \"Recurso Especial e ou Extraordin\\u00e1rio\", \"Embargos Infringentes e de Nulidade\", \"Agravo em Execu\\u00e7\\u00e3o\"], \"xaxis\": \"x\", \"y\": [1619859, 1367460, 813282, 470179, 420130, 274843, 146944, 139648, 59457, 47982, 31637, 31530, 28710, 26798, 23556, 23547, 22101, 15489, 12187, 7244], \"yaxis\": \"y\"}],\n",
       "                        {\"barmode\": \"relative\", \"legend\": {\"tracegroupgap\": 0}, \"margin\": {\"t\": 60}, \"template\": {\"data\": {\"bar\": [{\"error_x\": {\"color\": \"#2a3f5f\"}, \"error_y\": {\"color\": \"#2a3f5f\"}, \"marker\": {\"line\": {\"color\": \"#E5ECF6\", \"width\": 0.5}}, \"type\": \"bar\"}], \"barpolar\": [{\"marker\": {\"line\": {\"color\": \"#E5ECF6\", \"width\": 0.5}}, \"type\": \"barpolar\"}], \"carpet\": [{\"aaxis\": {\"endlinecolor\": \"#2a3f5f\", \"gridcolor\": \"white\", \"linecolor\": \"white\", \"minorgridcolor\": \"white\", \"startlinecolor\": \"#2a3f5f\"}, \"baxis\": {\"endlinecolor\": \"#2a3f5f\", \"gridcolor\": \"white\", \"linecolor\": \"white\", \"minorgridcolor\": \"white\", \"startlinecolor\": \"#2a3f5f\"}, \"type\": \"carpet\"}], \"choropleth\": [{\"colorbar\": {\"outlinewidth\": 0, \"ticks\": \"\"}, \"type\": \"choropleth\"}], \"contour\": [{\"colorbar\": {\"outlinewidth\": 0, \"ticks\": \"\"}, \"colorscale\": [[0.0, \"#0d0887\"], [0.1111111111111111, \"#46039f\"], [0.2222222222222222, \"#7201a8\"], [0.3333333333333333, \"#9c179e\"], [0.4444444444444444, \"#bd3786\"], [0.5555555555555556, \"#d8576b\"], [0.6666666666666666, \"#ed7953\"], [0.7777777777777778, \"#fb9f3a\"], [0.8888888888888888, \"#fdca26\"], [1.0, \"#f0f921\"]], \"type\": \"contour\"}], \"contourcarpet\": [{\"colorbar\": {\"outlinewidth\": 0, \"ticks\": \"\"}, \"type\": \"contourcarpet\"}], \"heatmap\": [{\"colorbar\": {\"outlinewidth\": 0, \"ticks\": \"\"}, \"colorscale\": [[0.0, \"#0d0887\"], [0.1111111111111111, \"#46039f\"], [0.2222222222222222, \"#7201a8\"], [0.3333333333333333, \"#9c179e\"], [0.4444444444444444, \"#bd3786\"], [0.5555555555555556, \"#d8576b\"], [0.6666666666666666, \"#ed7953\"], [0.7777777777777778, \"#fb9f3a\"], [0.8888888888888888, \"#fdca26\"], [1.0, \"#f0f921\"]], \"type\": \"heatmap\"}], \"heatmapgl\": [{\"colorbar\": {\"outlinewidth\": 0, \"ticks\": \"\"}, \"colorscale\": [[0.0, \"#0d0887\"], [0.1111111111111111, \"#46039f\"], [0.2222222222222222, \"#7201a8\"], [0.3333333333333333, \"#9c179e\"], [0.4444444444444444, \"#bd3786\"], [0.5555555555555556, \"#d8576b\"], [0.6666666666666666, \"#ed7953\"], [0.7777777777777778, \"#fb9f3a\"], [0.8888888888888888, \"#fdca26\"], [1.0, \"#f0f921\"]], \"type\": \"heatmapgl\"}], \"histogram\": [{\"marker\": {\"colorbar\": {\"outlinewidth\": 0, \"ticks\": \"\"}}, \"type\": \"histogram\"}], \"histogram2d\": [{\"colorbar\": {\"outlinewidth\": 0, \"ticks\": \"\"}, \"colorscale\": [[0.0, \"#0d0887\"], [0.1111111111111111, \"#46039f\"], [0.2222222222222222, \"#7201a8\"], [0.3333333333333333, \"#9c179e\"], [0.4444444444444444, \"#bd3786\"], [0.5555555555555556, \"#d8576b\"], [0.6666666666666666, \"#ed7953\"], [0.7777777777777778, \"#fb9f3a\"], [0.8888888888888888, \"#fdca26\"], [1.0, \"#f0f921\"]], \"type\": \"histogram2d\"}], \"histogram2dcontour\": [{\"colorbar\": {\"outlinewidth\": 0, \"ticks\": \"\"}, \"colorscale\": [[0.0, \"#0d0887\"], [0.1111111111111111, \"#46039f\"], [0.2222222222222222, \"#7201a8\"], [0.3333333333333333, \"#9c179e\"], [0.4444444444444444, \"#bd3786\"], [0.5555555555555556, \"#d8576b\"], [0.6666666666666666, \"#ed7953\"], [0.7777777777777778, \"#fb9f3a\"], [0.8888888888888888, \"#fdca26\"], [1.0, \"#f0f921\"]], \"type\": \"histogram2dcontour\"}], \"mesh3d\": [{\"colorbar\": {\"outlinewidth\": 0, \"ticks\": \"\"}, \"type\": \"mesh3d\"}], \"parcoords\": [{\"line\": {\"colorbar\": {\"outlinewidth\": 0, \"ticks\": \"\"}}, \"type\": \"parcoords\"}], \"pie\": [{\"automargin\": true, \"type\": \"pie\"}], \"scatter\": [{\"marker\": {\"colorbar\": {\"outlinewidth\": 0, \"ticks\": \"\"}}, \"type\": \"scatter\"}], \"scatter3d\": [{\"line\": {\"colorbar\": {\"outlinewidth\": 0, \"ticks\": \"\"}}, \"marker\": {\"colorbar\": {\"outlinewidth\": 0, \"ticks\": \"\"}}, \"type\": \"scatter3d\"}], \"scattercarpet\": [{\"marker\": {\"colorbar\": {\"outlinewidth\": 0, \"ticks\": \"\"}}, \"type\": \"scattercarpet\"}], \"scattergeo\": [{\"marker\": {\"colorbar\": {\"outlinewidth\": 0, \"ticks\": \"\"}}, \"type\": \"scattergeo\"}], \"scattergl\": [{\"marker\": {\"colorbar\": {\"outlinewidth\": 0, \"ticks\": \"\"}}, \"type\": \"scattergl\"}], \"scattermapbox\": [{\"marker\": {\"colorbar\": {\"outlinewidth\": 0, \"ticks\": \"\"}}, \"type\": \"scattermapbox\"}], \"scatterpolar\": [{\"marker\": {\"colorbar\": {\"outlinewidth\": 0, \"ticks\": \"\"}}, \"type\": \"scatterpolar\"}], \"scatterpolargl\": [{\"marker\": {\"colorbar\": {\"outlinewidth\": 0, \"ticks\": \"\"}}, \"type\": \"scatterpolargl\"}], \"scatterternary\": [{\"marker\": {\"colorbar\": {\"outlinewidth\": 0, \"ticks\": \"\"}}, \"type\": \"scatterternary\"}], \"surface\": [{\"colorbar\": {\"outlinewidth\": 0, \"ticks\": \"\"}, \"colorscale\": [[0.0, \"#0d0887\"], [0.1111111111111111, \"#46039f\"], [0.2222222222222222, \"#7201a8\"], [0.3333333333333333, \"#9c179e\"], [0.4444444444444444, \"#bd3786\"], [0.5555555555555556, \"#d8576b\"], [0.6666666666666666, \"#ed7953\"], [0.7777777777777778, \"#fb9f3a\"], [0.8888888888888888, \"#fdca26\"], [1.0, \"#f0f921\"]], \"type\": \"surface\"}], \"table\": [{\"cells\": {\"fill\": {\"color\": \"#EBF0F8\"}, \"line\": {\"color\": \"white\"}}, \"header\": {\"fill\": {\"color\": \"#C8D4E3\"}, \"line\": {\"color\": \"white\"}}, \"type\": \"table\"}]}, \"layout\": {\"annotationdefaults\": {\"arrowcolor\": \"#2a3f5f\", \"arrowhead\": 0, \"arrowwidth\": 1}, \"coloraxis\": {\"colorbar\": {\"outlinewidth\": 0, \"ticks\": \"\"}}, \"colorscale\": {\"diverging\": [[0, \"#8e0152\"], [0.1, \"#c51b7d\"], [0.2, \"#de77ae\"], [0.3, \"#f1b6da\"], [0.4, \"#fde0ef\"], [0.5, \"#f7f7f7\"], [0.6, \"#e6f5d0\"], [0.7, \"#b8e186\"], [0.8, \"#7fbc41\"], [0.9, \"#4d9221\"], [1, \"#276419\"]], \"sequential\": [[0.0, \"#0d0887\"], [0.1111111111111111, \"#46039f\"], [0.2222222222222222, \"#7201a8\"], [0.3333333333333333, \"#9c179e\"], [0.4444444444444444, \"#bd3786\"], [0.5555555555555556, \"#d8576b\"], [0.6666666666666666, \"#ed7953\"], [0.7777777777777778, \"#fb9f3a\"], [0.8888888888888888, \"#fdca26\"], [1.0, \"#f0f921\"]], \"sequentialminus\": [[0.0, \"#0d0887\"], [0.1111111111111111, \"#46039f\"], [0.2222222222222222, \"#7201a8\"], [0.3333333333333333, \"#9c179e\"], [0.4444444444444444, \"#bd3786\"], [0.5555555555555556, \"#d8576b\"], [0.6666666666666666, \"#ed7953\"], [0.7777777777777778, \"#fb9f3a\"], [0.8888888888888888, \"#fdca26\"], [1.0, \"#f0f921\"]]}, \"colorway\": [\"#636efa\", \"#EF553B\", \"#00cc96\", \"#ab63fa\", \"#FFA15A\", \"#19d3f3\", \"#FF6692\", \"#B6E880\", \"#FF97FF\", \"#FECB52\"], \"font\": {\"color\": \"#2a3f5f\"}, \"geo\": {\"bgcolor\": \"white\", \"lakecolor\": \"white\", \"landcolor\": \"#E5ECF6\", \"showlakes\": true, \"showland\": true, \"subunitcolor\": \"white\"}, \"hoverlabel\": {\"align\": \"left\"}, \"hovermode\": \"closest\", \"mapbox\": {\"style\": \"light\"}, \"paper_bgcolor\": \"white\", \"plot_bgcolor\": \"#E5ECF6\", \"polar\": {\"angularaxis\": {\"gridcolor\": \"white\", \"linecolor\": \"white\", \"ticks\": \"\"}, \"bgcolor\": \"#E5ECF6\", \"radialaxis\": {\"gridcolor\": \"white\", \"linecolor\": \"white\", \"ticks\": \"\"}}, \"scene\": {\"xaxis\": {\"backgroundcolor\": \"#E5ECF6\", \"gridcolor\": \"white\", \"gridwidth\": 2, \"linecolor\": \"white\", \"showbackground\": true, \"ticks\": \"\", \"zerolinecolor\": \"white\"}, \"yaxis\": {\"backgroundcolor\": \"#E5ECF6\", \"gridcolor\": \"white\", \"gridwidth\": 2, \"linecolor\": \"white\", \"showbackground\": true, \"ticks\": \"\", \"zerolinecolor\": \"white\"}, \"zaxis\": {\"backgroundcolor\": \"#E5ECF6\", \"gridcolor\": \"white\", \"gridwidth\": 2, \"linecolor\": \"white\", \"showbackground\": true, \"ticks\": \"\", \"zerolinecolor\": \"white\"}}, \"shapedefaults\": {\"line\": {\"color\": \"#2a3f5f\"}}, \"ternary\": {\"aaxis\": {\"gridcolor\": \"white\", \"linecolor\": \"white\", \"ticks\": \"\"}, \"baxis\": {\"gridcolor\": \"white\", \"linecolor\": \"white\", \"ticks\": \"\"}, \"bgcolor\": \"#E5ECF6\", \"caxis\": {\"gridcolor\": \"white\", \"linecolor\": \"white\", \"ticks\": \"\"}}, \"title\": {\"x\": 0.05}, \"xaxis\": {\"automargin\": true, \"gridcolor\": \"white\", \"linecolor\": \"white\", \"ticks\": \"\", \"title\": {\"standoff\": 15}, \"zerolinecolor\": \"white\", \"zerolinewidth\": 2}, \"yaxis\": {\"automargin\": true, \"gridcolor\": \"white\", \"linecolor\": \"white\", \"ticks\": \"\", \"title\": {\"standoff\": 15}, \"zerolinecolor\": \"white\", \"zerolinewidth\": 2}}}, \"xaxis\": {\"anchor\": \"y\", \"domain\": [0.0, 1.0], \"title\": {\"text\": \"type\"}}, \"yaxis\": {\"anchor\": \"x\", \"domain\": [0.0, 1.0], \"title\": {\"text\": \"total\"}}},\n",
       "                        {\"responsive\": true}\n",
       "                    ).then(function(){\n",
       "                            \n",
       "var gd = document.getElementById('86f39bf9-8d33-4ac7-9647-cbf648a39deb');\n",
       "var x = new MutationObserver(function (mutations, observer) {{\n",
       "        var display = window.getComputedStyle(gd).display;\n",
       "        if (!display || display === 'none') {{\n",
       "            console.log([gd, 'removed!']);\n",
       "            Plotly.purge(gd);\n",
       "            observer.disconnect();\n",
       "        }}\n",
       "}});\n",
       "\n",
       "// Listen for the removal of the full notebook cells\n",
       "var notebookContainer = gd.closest('#notebook-container');\n",
       "if (notebookContainer) {{\n",
       "    x.observe(notebookContainer, {childList: true});\n",
       "}}\n",
       "\n",
       "// Listen for the clearing of the current output cell\n",
       "var outputEl = gd.closest('.output');\n",
       "if (outputEl) {{\n",
       "    x.observe(outputEl, {childList: true});\n",
       "}}\n",
       "\n",
       "                        })\n",
       "                };\n",
       "                });\n",
       "            </script>\n",
       "        </div>"
      ]
     },
     "metadata": {},
     "output_type": "display_data"
    }
   ],
   "source": [
    "dfGrp = df_count_year_month_type.reset_index().groupby(['type']).agg(total=('count','sum')).sort_values('total',ascending=False)\n",
    "dfGrp = dfGrp[0:20]\n",
    "display(dfGrp.head(20))\n",
    "px.bar(dfGrp.reset_index(), x=\"type\",y='total')"
   ]
  },
  {
   "cell_type": "code",
   "execution_count": 270,
   "metadata": {},
   "outputs": [
    {
     "data": {
      "text/html": [
       "<div>\n",
       "<style scoped>\n",
       "    .dataframe tbody tr th:only-of-type {\n",
       "        vertical-align: middle;\n",
       "    }\n",
       "\n",
       "    .dataframe tbody tr th {\n",
       "        vertical-align: top;\n",
       "    }\n",
       "\n",
       "    .dataframe thead th {\n",
       "        text-align: right;\n",
       "    }\n",
       "</style>\n",
       "<table border=\"1\" class=\"dataframe\">\n",
       "  <thead>\n",
       "    <tr style=\"text-align: right;\">\n",
       "      <th></th>\n",
       "      <th>yearMonth</th>\n",
       "      <th>type</th>\n",
       "      <th>count</th>\n",
       "      <th>total</th>\n",
       "    </tr>\n",
       "  </thead>\n",
       "  <tbody>\n",
       "    <tr>\n",
       "      <th>0</th>\n",
       "      <td>2000-01-01</td>\n",
       "      <td>Agravo de Instrumento</td>\n",
       "      <td>12</td>\n",
       "      <td>1367460.0</td>\n",
       "    </tr>\n",
       "    <tr>\n",
       "      <th>2</th>\n",
       "      <td>2000-02-01</td>\n",
       "      <td>Agravo</td>\n",
       "      <td>4</td>\n",
       "      <td>420130.0</td>\n",
       "    </tr>\n",
       "    <tr>\n",
       "      <th>3</th>\n",
       "      <td>2000-02-01</td>\n",
       "      <td>Agravo de Instrumento</td>\n",
       "      <td>35</td>\n",
       "      <td>1367460.0</td>\n",
       "    </tr>\n",
       "    <tr>\n",
       "      <th>4</th>\n",
       "      <td>2000-02-01</td>\n",
       "      <td>Agravo Regimental</td>\n",
       "      <td>2</td>\n",
       "      <td>26798.0</td>\n",
       "    </tr>\n",
       "    <tr>\n",
       "      <th>5</th>\n",
       "      <td>2000-02-01</td>\n",
       "      <td>Apelação Cível</td>\n",
       "      <td>151</td>\n",
       "      <td>1619859.0</td>\n",
       "    </tr>\n",
       "    <tr>\n",
       "      <th>...</th>\n",
       "      <td>...</td>\n",
       "      <td>...</td>\n",
       "      <td>...</td>\n",
       "      <td>...</td>\n",
       "    </tr>\n",
       "    <tr>\n",
       "      <th>1991</th>\n",
       "      <td>2006-04-01</td>\n",
       "      <td>Apelação Crime</td>\n",
       "      <td>1091</td>\n",
       "      <td>274843.0</td>\n",
       "    </tr>\n",
       "    <tr>\n",
       "      <th>1992</th>\n",
       "      <td>2006-04-01</td>\n",
       "      <td>Apelação e Reexame Necessário</td>\n",
       "      <td>778</td>\n",
       "      <td>146944.0</td>\n",
       "    </tr>\n",
       "    <tr>\n",
       "      <th>1993</th>\n",
       "      <td>2006-04-01</td>\n",
       "      <td>Conflito de Competência</td>\n",
       "      <td>67</td>\n",
       "      <td>28710.0</td>\n",
       "    </tr>\n",
       "    <tr>\n",
       "      <th>1995</th>\n",
       "      <td>2006-04-01</td>\n",
       "      <td>Embargos de Declaração</td>\n",
       "      <td>3332</td>\n",
       "      <td>813282.0</td>\n",
       "    </tr>\n",
       "    <tr>\n",
       "      <th>1996</th>\n",
       "      <td>2006-04-01</td>\n",
       "      <td>Embargos Infringentes</td>\n",
       "      <td>304</td>\n",
       "      <td>23556.0</td>\n",
       "    </tr>\n",
       "  </tbody>\n",
       "</table>\n",
       "<p>1000 rows × 4 columns</p>\n",
       "</div>"
      ],
      "text/plain": [
       "      yearMonth                           type  count      total\n",
       "0    2000-01-01          Agravo de Instrumento     12  1367460.0\n",
       "2    2000-02-01                         Agravo      4   420130.0\n",
       "3    2000-02-01          Agravo de Instrumento     35  1367460.0\n",
       "4    2000-02-01              Agravo Regimental      2    26798.0\n",
       "5    2000-02-01                 Apelação Cível    151  1619859.0\n",
       "...         ...                            ...    ...        ...\n",
       "1991 2006-04-01                 Apelação Crime   1091   274843.0\n",
       "1992 2006-04-01  Apelação e Reexame Necessário    778   146944.0\n",
       "1993 2006-04-01        Conflito de Competência     67    28710.0\n",
       "1995 2006-04-01         Embargos de Declaração   3332   813282.0\n",
       "1996 2006-04-01          Embargos Infringentes    304    23556.0\n",
       "\n",
       "[1000 rows x 4 columns]"
      ]
     },
     "metadata": {},
     "output_type": "display_data"
    }
   ],
   "source": [
    "pd.set_option(\"display.max_rows\", 999)\n",
    "dff = pd.merge(df_count_year_month_type.reset_index(),dfGrp,on='type',how='left')\n",
    "dff.dropna(inplace=True)\n",
    "display(dff.head(1000))\n"
   ]
  },
  {
   "cell_type": "code",
   "execution_count": 271,
   "metadata": {},
   "outputs": [
    {
     "data": {
      "text/plain": [
       "array(['Agravo de Instrumento', 'Agravo', 'Agravo Regimental',\n",
       "       'Apelação Cível', 'Apelação Crime',\n",
       "       'Apelação e Reexame Necessário', 'Embargos de Declaração',\n",
       "       'Reexame Necessário', 'Conflito de Competência', 'Habeas Corpus',\n",
       "       'Mandado de Segurança', 'Recurso Crime',\n",
       "       'Recurso em Sentido Estrito', 'Agravo em Execução',\n",
       "       'Embargos Infringentes', 'Recurso Cível', 'Recurso Extraordinário',\n",
       "       'Recurso Especial', 'Embargos Infringentes e de Nulidade',\n",
       "       'Recurso Especial e ou Extraordinário'], dtype=object)"
      ]
     },
     "execution_count": 271,
     "metadata": {},
     "output_type": "execute_result"
    }
   ],
   "source": [
    "#dff.count()\n",
    "\n",
    "dff['type'].unique()"
   ]
  },
  {
   "cell_type": "code",
   "execution_count": 276,
   "metadata": {
    "scrolled": false
   },
   "outputs": [
    {
     "data": {
      "image/png": "[encoded data removed]",
      "text/plain": [
       "<Figure size 1296x720 with 1 Axes>"
      ]
     },
     "metadata": {
      "needs_background": "light"
     },
     "output_type": "display_data"
    }
   ],
   "source": [
    "plt.rcParams[\"figure.figsize\"] = (18,10)\n",
    "for i in dff['type'].unique():\n",
    "    #print(i)\n",
    "    graph = dfGrpByDay[dfGrpByDay['type']==i].sort_values(by='yearMonth', ascending=True)\n",
    "    #print(graph.columns)\n",
    "    plt.plot(graph.index,graph['total'],label=i)\n",
    "\n",
    "plt.legend(loc=\"type\")\n",
    "plt.show()    "
   ]
  },
  {
   "cell_type": "code",
   "execution_count": 278,
   "metadata": {
    "scrolled": false
   },
   "outputs": [
    {
     "name": "stdout",
     "output_type": "stream",
     "text": [
      "Index(['type', 'count', 'weekDay', 'weekType', 'Dia', 'Mes', 'Ano', 'Feriado'], dtype='object')\n"
     ]
    },
    {
     "data": {
      "text/html": [
       "<div>\n",
       "<style scoped>\n",
       "    .dataframe tbody tr th:only-of-type {\n",
       "        vertical-align: middle;\n",
       "    }\n",
       "\n",
       "    .dataframe tbody tr th {\n",
       "        vertical-align: top;\n",
       "    }\n",
       "\n",
       "    .dataframe thead th {\n",
       "        text-align: right;\n",
       "    }\n",
       "</style>\n",
       "<table border=\"1\" class=\"dataframe\">\n",
       "  <thead>\n",
       "    <tr style=\"text-align: right;\">\n",
       "      <th></th>\n",
       "      <th>type</th>\n",
       "      <th>Mes</th>\n",
       "      <th>count</th>\n",
       "    </tr>\n",
       "  </thead>\n",
       "  <tbody>\n",
       "    <tr>\n",
       "      <th>116</th>\n",
       "      <td>Apelação Cível</td>\n",
       "      <td>8</td>\n",
       "      <td>164322</td>\n",
       "    </tr>\n",
       "    <tr>\n",
       "      <th>113</th>\n",
       "      <td>Apelação Cível</td>\n",
       "      <td>5</td>\n",
       "      <td>156594</td>\n",
       "    </tr>\n",
       "    <tr>\n",
       "      <th>111</th>\n",
       "      <td>Apelação Cível</td>\n",
       "      <td>3</td>\n",
       "      <td>153918</td>\n",
       "    </tr>\n",
       "    <tr>\n",
       "      <th>118</th>\n",
       "      <td>Apelação Cível</td>\n",
       "      <td>10</td>\n",
       "      <td>153758</td>\n",
       "    </tr>\n",
       "    <tr>\n",
       "      <th>119</th>\n",
       "      <td>Apelação Cível</td>\n",
       "      <td>11</td>\n",
       "      <td>152545</td>\n",
       "    </tr>\n",
       "  </tbody>\n",
       "</table>\n",
       "</div>"
      ],
      "text/plain": [
       "               type  Mes   count\n",
       "116  Apelação Cível    8  164322\n",
       "113  Apelação Cível    5  156594\n",
       "111  Apelação Cível    3  153918\n",
       "118  Apelação Cível   10  153758\n",
       "119  Apelação Cível   11  152545"
      ]
     },
     "metadata": {},
     "output_type": "display_data"
    },
    {
     "data": {
      "application/vnd.plotly.v1+json": {
       "config": {
        "plotlyServerURL": "https://plot.ly"
       },
       "data": [
        {
         "alignmentgroup": "True",
         "hovertemplate": "type=Apelação Cível<br>Mes=%{x}<br>count=%{y}<extra></extra>",
         "legendgroup": "Apelação Cível",
         "marker": {
          "color": "#636efa"
         },
         "name": "Apelação Cível",
         "offsetgroup": "Apelação Cível",
         "orientation": "v",
         "showlegend": true,
         "textposition": "auto",
         "type": "bar",
         "x": [
          8,
          5,
          3,
          10,
          11,
          6,
          9,
          4,
          12,
          7,
          2,
          1
         ],
         "xaxis": "x",
         "y": [
          164322,
          156594,
          153918,
          153758,
          152545,
          151408,
          148711,
          145295,
          136870,
          123685,
          80718,
          52035
         ],
         "yaxis": "y"
        },
        {
         "alignmentgroup": "True",
         "hovertemplate": "type=Agravo de Instrumento<br>Mes=%{x}<br>count=%{y}<extra></extra>",
         "legendgroup": "Agravo de Instrumento",
         "marker": {
          "color": "#EF553B"
         },
         "name": "Agravo de Instrumento",
         "offsetgroup": "Agravo de Instrumento",
         "orientation": "v",
         "showlegend": true,
         "textposition": "auto",
         "type": "bar",
         "x": [
          8,
          10,
          9,
          3,
          11,
          6,
          5,
          4,
          12,
          7,
          2,
          1
         ],
         "xaxis": "x",
         "y": [
          141685,
          126672,
          125445,
          125339,
          123558,
          121993,
          121576,
          119531,
          117140,
          108665,
          83675,
          52181
         ],
         "yaxis": "y"
        },
        {
         "alignmentgroup": "True",
         "hovertemplate": "type=Embargos de Declaração<br>Mes=%{x}<br>count=%{y}<extra></extra>",
         "legendgroup": "Embargos de Declaração",
         "marker": {
          "color": "#00cc96"
         },
         "name": "Embargos de Declaração",
         "offsetgroup": "Embargos de Declaração",
         "orientation": "v",
         "showlegend": true,
         "textposition": "auto",
         "type": "bar",
         "x": [
          8,
          11,
          3,
          6,
          10,
          5,
          12,
          9,
          4,
          7,
          2,
          1
         ],
         "xaxis": "x",
         "y": [
          88994,
          80916,
          80667,
          79154,
          78817,
          72676,
          72431,
          71359,
          66778,
          56420,
          43923,
          21147
         ],
         "yaxis": "y"
        },
        {
         "alignmentgroup": "True",
         "hovertemplate": "type=Recurso Cível<br>Mes=%{x}<br>count=%{y}<extra></extra>",
         "legendgroup": "Recurso Cível",
         "marker": {
          "color": "#ab63fa"
         },
         "name": "Recurso Cível",
         "offsetgroup": "Recurso Cível",
         "orientation": "v",
         "showlegend": true,
         "textposition": "auto",
         "type": "bar",
         "x": [
          10,
          11,
          7,
          8,
          9,
          6,
          5,
          4,
          3,
          12,
          2,
          1
         ],
         "xaxis": "x",
         "y": [
          46910,
          45984,
          43505,
          43346,
          42720,
          42556,
          39683,
          39668,
          39063,
          37333,
          26756,
          22655
         ],
         "yaxis": "y"
        },
        {
         "alignmentgroup": "True",
         "hovertemplate": "type=Agravo<br>Mes=%{x}<br>count=%{y}<extra></extra>",
         "legendgroup": "Agravo",
         "marker": {
          "color": "#FFA15A"
         },
         "name": "Agravo",
         "offsetgroup": "Agravo",
         "orientation": "v",
         "showlegend": true,
         "textposition": "auto",
         "type": "bar",
         "x": [
          3,
          8,
          11,
          4,
          10,
          6,
          9,
          5,
          12,
          7,
          2,
          1
         ],
         "xaxis": "x",
         "y": [
          45339,
          45056,
          41413,
          40255,
          38893,
          38661,
          38650,
          36325,
          35504,
          27513,
          21653,
          10868
         ],
         "yaxis": "y"
        },
        {
         "alignmentgroup": "True",
         "hovertemplate": "type=Apelação Crime<br>Mes=%{x}<br>count=%{y}<extra></extra>",
         "legendgroup": "Apelação Crime",
         "marker": {
          "color": "#19d3f3"
         },
         "name": "Apelação Crime",
         "offsetgroup": "Apelação Crime",
         "orientation": "v",
         "showlegend": true,
         "textposition": "auto",
         "type": "bar",
         "x": [
          11,
          8,
          12,
          6,
          9,
          4,
          10,
          5,
          3,
          7,
          2,
          1
         ],
         "xaxis": "x",
         "y": [
          28094,
          27576,
          26454,
          26275,
          25349,
          24957,
          24912,
          24564,
          24337,
          19196,
          15025,
          8104
         ],
         "yaxis": "y"
        },
        {
         "alignmentgroup": "True",
         "hovertemplate": "type=Apelação e Reexame Necessário<br>Mes=%{x}<br>count=%{y}<extra></extra>",
         "legendgroup": "Apelação e Reexame Necessário",
         "marker": {
          "color": "#FF6692"
         },
         "name": "Apelação e Reexame Necessário",
         "offsetgroup": "Apelação e Reexame Necessário",
         "orientation": "v",
         "showlegend": true,
         "textposition": "auto",
         "type": "bar",
         "x": [
          8,
          12,
          11,
          9,
          6,
          5,
          10,
          3,
          4,
          7,
          2,
          1
         ],
         "xaxis": "x",
         "y": [
          15819,
          15186,
          14323,
          14290,
          14036,
          13477,
          13409,
          13187,
          12602,
          9269,
          7425,
          3921
         ],
         "yaxis": "y"
        },
        {
         "alignmentgroup": "True",
         "hovertemplate": "type=Habeas Corpus<br>Mes=%{x}<br>count=%{y}<extra></extra>",
         "legendgroup": "Habeas Corpus",
         "marker": {
          "color": "#B6E880"
         },
         "name": "Habeas Corpus",
         "offsetgroup": "Habeas Corpus",
         "orientation": "v",
         "showlegend": true,
         "textposition": "auto",
         "type": "bar",
         "x": [
          3,
          8,
          12,
          6,
          11,
          10,
          9,
          5,
          4,
          7,
          2,
          1
         ],
         "xaxis": "x",
         "y": [
          13680,
          13337,
          12662,
          12089,
          12075,
          11929,
          11919,
          11704,
          11547,
          10743,
          10184,
          7779
         ],
         "yaxis": "y"
        },
        {
         "alignmentgroup": "True",
         "hovertemplate": "type=Recurso Especial<br>Mes=%{x}<br>count=%{y}<extra></extra>",
         "legendgroup": "Recurso Especial",
         "marker": {
          "color": "#FF97FF"
         },
         "name": "Recurso Especial",
         "offsetgroup": "Recurso Especial",
         "orientation": "v",
         "showlegend": true,
         "textposition": "auto",
         "type": "bar",
         "x": [
          8,
          10,
          11,
          7,
          6,
          9,
          5,
          12,
          3,
          4,
          2,
          1
         ],
         "xaxis": "x",
         "y": [
          7168,
          7154,
          7048,
          6958,
          6898,
          6137,
          4568,
          3786,
          3465,
          2849,
          1716,
          1710
         ],
         "yaxis": "y"
        },
        {
         "alignmentgroup": "True",
         "hovertemplate": "type=Reexame Necessário<br>Mes=%{x}<br>count=%{y}<extra></extra>",
         "legendgroup": "Reexame Necessário",
         "marker": {
          "color": "#FECB52"
         },
         "name": "Reexame Necessário",
         "offsetgroup": "Reexame Necessário",
         "orientation": "v",
         "showlegend": true,
         "textposition": "auto",
         "type": "bar",
         "x": [
          8,
          6,
          9,
          10,
          5,
          12,
          11,
          3,
          4,
          7,
          2,
          1
         ],
         "xaxis": "x",
         "y": [
          5169,
          4972,
          4649,
          4526,
          4523,
          4250,
          4213,
          4092,
          3762,
          3543,
          2784,
          1499
         ],
         "yaxis": "y"
        },
        {
         "alignmentgroup": "True",
         "hovertemplate": "type=Recurso Crime<br>Mes=%{x}<br>count=%{y}<extra></extra>",
         "legendgroup": "Recurso Crime",
         "marker": {
          "color": "#636efa"
         },
         "name": "Recurso Crime",
         "offsetgroup": "Recurso Crime",
         "orientation": "v",
         "showlegend": true,
         "textposition": "auto",
         "type": "bar",
         "x": [
          11,
          8,
          5,
          10,
          4,
          9,
          6,
          3,
          7,
          12,
          2,
          1
         ],
         "xaxis": "x",
         "y": [
          3835,
          3096,
          3091,
          2945,
          2757,
          2739,
          2705,
          2653,
          2559,
          2149,
          1743,
          1258
         ],
         "yaxis": "y"
        },
        {
         "alignmentgroup": "True",
         "hovertemplate": "type=Recurso em Sentido Estrito<br>Mes=%{x}<br>count=%{y}<extra></extra>",
         "legendgroup": "Recurso em Sentido Estrito",
         "marker": {
          "color": "#EF553B"
         },
         "name": "Recurso em Sentido Estrito",
         "offsetgroup": "Recurso em Sentido Estrito",
         "orientation": "v",
         "showlegend": true,
         "textposition": "auto",
         "type": "bar",
         "x": [
          11,
          8,
          9,
          6,
          10,
          4,
          3,
          12,
          5,
          7,
          2,
          1
         ],
         "xaxis": "x",
         "y": [
          3322,
          3129,
          3082,
          3006,
          2885,
          2882,
          2878,
          2794,
          2792,
          2321,
          1692,
          854
         ],
         "yaxis": "y"
        },
        {
         "alignmentgroup": "True",
         "hovertemplate": "type=Recurso Extraordinário<br>Mes=%{x}<br>count=%{y}<extra></extra>",
         "legendgroup": "Recurso Extraordinário",
         "marker": {
          "color": "#00cc96"
         },
         "name": "Recurso Extraordinário",
         "offsetgroup": "Recurso Extraordinário",
         "orientation": "v",
         "showlegend": true,
         "textposition": "auto",
         "type": "bar",
         "x": [
          8,
          11,
          9,
          6,
          10,
          12,
          2,
          3,
          5,
          7,
          4,
          1
         ],
         "xaxis": "x",
         "y": [
          3252,
          3170,
          2651,
          2496,
          2466,
          1766,
          1593,
          1576,
          1562,
          1423,
          1196,
          396
         ],
         "yaxis": "y"
        },
        {
         "alignmentgroup": "True",
         "hovertemplate": "type=Embargos Infringentes<br>Mes=%{x}<br>count=%{y}<extra></extra>",
         "legendgroup": "Embargos Infringentes",
         "marker": {
          "color": "#ab63fa"
         },
         "name": "Embargos Infringentes",
         "offsetgroup": "Embargos Infringentes",
         "orientation": "v",
         "showlegend": true,
         "textposition": "auto",
         "type": "bar",
         "x": [
          3,
          12,
          4,
          11,
          10,
          5,
          6,
          8,
          9,
          7,
          2,
          1
         ],
         "xaxis": "x",
         "y": [
          3124,
          2922,
          2605,
          2373,
          2301,
          2255,
          2208,
          2186,
          2127,
          1155,
          228,
          72
         ],
         "yaxis": "y"
        },
        {
         "alignmentgroup": "True",
         "hovertemplate": "type=Agravo Regimental<br>Mes=%{x}<br>count=%{y}<extra></extra>",
         "legendgroup": "Agravo Regimental",
         "marker": {
          "color": "#FFA15A"
         },
         "name": "Agravo Regimental",
         "offsetgroup": "Agravo Regimental",
         "orientation": "v",
         "showlegend": true,
         "textposition": "auto",
         "type": "bar",
         "x": [
          3,
          8,
          4,
          11,
          12,
          10,
          9,
          6,
          5,
          7,
          2,
          1
         ],
         "xaxis": "x",
         "y": [
          3116,
          3050,
          2695,
          2661,
          2564,
          2376,
          2367,
          2362,
          2302,
          1599,
          1189,
          517
         ],
         "yaxis": "y"
        },
        {
         "alignmentgroup": "True",
         "hovertemplate": "type=Conflito de Competência<br>Mes=%{x}<br>count=%{y}<extra></extra>",
         "legendgroup": "Conflito de Competência",
         "marker": {
          "color": "#19d3f3"
         },
         "name": "Conflito de Competência",
         "offsetgroup": "Conflito de Competência",
         "orientation": "v",
         "showlegend": true,
         "textposition": "auto",
         "type": "bar",
         "x": [
          8,
          12,
          11,
          3,
          9,
          10,
          5,
          6,
          4,
          7,
          2,
          1
         ],
         "xaxis": "x",
         "y": [
          3021,
          2928,
          2854,
          2698,
          2638,
          2629,
          2503,
          2434,
          2221,
          1893,
          1527,
          1364
         ],
         "yaxis": "y"
        },
        {
         "alignmentgroup": "True",
         "hovertemplate": "type=Mandado de Segurança<br>Mes=%{x}<br>count=%{y}<extra></extra>",
         "legendgroup": "Mandado de Segurança",
         "marker": {
          "color": "#FF6692"
         },
         "name": "Mandado de Segurança",
         "offsetgroup": "Mandado de Segurança",
         "orientation": "v",
         "showlegend": true,
         "textposition": "auto",
         "type": "bar",
         "x": [
          11,
          8,
          12,
          10,
          6,
          3,
          4,
          9,
          7,
          5,
          2,
          1
         ],
         "xaxis": "x",
         "y": [
          2504,
          2263,
          2219,
          2183,
          1949,
          1878,
          1873,
          1858,
          1816,
          1808,
          1026,
          724
         ],
         "yaxis": "y"
        },
        {
         "alignmentgroup": "True",
         "hovertemplate": "type=Recurso Especial e ou Extraordinário<br>Mes=%{x}<br>count=%{y}<extra></extra>",
         "legendgroup": "Recurso Especial e ou Extraordinário",
         "marker": {
          "color": "#B6E880"
         },
         "name": "Recurso Especial e ou Extraordinário",
         "offsetgroup": "Recurso Especial e ou Extraordinário",
         "orientation": "v",
         "showlegend": true,
         "textposition": "auto",
         "type": "bar",
         "x": [
          8,
          10,
          7,
          9,
          11,
          6,
          12,
          5,
          4,
          3,
          2,
          1
         ],
         "xaxis": "x",
         "y": [
          2232,
          1950,
          1792,
          1744,
          1679,
          1550,
          1260,
          970,
          769,
          656,
          503,
          384
         ],
         "yaxis": "y"
        },
        {
         "alignmentgroup": "True",
         "hovertemplate": "type=Embargos Infringentes e de Nulidade<br>Mes=%{x}<br>count=%{y}<extra></extra>",
         "legendgroup": "Embargos Infringentes e de Nulidade",
         "marker": {
          "color": "#FF97FF"
         },
         "name": "Embargos Infringentes e de Nulidade",
         "offsetgroup": "Embargos Infringentes e de Nulidade",
         "orientation": "v",
         "showlegend": true,
         "textposition": "auto",
         "type": "bar",
         "x": [
          3,
          11,
          4,
          8,
          9,
          12,
          7,
          5,
          10,
          6,
          2,
          1
         ],
         "xaxis": "x",
         "y": [
          1835,
          1758,
          1408,
          1228,
          1197,
          956,
          953,
          945,
          874,
          838,
          115,
          80
         ],
         "yaxis": "y"
        },
        {
         "alignmentgroup": "True",
         "hovertemplate": "type=Agravo em Execução<br>Mes=%{x}<br>count=%{y}<extra></extra>",
         "legendgroup": "Agravo em Execução",
         "marker": {
          "color": "#FECB52"
         },
         "name": "Agravo em Execução",
         "offsetgroup": "Agravo em Execução",
         "orientation": "v",
         "showlegend": true,
         "textposition": "auto",
         "type": "bar",
         "x": [
          3,
          10,
          12,
          9,
          4,
          8,
          6,
          11,
          2,
          5,
          1,
          7
         ],
         "xaxis": "x",
         "y": [
          1261,
          701,
          667,
          627,
          621,
          578,
          548,
          522,
          519,
          468,
          442,
          290
         ],
         "yaxis": "y"
        },
        {
         "alignmentgroup": "True",
         "hovertemplate": "type=Ação Rescisória<br>Mes=%{x}<br>count=%{y}<extra></extra>",
         "legendgroup": "Ação Rescisória",
         "marker": {
          "color": "#636efa"
         },
         "name": "Ação Rescisória",
         "offsetgroup": "Ação Rescisória",
         "orientation": "v",
         "showlegend": true,
         "textposition": "auto",
         "type": "bar",
         "x": [
          12,
          11,
          4,
          6,
          3,
          5,
          8,
          9,
          10,
          7,
          2,
          1
         ],
         "xaxis": "x",
         "y": [
          820,
          753,
          742,
          731,
          713,
          712,
          686,
          622,
          595,
          478,
          253,
          139
         ],
         "yaxis": "y"
        },
        {
         "alignmentgroup": "True",
         "hovertemplate": "type=Revisão Criminal<br>Mes=%{x}<br>count=%{y}<extra></extra>",
         "legendgroup": "Revisão Criminal",
         "marker": {
          "color": "#EF553B"
         },
         "name": "Revisão Criminal",
         "offsetgroup": "Revisão Criminal",
         "orientation": "v",
         "showlegend": true,
         "textposition": "auto",
         "type": "bar",
         "x": [
          3,
          11,
          4,
          12,
          8,
          5,
          10,
          6,
          9,
          7,
          2,
          1
         ],
         "xaxis": "x",
         "y": [
          809,
          669,
          656,
          590,
          579,
          503,
          459,
          450,
          441,
          383,
          127,
          86
         ],
         "yaxis": "y"
        },
        {
         "alignmentgroup": "True",
         "hovertemplate": "type=Agravo Interno<br>Mes=%{x}<br>count=%{y}<extra></extra>",
         "legendgroup": "Agravo Interno",
         "marker": {
          "color": "#00cc96"
         },
         "name": "Agravo Interno",
         "offsetgroup": "Agravo Interno",
         "orientation": "v",
         "showlegend": true,
         "textposition": "auto",
         "type": "bar",
         "x": [
          2,
          4,
          5,
          11,
          8,
          10,
          9,
          3,
          6,
          12,
          7,
          1
         ],
         "xaxis": "x",
         "y": [
          726,
          554,
          517,
          514,
          479,
          478,
          475,
          468,
          463,
          433,
          173,
          47
         ],
         "yaxis": "y"
        },
        {
         "alignmentgroup": "True",
         "hovertemplate": "type=Correição Parcial<br>Mes=%{x}<br>count=%{y}<extra></extra>",
         "legendgroup": "Correição Parcial",
         "marker": {
          "color": "#ab63fa"
         },
         "name": "Correição Parcial",
         "offsetgroup": "Correição Parcial",
         "orientation": "v",
         "showlegend": true,
         "textposition": "auto",
         "type": "bar",
         "x": [
          3,
          12,
          8,
          10,
          11,
          9,
          5,
          6,
          4,
          7,
          2,
          1
         ],
         "xaxis": "x",
         "y": [
          681,
          616,
          615,
          599,
          565,
          558,
          525,
          519,
          505,
          425,
          406,
          218
         ],
         "yaxis": "y"
        },
        {
         "alignmentgroup": "True",
         "hovertemplate": "type=Mandado de Injunção<br>Mes=%{x}<br>count=%{y}<extra></extra>",
         "legendgroup": "Mandado de Injunção",
         "marker": {
          "color": "#FFA15A"
         },
         "name": "Mandado de Injunção",
         "offsetgroup": "Mandado de Injunção",
         "orientation": "v",
         "showlegend": true,
         "textposition": "auto",
         "type": "bar",
         "x": [
          10,
          11,
          12,
          9,
          5,
          8,
          1,
          4,
          3,
          6,
          2,
          7
         ],
         "xaxis": "x",
         "y": [
          454,
          439,
          318,
          90,
          90,
          86,
          83,
          76,
          46,
          41,
          37,
          29
         ],
         "yaxis": "y"
        },
        {
         "alignmentgroup": "True",
         "hovertemplate": "type=Conflito de Jurisdição<br>Mes=%{x}<br>count=%{y}<extra></extra>",
         "legendgroup": "Conflito de Jurisdição",
         "marker": {
          "color": "#19d3f3"
         },
         "name": "Conflito de Jurisdição",
         "offsetgroup": "Conflito de Jurisdição",
         "orientation": "v",
         "showlegend": true,
         "textposition": "auto",
         "type": "bar",
         "x": [
          11,
          8,
          12,
          10,
          6,
          3,
          9,
          7,
          5,
          4,
          2,
          1
         ],
         "xaxis": "x",
         "y": [
          433,
          416,
          403,
          395,
          331,
          319,
          317,
          294,
          276,
          266,
          211,
          132
         ],
         "yaxis": "y"
        },
        {
         "alignmentgroup": "True",
         "hovertemplate": "type=Ação Direta de Inconstitucionalidade<br>Mes=%{x}<br>count=%{y}<extra></extra>",
         "legendgroup": "Ação Direta de Inconstitucionalidade",
         "marker": {
          "color": "#FF6692"
         },
         "name": "Ação Direta de Inconstitucionalidade",
         "offsetgroup": "Ação Direta de Inconstitucionalidade",
         "orientation": "v",
         "showlegend": true,
         "textposition": "auto",
         "type": "bar",
         "x": [
          12,
          6,
          11,
          8,
          10,
          5,
          4,
          9,
          3,
          7,
          2,
          1
         ],
         "xaxis": "x",
         "y": [
          309,
          274,
          259,
          255,
          248,
          241,
          233,
          217,
          211,
          157,
          98,
          82
         ],
         "yaxis": "y"
        },
        {
         "alignmentgroup": "True",
         "hovertemplate": "type=Exceção de Suspeição<br>Mes=%{x}<br>count=%{y}<extra></extra>",
         "legendgroup": "Exceção de Suspeição",
         "marker": {
          "color": "#B6E880"
         },
         "name": "Exceção de Suspeição",
         "offsetgroup": "Exceção de Suspeição",
         "orientation": "v",
         "showlegend": true,
         "textposition": "auto",
         "type": "bar",
         "x": [
          4,
          6,
          9,
          8,
          3,
          5,
          11,
          10,
          12,
          7,
          2,
          1
         ],
         "xaxis": "x",
         "y": [
          124,
          124,
          119,
          119,
          115,
          114,
          109,
          105,
          84,
          78,
          51,
          27
         ],
         "yaxis": "y"
        },
        {
         "alignmentgroup": "True",
         "hovertemplate": "type=Representação<br>Mes=%{x}<br>count=%{y}<extra></extra>",
         "legendgroup": "Representação",
         "marker": {
          "color": "#FF97FF"
         },
         "name": "Representação",
         "offsetgroup": "Representação",
         "orientation": "v",
         "showlegend": true,
         "textposition": "auto",
         "type": "bar",
         "x": [
          10,
          12,
          11,
          2,
          3,
          5,
          6,
          4,
          8,
          9,
          1,
          7
         ],
         "xaxis": "x",
         "y": [
          122,
          77,
          74,
          57,
          31,
          23,
          19,
          16,
          13,
          10,
          6,
          4
         ],
         "yaxis": "y"
        },
        {
         "alignmentgroup": "True",
         "hovertemplate": "type=Reclamação<br>Mes=%{x}<br>count=%{y}<extra></extra>",
         "legendgroup": "Reclamação",
         "marker": {
          "color": "#FECB52"
         },
         "name": "Reclamação",
         "offsetgroup": "Reclamação",
         "orientation": "v",
         "showlegend": true,
         "textposition": "auto",
         "type": "bar",
         "x": [
          10,
          11,
          6,
          5,
          12,
          4,
          8,
          9,
          3,
          7,
          2,
          1
         ],
         "xaxis": "x",
         "y": [
          118,
          59,
          55,
          43,
          41,
          35,
          35,
          34,
          26,
          17,
          13,
          1
         ],
         "yaxis": "y"
        },
        {
         "alignmentgroup": "True",
         "hovertemplate": "type=Processo Crime<br>Mes=%{x}<br>count=%{y}<extra></extra>",
         "legendgroup": "Processo Crime",
         "marker": {
          "color": "#636efa"
         },
         "name": "Processo Crime",
         "offsetgroup": "Processo Crime",
         "orientation": "v",
         "showlegend": true,
         "textposition": "auto",
         "type": "bar",
         "x": [
          6,
          9,
          10,
          5,
          11,
          3,
          12,
          8,
          4,
          2,
          7,
          1
         ],
         "xaxis": "x",
         "y": [
          98,
          96,
          91,
          86,
          74,
          69,
          60,
          59,
          55,
          52,
          35,
          9
         ],
         "yaxis": "y"
        },
        {
         "alignmentgroup": "True",
         "hovertemplate": "type=Ação Civil Pública<br>Mes=%{x}<br>count=%{y}<extra></extra>",
         "legendgroup": "Ação Civil Pública",
         "marker": {
          "color": "#EF553B"
         },
         "name": "Ação Civil Pública",
         "offsetgroup": "Ação Civil Pública",
         "orientation": "v",
         "showlegend": true,
         "textposition": "auto",
         "type": "bar",
         "x": [
          10,
          11,
          9,
          8,
          6,
          4,
          5,
          12,
          2,
          3
         ],
         "xaxis": "x",
         "y": [
          83,
          62,
          40,
          25,
          21,
          15,
          11,
          2,
          2,
          1
         ],
         "yaxis": "y"
        },
        {
         "alignmentgroup": "True",
         "hovertemplate": "type=Medida Cautelar<br>Mes=%{x}<br>count=%{y}<extra></extra>",
         "legendgroup": "Medida Cautelar",
         "marker": {
          "color": "#00cc96"
         },
         "name": "Medida Cautelar",
         "offsetgroup": "Medida Cautelar",
         "orientation": "v",
         "showlegend": true,
         "textposition": "auto",
         "type": "bar",
         "x": [
          6,
          10,
          3,
          9,
          12,
          8,
          7,
          5,
          4,
          11,
          2,
          1
         ],
         "xaxis": "x",
         "y": [
          78,
          68,
          61,
          55,
          54,
          50,
          34,
          33,
          32,
          32,
          29,
          10
         ],
         "yaxis": "y"
        },
        {
         "alignmentgroup": "True",
         "hovertemplate": "type=Prefeito<br>Mes=%{x}<br>count=%{y}<extra></extra>",
         "legendgroup": "Prefeito",
         "marker": {
          "color": "#ab63fa"
         },
         "name": "Prefeito",
         "offsetgroup": "Prefeito",
         "orientation": "v",
         "showlegend": true,
         "textposition": "auto",
         "type": "bar",
         "x": [
          12,
          3,
          4,
          5,
          9,
          6,
          2,
          11,
          10,
          7
         ],
         "xaxis": "x",
         "y": [
          78,
          40,
          29,
          26,
          23,
          17,
          15,
          11,
          4,
          2
         ],
         "yaxis": "y"
        },
        {
         "alignmentgroup": "True",
         "hovertemplate": "type=Petição<br>Mes=%{x}<br>count=%{y}<extra></extra>",
         "legendgroup": "Petição",
         "marker": {
          "color": "#FFA15A"
         },
         "name": "Petição",
         "offsetgroup": "Petição",
         "orientation": "v",
         "showlegend": true,
         "textposition": "auto",
         "type": "bar",
         "x": [
          11,
          8,
          10,
          3,
          7,
          5,
          9,
          4,
          12,
          6,
          2,
          1
         ],
         "xaxis": "x",
         "y": [
          75,
          75,
          71,
          62,
          61,
          55,
          54,
          49,
          42,
          42,
          35,
          33
         ],
         "yaxis": "y"
        },
        {
         "alignmentgroup": "True",
         "hovertemplate": "type=Recurso de Ofício<br>Mes=%{x}<br>count=%{y}<extra></extra>",
         "legendgroup": "Recurso de Ofício",
         "marker": {
          "color": "#19d3f3"
         },
         "name": "Recurso de Ofício",
         "offsetgroup": "Recurso de Ofício",
         "orientation": "v",
         "showlegend": true,
         "textposition": "auto",
         "type": "bar",
         "x": [
          11,
          4,
          8,
          10,
          6,
          5,
          9,
          12,
          3,
          7,
          2,
          1
         ],
         "xaxis": "x",
         "y": [
          73,
          72,
          69,
          64,
          61,
          61,
          60,
          53,
          45,
          40,
          36,
          13
         ],
         "yaxis": "y"
        },
        {
         "alignmentgroup": "True",
         "hovertemplate": "type=Medida Cautelar Inominada<br>Mes=%{x}<br>count=%{y}<extra></extra>",
         "legendgroup": "Medida Cautelar Inominada",
         "marker": {
          "color": "#FF6692"
         },
         "name": "Medida Cautelar Inominada",
         "offsetgroup": "Medida Cautelar Inominada",
         "orientation": "v",
         "showlegend": true,
         "textposition": "auto",
         "type": "bar",
         "x": [
          12,
          9,
          6,
          11,
          10,
          8,
          3,
          5,
          4,
          7,
          2,
          1
         ],
         "xaxis": "x",
         "y": [
          63,
          60,
          59,
          58,
          58,
          53,
          48,
          45,
          43,
          26,
          15,
          14
         ],
         "yaxis": "y"
        },
        {
         "alignmentgroup": "True",
         "hovertemplate": "type=Cautelar Inominada<br>Mes=%{x}<br>count=%{y}<extra></extra>",
         "legendgroup": "Cautelar Inominada",
         "marker": {
          "color": "#B6E880"
         },
         "name": "Cautelar Inominada",
         "offsetgroup": "Cautelar Inominada",
         "orientation": "v",
         "showlegend": true,
         "textposition": "auto",
         "type": "bar",
         "x": [
          7,
          8,
          6,
          3,
          4,
          9,
          11,
          5,
          10,
          12,
          2,
          1
         ],
         "xaxis": "x",
         "y": [
          63,
          59,
          58,
          49,
          49,
          49,
          43,
          41,
          36,
          34,
          26,
          22
         ],
         "yaxis": "y"
        },
        {
         "alignmentgroup": "True",
         "hovertemplate": "type=Agravo Embargos Infringentes<br>Mes=%{x}<br>count=%{y}<extra></extra>",
         "legendgroup": "Agravo Embargos Infringentes",
         "marker": {
          "color": "#FF97FF"
         },
         "name": "Agravo Embargos Infringentes",
         "offsetgroup": "Agravo Embargos Infringentes",
         "orientation": "v",
         "showlegend": true,
         "textposition": "auto",
         "type": "bar",
         "x": [
          11,
          9,
          12,
          6,
          10,
          3,
          8,
          4,
          7,
          5,
          2,
          1
         ],
         "xaxis": "x",
         "y": [
          56,
          55,
          34,
          31,
          24,
          23,
          23,
          21,
          14,
          11,
          3,
          1
         ],
         "yaxis": "y"
        },
        {
         "alignmentgroup": "True",
         "hovertemplate": "type=Ação Penal<br>Mes=%{x}<br>count=%{y}<extra></extra>",
         "legendgroup": "Ação Penal",
         "marker": {
          "color": "#FECB52"
         },
         "name": "Ação Penal",
         "offsetgroup": "Ação Penal",
         "orientation": "v",
         "showlegend": true,
         "textposition": "auto",
         "type": "bar",
         "x": [
          9,
          8,
          3,
          11,
          5,
          4,
          10,
          7,
          12,
          6,
          2,
          1
         ],
         "xaxis": "x",
         "y": [
          54,
          39,
          37,
          36,
          30,
          29,
          28,
          28,
          27,
          26,
          15,
          14
         ],
         "yaxis": "y"
        },
        {
         "alignmentgroup": "True",
         "hovertemplate": "type=Outros Feitos<br>Mes=%{x}<br>count=%{y}<extra></extra>",
         "legendgroup": "Outros Feitos",
         "marker": {
          "color": "#636efa"
         },
         "name": "Outros Feitos",
         "offsetgroup": "Outros Feitos",
         "orientation": "v",
         "showlegend": true,
         "textposition": "auto",
         "type": "bar",
         "x": [
          6,
          3,
          4,
          5,
          12,
          8,
          11,
          10,
          9,
          7,
          2,
          1
         ],
         "xaxis": "x",
         "y": [
          50,
          37,
          33,
          32,
          29,
          22,
          22,
          18,
          18,
          13,
          10,
          3
         ],
         "yaxis": "y"
        },
        {
         "alignmentgroup": "True",
         "hovertemplate": "type=Mandado de Segurança Crime<br>Mes=%{x}<br>count=%{y}<extra></extra>",
         "legendgroup": "Mandado de Segurança Crime",
         "marker": {
          "color": "#EF553B"
         },
         "name": "Mandado de Segurança Crime",
         "offsetgroup": "Mandado de Segurança Crime",
         "orientation": "v",
         "showlegend": true,
         "textposition": "auto",
         "type": "bar",
         "x": [
          10,
          8,
          11,
          7,
          3,
          12,
          4,
          2,
          5,
          9,
          6,
          1
         ],
         "xaxis": "x",
         "y": [
          45,
          33,
          30,
          30,
          28,
          28,
          27,
          24,
          23,
          20,
          12,
          10
         ],
         "yaxis": "y"
        },
        {
         "alignmentgroup": "True",
         "hovertemplate": "type=Incidente de Uniformizacao Jurisprudencia<br>Mes=%{x}<br>count=%{y}<extra></extra>",
         "legendgroup": "Incidente de Uniformizacao Jurisprudencia",
         "marker": {
          "color": "#00cc96"
         },
         "name": "Incidente de Uniformizacao Jurisprudencia",
         "offsetgroup": "Incidente de Uniformizacao Jurisprudencia",
         "orientation": "v",
         "showlegend": true,
         "textposition": "auto",
         "type": "bar",
         "x": [
          8,
          11,
          9,
          3,
          10,
          7,
          5,
          4,
          6,
          12,
          2
         ],
         "xaxis": "x",
         "y": [
          42,
          30,
          29,
          28,
          21,
          19,
          18,
          16,
          15,
          14,
          9
         ],
         "yaxis": "y"
        },
        {
         "alignmentgroup": "True",
         "hovertemplate": "type=Agravo Inominado<br>Mes=%{x}<br>count=%{y}<extra></extra>",
         "legendgroup": "Agravo Inominado",
         "marker": {
          "color": "#ab63fa"
         },
         "name": "Agravo Inominado",
         "offsetgroup": "Agravo Inominado",
         "orientation": "v",
         "showlegend": true,
         "textposition": "auto",
         "type": "bar",
         "x": [
          3,
          8,
          9,
          11,
          10,
          12,
          7,
          1,
          6,
          4,
          5,
          2
         ],
         "xaxis": "x",
         "y": [
          37,
          31,
          29,
          21,
          20,
          13,
          11,
          10,
          5,
          5,
          2,
          1
         ],
         "yaxis": "y"
        },
        {
         "alignmentgroup": "True",
         "hovertemplate": "type=Carta Testemunhável<br>Mes=%{x}<br>count=%{y}<extra></extra>",
         "legendgroup": "Carta Testemunhável",
         "marker": {
          "color": "#FFA15A"
         },
         "name": "Carta Testemunhável",
         "offsetgroup": "Carta Testemunhável",
         "orientation": "v",
         "showlegend": true,
         "textposition": "auto",
         "type": "bar",
         "x": [
          12,
          8,
          11,
          9,
          4,
          3,
          6,
          7,
          10,
          2,
          5,
          1
         ],
         "xaxis": "x",
         "y": [
          35,
          30,
          26,
          23,
          20,
          20,
          19,
          17,
          16,
          14,
          13,
          10
         ],
         "yaxis": "y"
        },
        {
         "alignmentgroup": "True",
         "hovertemplate": "type=Representação Criminal<br>Mes=%{x}<br>count=%{y}<extra></extra>",
         "legendgroup": "Representação Criminal",
         "marker": {
          "color": "#19d3f3"
         },
         "name": "Representação Criminal",
         "offsetgroup": "Representação Criminal",
         "orientation": "v",
         "showlegend": true,
         "textposition": "auto",
         "type": "bar",
         "x": [
          11,
          9,
          5,
          6,
          7,
          8,
          10,
          4,
          3,
          12,
          2,
          1
         ],
         "xaxis": "x",
         "y": [
          29,
          28,
          24,
          23,
          20,
          20,
          19,
          13,
          13,
          12,
          11,
          7
         ],
         "yaxis": "y"
        },
        {
         "alignmentgroup": "True",
         "hovertemplate": "type=Impugnação ao Valor da Causa<br>Mes=%{x}<br>count=%{y}<extra></extra>",
         "legendgroup": "Impugnação ao Valor da Causa",
         "marker": {
          "color": "#FF6692"
         },
         "name": "Impugnação ao Valor da Causa",
         "offsetgroup": "Impugnação ao Valor da Causa",
         "orientation": "v",
         "showlegend": true,
         "textposition": "auto",
         "type": "bar",
         "x": [
          12,
          10,
          4,
          8,
          3,
          5,
          11,
          6,
          9,
          7,
          2,
          1
         ],
         "xaxis": "x",
         "y": [
          29,
          26,
          22,
          21,
          21,
          20,
          18,
          14,
          13,
          11,
          2,
          1
         ],
         "yaxis": "y"
        },
        {
         "alignmentgroup": "True",
         "hovertemplate": "type=Restauração de Autos<br>Mes=%{x}<br>count=%{y}<extra></extra>",
         "legendgroup": "Restauração de Autos",
         "marker": {
          "color": "#B6E880"
         },
         "name": "Restauração de Autos",
         "offsetgroup": "Restauração de Autos",
         "orientation": "v",
         "showlegend": true,
         "textposition": "auto",
         "type": "bar",
         "x": [
          11,
          10,
          5,
          4,
          8,
          9,
          7,
          6,
          3,
          12,
          1,
          2
         ],
         "xaxis": "x",
         "y": [
          27,
          22,
          21,
          17,
          17,
          16,
          13,
          12,
          12,
          12,
          6,
          6
         ],
         "yaxis": "y"
        },
        {
         "alignmentgroup": "True",
         "hovertemplate": "type=Incidente de Inconstitucionalidade<br>Mes=%{x}<br>count=%{y}<extra></extra>",
         "legendgroup": "Incidente de Inconstitucionalidade",
         "marker": {
          "color": "#FF97FF"
         },
         "name": "Incidente de Inconstitucionalidade",
         "offsetgroup": "Incidente de Inconstitucionalidade",
         "orientation": "v",
         "showlegend": true,
         "textposition": "auto",
         "type": "bar",
         "x": [
          6,
          5,
          4,
          9,
          8,
          10,
          12,
          11,
          7,
          1,
          3,
          2
         ],
         "xaxis": "x",
         "y": [
          25,
          24,
          24,
          23,
          18,
          17,
          15,
          13,
          11,
          8,
          5,
          5
         ],
         "yaxis": "y"
        },
        {
         "alignmentgroup": "True",
         "hovertemplate": "type=Desaforamento<br>Mes=%{x}<br>count=%{y}<extra></extra>",
         "legendgroup": "Desaforamento",
         "marker": {
          "color": "#FECB52"
         },
         "name": "Desaforamento",
         "offsetgroup": "Desaforamento",
         "orientation": "v",
         "showlegend": true,
         "textposition": "auto",
         "type": "bar",
         "x": [
          10,
          9,
          12,
          8,
          4,
          7,
          6,
          5,
          11,
          3,
          2,
          1
         ],
         "xaxis": "x",
         "y": [
          20,
          19,
          16,
          16,
          16,
          14,
          13,
          12,
          10,
          9,
          6,
          5
         ],
         "yaxis": "y"
        },
        {
         "alignmentgroup": "True",
         "hovertemplate": "type=Termo Circunstanciado<br>Mes=%{x}<br>count=%{y}<extra></extra>",
         "legendgroup": "Termo Circunstanciado",
         "marker": {
          "color": "#636efa"
         },
         "name": "Termo Circunstanciado",
         "offsetgroup": "Termo Circunstanciado",
         "orientation": "v",
         "showlegend": true,
         "textposition": "auto",
         "type": "bar",
         "x": [
          8,
          11,
          6,
          4,
          9,
          2,
          3,
          7,
          12,
          10,
          5,
          1
         ],
         "xaxis": "x",
         "y": [
          19,
          16,
          10,
          8,
          8,
          7,
          7,
          7,
          7,
          7,
          5,
          3
         ],
         "yaxis": "y"
        },
        {
         "alignmentgroup": "True",
         "hovertemplate": "type=Suspenção de Liminar ou Antecipação de Tutela<br>Mes=%{x}<br>count=%{y}<extra></extra>",
         "legendgroup": "Suspenção de Liminar ou Antecipação de Tutela",
         "marker": {
          "color": "#EF553B"
         },
         "name": "Suspenção de Liminar ou Antecipação de Tutela",
         "offsetgroup": "Suspenção de Liminar ou Antecipação de Tutela",
         "orientation": "v",
         "showlegend": true,
         "textposition": "auto",
         "type": "bar",
         "x": [
          5,
          8,
          3,
          1,
          6,
          12,
          2,
          10,
          7,
          11,
          4,
          9
         ],
         "xaxis": "x",
         "y": [
          16,
          13,
          10,
          9,
          7,
          7,
          5,
          4,
          3,
          3,
          2,
          1
         ],
         "yaxis": "y"
        },
        {
         "alignmentgroup": "True",
         "hovertemplate": "type=Impugnação à Assistência Judiciária<br>Mes=%{x}<br>count=%{y}<extra></extra>",
         "legendgroup": "Impugnação à Assistência Judiciária",
         "marker": {
          "color": "#00cc96"
         },
         "name": "Impugnação à Assistência Judiciária",
         "offsetgroup": "Impugnação à Assistência Judiciária",
         "orientation": "v",
         "showlegend": true,
         "textposition": "auto",
         "type": "bar",
         "x": [
          9,
          3,
          8,
          4,
          11,
          12,
          6,
          10,
          5,
          7,
          2,
          1
         ],
         "xaxis": "x",
         "y": [
          13,
          11,
          11,
          11,
          10,
          10,
          8,
          7,
          7,
          4,
          3,
          1
         ],
         "yaxis": "y"
        },
        {
         "alignmentgroup": "True",
         "hovertemplate": "type=Incidente de Resolucao de Demandas Repetitiva<br>Mes=%{x}<br>count=%{y}<extra></extra>",
         "legendgroup": "Incidente de Resolucao de Demandas Repetitiva",
         "marker": {
          "color": "#ab63fa"
         },
         "name": "Incidente de Resolucao de Demandas Repetitiva",
         "offsetgroup": "Incidente de Resolucao de Demandas Repetitiva",
         "orientation": "v",
         "showlegend": true,
         "textposition": "auto",
         "type": "bar",
         "x": [
          10,
          9,
          11,
          8,
          5,
          3,
          4,
          6,
          12
         ],
         "xaxis": "x",
         "y": [
          12,
          7,
          5,
          5,
          3,
          3,
          2,
          2,
          2
         ],
         "yaxis": "y"
        },
        {
         "alignmentgroup": "True",
         "hovertemplate": "type=Inquérito Policial<br>Mes=%{x}<br>count=%{y}<extra></extra>",
         "legendgroup": "Inquérito Policial",
         "marker": {
          "color": "#FFA15A"
         },
         "name": "Inquérito Policial",
         "offsetgroup": "Inquérito Policial",
         "orientation": "v",
         "showlegend": true,
         "textposition": "auto",
         "type": "bar",
         "x": [
          7,
          11,
          4,
          9,
          6,
          8,
          10,
          3,
          5,
          2,
          12
         ],
         "xaxis": "x",
         "y": [
          11,
          10,
          9,
          8,
          8,
          7,
          6,
          6,
          4,
          4,
          3
         ],
         "yaxis": "y"
        },
        {
         "alignmentgroup": "True",
         "hovertemplate": "type=Uniformização de Jurisprudência<br>Mes=%{x}<br>count=%{y}<extra></extra>",
         "legendgroup": "Uniformização de Jurisprudência",
         "marker": {
          "color": "#19d3f3"
         },
         "name": "Uniformização de Jurisprudência",
         "offsetgroup": "Uniformização de Jurisprudência",
         "orientation": "v",
         "showlegend": true,
         "textposition": "auto",
         "type": "bar",
         "x": [
          4,
          12,
          3,
          9,
          10,
          11,
          7,
          6,
          5,
          8,
          2
         ],
         "xaxis": "x",
         "y": [
          10,
          10,
          9,
          9,
          8,
          7,
          6,
          6,
          5,
          3,
          1
         ],
         "yaxis": "y"
        },
        {
         "alignmentgroup": "True",
         "hovertemplate": "type=Queixa<br>Mes=%{x}<br>count=%{y}<extra></extra>",
         "legendgroup": "Queixa",
         "marker": {
          "color": "#FF6692"
         },
         "name": "Queixa",
         "offsetgroup": "Queixa",
         "orientation": "v",
         "showlegend": true,
         "textposition": "auto",
         "type": "bar",
         "x": [
          4,
          10,
          5,
          11,
          6,
          9,
          12,
          7,
          2,
          3,
          8,
          1
         ],
         "xaxis": "x",
         "y": [
          10,
          9,
          8,
          7,
          5,
          5,
          5,
          5,
          4,
          3,
          3,
          2
         ],
         "yaxis": "y"
        },
        {
         "alignmentgroup": "True",
         "hovertemplate": "type=Outros Cíveis<br>Mes=%{x}<br>count=%{y}<extra></extra>",
         "legendgroup": "Outros Cíveis",
         "marker": {
          "color": "#B6E880"
         },
         "name": "Outros Cíveis",
         "offsetgroup": "Outros Cíveis",
         "orientation": "v",
         "showlegend": true,
         "textposition": "auto",
         "type": "bar",
         "x": [
          6,
          4,
          3,
          9,
          8,
          7,
          12,
          5,
          10
         ],
         "xaxis": "x",
         "y": [
          9,
          9,
          6,
          4,
          4,
          4,
          2,
          2,
          1
         ],
         "yaxis": "y"
        },
        {
         "alignmentgroup": "True",
         "hovertemplate": "type=Recurso Oficioso em Sentido Estrito<br>Mes=%{x}<br>count=%{y}<extra></extra>",
         "legendgroup": "Recurso Oficioso em Sentido Estrito",
         "marker": {
          "color": "#FF97FF"
         },
         "name": "Recurso Oficioso em Sentido Estrito",
         "offsetgroup": "Recurso Oficioso em Sentido Estrito",
         "orientation": "v",
         "showlegend": true,
         "textposition": "auto",
         "type": "bar",
         "x": [
          4,
          6,
          10,
          9,
          11,
          5,
          3,
          2,
          12,
          1,
          7
         ],
         "xaxis": "x",
         "y": [
          8,
          7,
          7,
          6,
          4,
          4,
          4,
          3,
          2,
          1,
          1
         ],
         "yaxis": "y"
        },
        {
         "alignmentgroup": "True",
         "hovertemplate": "type=Habeas Data<br>Mes=%{x}<br>count=%{y}<extra></extra>",
         "legendgroup": "Habeas Data",
         "marker": {
          "color": "#FECB52"
         },
         "name": "Habeas Data",
         "offsetgroup": "Habeas Data",
         "orientation": "v",
         "showlegend": true,
         "textposition": "auto",
         "type": "bar",
         "x": [
          11,
          9,
          12,
          5,
          2,
          10,
          4,
          7,
          3,
          6,
          8,
          1
         ],
         "xaxis": "x",
         "y": [
          7,
          6,
          6,
          4,
          3,
          3,
          3,
          2,
          2,
          2,
          1,
          1
         ],
         "yaxis": "y"
        },
        {
         "alignmentgroup": "True",
         "hovertemplate": "type=Outros Incidentes<br>Mes=%{x}<br>count=%{y}<extra></extra>",
         "legendgroup": "Outros Incidentes",
         "marker": {
          "color": "#636efa"
         },
         "name": "Outros Incidentes",
         "offsetgroup": "Outros Incidentes",
         "orientation": "v",
         "showlegend": true,
         "textposition": "auto",
         "type": "bar",
         "x": [
          8,
          11,
          5,
          6,
          4,
          12,
          10,
          9,
          7,
          2,
          1
         ],
         "xaxis": "x",
         "y": [
          7,
          5,
          4,
          4,
          3,
          3,
          3,
          2,
          1,
          1,
          1
         ],
         "yaxis": "y"
        },
        {
         "alignmentgroup": "True",
         "hovertemplate": "type=Agravo Lei<br>Mes=%{x}<br>count=%{y}<extra></extra>",
         "legendgroup": "Agravo Lei",
         "marker": {
          "color": "#EF553B"
         },
         "name": "Agravo Lei",
         "offsetgroup": "Agravo Lei",
         "orientation": "v",
         "showlegend": true,
         "textposition": "auto",
         "type": "bar",
         "x": [
          2,
          11,
          10,
          3,
          8,
          12
         ],
         "xaxis": "x",
         "y": [
          5,
          5,
          3,
          3,
          2,
          1
         ],
         "yaxis": "y"
        },
        {
         "alignmentgroup": "True",
         "hovertemplate": "type=Suspensão de Liminar ou Antecipação de Tutela<br>Mes=%{x}<br>count=%{y}<extra></extra>",
         "legendgroup": "Suspensão de Liminar ou Antecipação de Tutela",
         "marker": {
          "color": "#00cc96"
         },
         "name": "Suspensão de Liminar ou Antecipação de Tutela",
         "offsetgroup": "Suspensão de Liminar ou Antecipação de Tutela",
         "orientation": "v",
         "showlegend": true,
         "textposition": "auto",
         "type": "bar",
         "x": [
          6,
          2,
          8,
          12,
          7
         ],
         "xaxis": "x",
         "y": [
          5,
          2,
          2,
          2,
          1
         ],
         "yaxis": "y"
        },
        {
         "alignmentgroup": "True",
         "hovertemplate": "type=Crimes contra a honra<br>Mes=%{x}<br>count=%{y}<extra></extra>",
         "legendgroup": "Crimes contra a honra",
         "marker": {
          "color": "#ab63fa"
         },
         "name": "Crimes contra a honra",
         "offsetgroup": "Crimes contra a honra",
         "orientation": "v",
         "showlegend": true,
         "textposition": "auto",
         "type": "bar",
         "x": [
          10,
          2,
          7,
          6,
          5,
          1,
          3,
          11,
          9,
          8,
          12
         ],
         "xaxis": "x",
         "y": [
          5,
          4,
          3,
          3,
          3,
          3,
          2,
          2,
          1,
          1,
          1
         ],
         "yaxis": "y"
        },
        {
         "alignmentgroup": "True",
         "hovertemplate": "type=Embargos à Execução<br>Mes=%{x}<br>count=%{y}<extra></extra>",
         "legendgroup": "Embargos à Execução",
         "marker": {
          "color": "#FFA15A"
         },
         "name": "Embargos à Execução",
         "offsetgroup": "Embargos à Execução",
         "orientation": "v",
         "showlegend": true,
         "textposition": "auto",
         "type": "bar",
         "x": [
          5,
          6,
          7,
          8,
          12,
          11,
          10,
          9,
          1
         ],
         "xaxis": "x",
         "y": [
          5,
          4,
          2,
          2,
          2,
          1,
          1,
          1,
          1
         ],
         "yaxis": "y"
        },
        {
         "alignmentgroup": "True",
         "hovertemplate": "type=Apelação Rec<br>Mes=%{x}<br>count=%{y}<extra></extra>",
         "legendgroup": "Apelação Rec",
         "marker": {
          "color": "#19d3f3"
         },
         "name": "Apelação Rec",
         "offsetgroup": "Apelação Rec",
         "orientation": "v",
         "showlegend": true,
         "textposition": "auto",
         "type": "bar",
         "x": [
          12,
          8,
          6,
          10,
          5,
          11,
          1,
          3,
          9,
          7
         ],
         "xaxis": "x",
         "y": [
          5,
          4,
          2,
          2,
          2,
          2,
          1,
          1,
          1,
          1
         ],
         "yaxis": "y"
        },
        {
         "alignmentgroup": "True",
         "hovertemplate": "type=Investigação Contra Magistrado<br>Mes=%{x}<br>count=%{y}<extra></extra>",
         "legendgroup": "Investigação Contra Magistrado",
         "marker": {
          "color": "#FF6692"
         },
         "name": "Investigação Contra Magistrado",
         "offsetgroup": "Investigação Contra Magistrado",
         "orientation": "v",
         "showlegend": true,
         "textposition": "auto",
         "type": "bar",
         "x": [
          3,
          7,
          6,
          9,
          10,
          5,
          1,
          4,
          8
         ],
         "xaxis": "x",
         "y": [
          5,
          4,
          3,
          3,
          3,
          2,
          1,
          1,
          1
         ],
         "yaxis": "y"
        },
        {
         "alignmentgroup": "True",
         "hovertemplate": "type=Intervenção Federal no Estado<br>Mes=%{x}<br>count=%{y}<extra></extra>",
         "legendgroup": "Intervenção Federal no Estado",
         "marker": {
          "color": "#B6E880"
         },
         "name": "Intervenção Federal no Estado",
         "offsetgroup": "Intervenção Federal no Estado",
         "orientation": "v",
         "showlegend": true,
         "textposition": "auto",
         "type": "bar",
         "x": [
          12,
          6,
          5,
          4,
          7,
          8,
          9,
          2,
          3,
          10,
          11
         ],
         "xaxis": "x",
         "y": [
          4,
          4,
          4,
          4,
          3,
          3,
          2,
          1,
          1,
          1,
          1
         ],
         "yaxis": "y"
        },
        {
         "alignmentgroup": "True",
         "hovertemplate": "type=Exceção da Verdade<br>Mes=%{x}<br>count=%{y}<extra></extra>",
         "legendgroup": "Exceção da Verdade",
         "marker": {
          "color": "#FF97FF"
         },
         "name": "Exceção da Verdade",
         "offsetgroup": "Exceção da Verdade",
         "orientation": "v",
         "showlegend": true,
         "textposition": "auto",
         "type": "bar",
         "x": [
          11,
          3,
          10,
          8,
          6,
          12,
          7,
          5,
          4,
          1
         ],
         "xaxis": "x",
         "y": [
          4,
          3,
          2,
          2,
          2,
          1,
          1,
          1,
          1,
          1
         ],
         "yaxis": "y"
        },
        {
         "alignmentgroup": "True",
         "hovertemplate": "type=Exceção de Incompetência<br>Mes=%{x}<br>count=%{y}<extra></extra>",
         "legendgroup": "Exceção de Incompetência",
         "marker": {
          "color": "#FECB52"
         },
         "name": "Exceção de Incompetência",
         "offsetgroup": "Exceção de Incompetência",
         "orientation": "v",
         "showlegend": true,
         "textposition": "auto",
         "type": "bar",
         "x": [
          7,
          5,
          8,
          10,
          9,
          6,
          12,
          3,
          2,
          1
         ],
         "xaxis": "x",
         "y": [
          4,
          4,
          3,
          3,
          3,
          2,
          2,
          1,
          1,
          1
         ],
         "yaxis": "y"
        },
        {
         "alignmentgroup": "True",
         "hovertemplate": "type=Intervenção em Município<br>Mes=%{x}<br>count=%{y}<extra></extra>",
         "legendgroup": "Intervenção em Município",
         "marker": {
          "color": "#636efa"
         },
         "name": "Intervenção em Município",
         "offsetgroup": "Intervenção em Município",
         "orientation": "v",
         "showlegend": true,
         "textposition": "auto",
         "type": "bar",
         "x": [
          9,
          2,
          6,
          11,
          10,
          8,
          3,
          5,
          7
         ],
         "xaxis": "x",
         "y": [
          4,
          3,
          3,
          1,
          1,
          1,
          1,
          1,
          1
         ],
         "yaxis": "y"
        },
        {
         "alignmentgroup": "True",
         "hovertemplate": "type=Intervenção no Estado<br>Mes=%{x}<br>count=%{y}<extra></extra>",
         "legendgroup": "Intervenção no Estado",
         "marker": {
          "color": "#EF553B"
         },
         "name": "Intervenção no Estado",
         "offsetgroup": "Intervenção no Estado",
         "orientation": "v",
         "showlegend": true,
         "textposition": "auto",
         "type": "bar",
         "x": [
          3,
          6,
          8,
          1,
          7,
          12,
          11,
          5,
          9,
          10,
          2
         ],
         "xaxis": "x",
         "y": [
          4,
          4,
          4,
          3,
          3,
          2,
          2,
          1,
          1,
          1,
          1
         ],
         "yaxis": "y"
        },
        {
         "alignmentgroup": "True",
         "hovertemplate": "type=Reclamação Regimental<br>Mes=%{x}<br>count=%{y}<extra></extra>",
         "legendgroup": "Reclamação Regimental",
         "marker": {
          "color": "#00cc96"
         },
         "name": "Reclamação Regimental",
         "offsetgroup": "Reclamação Regimental",
         "orientation": "v",
         "showlegend": true,
         "textposition": "auto",
         "type": "bar",
         "x": [
          10,
          12,
          7,
          11,
          9,
          8
         ],
         "xaxis": "x",
         "y": [
          3,
          3,
          2,
          1,
          1,
          1
         ],
         "yaxis": "y"
        },
        {
         "alignmentgroup": "True",
         "hovertemplate": "type=Cumprimento de Sentença<br>Mes=%{x}<br>count=%{y}<extra></extra>",
         "legendgroup": "Cumprimento de Sentença",
         "marker": {
          "color": "#ab63fa"
         },
         "name": "Cumprimento de Sentença",
         "offsetgroup": "Cumprimento de Sentença",
         "orientation": "v",
         "showlegend": true,
         "textposition": "auto",
         "type": "bar",
         "x": [
          2,
          11,
          9,
          7,
          3,
          4,
          10,
          8,
          6,
          5
         ],
         "xaxis": "x",
         "y": [
          3,
          2,
          2,
          2,
          2,
          1,
          1,
          1,
          1,
          1
         ],
         "yaxis": "y"
        },
        {
         "alignmentgroup": "True",
         "hovertemplate": "type=Habilitação<br>Mes=%{x}<br>count=%{y}<extra></extra>",
         "legendgroup": "Habilitação",
         "marker": {
          "color": "#FFA15A"
         },
         "name": "Habilitação",
         "offsetgroup": "Habilitação",
         "orientation": "v",
         "showlegend": true,
         "textposition": "auto",
         "type": "bar",
         "x": [
          9,
          12,
          8,
          11,
          6
         ],
         "xaxis": "x",
         "y": [
          3,
          3,
          2,
          1,
          1
         ],
         "yaxis": "y"
        },
        {
         "alignmentgroup": "True",
         "hovertemplate": "type=Exceção Suspeição Impedimento<br>Mes=%{x}<br>count=%{y}<extra></extra>",
         "legendgroup": "Exceção Suspeição Impedimento",
         "marker": {
          "color": "#19d3f3"
         },
         "name": "Exceção Suspeição Impedimento",
         "offsetgroup": "Exceção Suspeição Impedimento",
         "orientation": "v",
         "showlegend": true,
         "textposition": "auto",
         "type": "bar",
         "x": [
          5,
          1,
          7,
          9,
          12,
          4,
          6,
          8,
          11
         ],
         "xaxis": "x",
         "y": [
          3,
          2,
          2,
          2,
          2,
          1,
          1,
          1,
          1
         ],
         "yaxis": "y"
        },
        {
         "alignmentgroup": "True",
         "hovertemplate": "type=Exceção de Impedimento<br>Mes=%{x}<br>count=%{y}<extra></extra>",
         "legendgroup": "Exceção de Impedimento",
         "marker": {
          "color": "#FF6692"
         },
         "name": "Exceção de Impedimento",
         "offsetgroup": "Exceção de Impedimento",
         "orientation": "v",
         "showlegend": true,
         "textposition": "auto",
         "type": "bar",
         "x": [
          11,
          9,
          7,
          5,
          1,
          3,
          4,
          12,
          8,
          6,
          2
         ],
         "xaxis": "x",
         "y": [
          3,
          3,
          3,
          3,
          2,
          2,
          2,
          2,
          1,
          1,
          1
         ],
         "yaxis": "y"
        },
        {
         "alignmentgroup": "True",
         "hovertemplate": "type=Processo de Execução<br>Mes=%{x}<br>count=%{y}<extra></extra>",
         "legendgroup": "Processo de Execução",
         "marker": {
          "color": "#B6E880"
         },
         "name": "Processo de Execução",
         "offsetgroup": "Processo de Execução",
         "orientation": "v",
         "showlegend": true,
         "textposition": "auto",
         "type": "bar",
         "x": [
          6
         ],
         "xaxis": "x",
         "y": [
          3
         ],
         "yaxis": "y"
        },
        {
         "alignmentgroup": "True",
         "hovertemplate": "type=Reabilitação<br>Mes=%{x}<br>count=%{y}<extra></extra>",
         "legendgroup": "Reabilitação",
         "marker": {
          "color": "#FF97FF"
         },
         "name": "Reabilitação",
         "offsetgroup": "Reabilitação",
         "orientation": "v",
         "showlegend": true,
         "textposition": "auto",
         "type": "bar",
         "x": [
          12,
          11,
          9,
          3,
          10,
          6,
          4
         ],
         "xaxis": "x",
         "y": [
          3,
          2,
          2,
          2,
          2,
          1,
          1
         ],
         "yaxis": "y"
        },
        {
         "alignmentgroup": "True",
         "hovertemplate": "type=Agravo de Petição<br>Mes=%{x}<br>count=%{y}<extra></extra>",
         "legendgroup": "Agravo de Petição",
         "marker": {
          "color": "#FECB52"
         },
         "name": "Agravo de Petição",
         "offsetgroup": "Agravo de Petição",
         "orientation": "v",
         "showlegend": true,
         "textposition": "auto",
         "type": "bar",
         "x": [
          4,
          3,
          5,
          10
         ],
         "xaxis": "x",
         "y": [
          3,
          3,
          3,
          1
         ],
         "yaxis": "y"
        },
        {
         "alignmentgroup": "True",
         "hovertemplate": "type=Mandado de Segurança Coletivo<br>Mes=%{x}<br>count=%{y}<extra></extra>",
         "legendgroup": "Mandado de Segurança Coletivo",
         "marker": {
          "color": "#636efa"
         },
         "name": "Mandado de Segurança Coletivo",
         "offsetgroup": "Mandado de Segurança Coletivo",
         "orientation": "v",
         "showlegend": true,
         "textposition": "auto",
         "type": "bar",
         "x": [
          12,
          9,
          5,
          10,
          4,
          8,
          7,
          6,
          3
         ],
         "xaxis": "x",
         "y": [
          3,
          3,
          2,
          2,
          2,
          1,
          1,
          1,
          1
         ],
         "yaxis": "y"
        },
        {
         "alignmentgroup": "True",
         "hovertemplate": "type=Apelação Recurso de Ofício<br>Mes=%{x}<br>count=%{y}<extra></extra>",
         "legendgroup": "Apelação Recurso de Ofício",
         "marker": {
          "color": "#EF553B"
         },
         "name": "Apelação Recurso de Ofício",
         "offsetgroup": "Apelação Recurso de Ofício",
         "orientation": "v",
         "showlegend": true,
         "textposition": "auto",
         "type": "bar",
         "x": [
          3,
          5,
          6,
          9,
          4,
          12,
          11,
          10,
          8,
          2
         ],
         "xaxis": "x",
         "y": [
          2,
          2,
          2,
          2,
          1,
          1,
          1,
          1,
          1,
          1
         ],
         "yaxis": "y"
        },
        {
         "alignmentgroup": "True",
         "hovertemplate": "type=Cautelar Incidental<br>Mes=%{x}<br>count=%{y}<extra></extra>",
         "legendgroup": "Cautelar Incidental",
         "marker": {
          "color": "#00cc96"
         },
         "name": "Cautelar Incidental",
         "offsetgroup": "Cautelar Incidental",
         "orientation": "v",
         "showlegend": true,
         "textposition": "auto",
         "type": "bar",
         "x": [
          9
         ],
         "xaxis": "x",
         "y": [
          2
         ],
         "yaxis": "y"
        },
        {
         "alignmentgroup": "True",
         "hovertemplate": "type=Crimes Ambientais<br>Mes=%{x}<br>count=%{y}<extra></extra>",
         "legendgroup": "Crimes Ambientais",
         "marker": {
          "color": "#ab63fa"
         },
         "name": "Crimes Ambientais",
         "offsetgroup": "Crimes Ambientais",
         "orientation": "v",
         "showlegend": true,
         "textposition": "auto",
         "type": "bar",
         "x": [
          8,
          2,
          12,
          6,
          4,
          3
         ],
         "xaxis": "x",
         "y": [
          2,
          1,
          1,
          1,
          1,
          1
         ],
         "yaxis": "y"
        },
        {
         "alignmentgroup": "True",
         "hovertemplate": "type=Tutela Antecipada Antecedente<br>Mes=%{x}<br>count=%{y}<extra></extra>",
         "legendgroup": "Tutela Antecipada Antecedente",
         "marker": {
          "color": "#FFA15A"
         },
         "name": "Tutela Antecipada Antecedente",
         "offsetgroup": "Tutela Antecipada Antecedente",
         "orientation": "v",
         "showlegend": true,
         "textposition": "auto",
         "type": "bar",
         "x": [
          8,
          12,
          2,
          3,
          10
         ],
         "xaxis": "x",
         "y": [
          2,
          2,
          1,
          1,
          1
         ],
         "yaxis": "y"
        },
        {
         "alignmentgroup": "True",
         "hovertemplate": "type=Tutela Cautelar Antecedente<br>Mes=%{x}<br>count=%{y}<extra></extra>",
         "legendgroup": "Tutela Cautelar Antecedente",
         "marker": {
          "color": "#19d3f3"
         },
         "name": "Tutela Cautelar Antecedente",
         "offsetgroup": "Tutela Cautelar Antecedente",
         "orientation": "v",
         "showlegend": true,
         "textposition": "auto",
         "type": "bar",
         "x": [
          1,
          10,
          4,
          8
         ],
         "xaxis": "x",
         "y": [
          2,
          2,
          1,
          1
         ],
         "yaxis": "y"
        },
        {
         "alignmentgroup": "True",
         "hovertemplate": "type=Tutela Provisoria<br>Mes=%{x}<br>count=%{y}<extra></extra>",
         "legendgroup": "Tutela Provisoria",
         "marker": {
          "color": "#FF6692"
         },
         "name": "Tutela Provisoria",
         "offsetgroup": "Tutela Provisoria",
         "orientation": "v",
         "showlegend": true,
         "textposition": "auto",
         "type": "bar",
         "x": [
          3,
          6,
          9,
          2,
          11,
          12
         ],
         "xaxis": "x",
         "y": [
          2,
          2,
          2,
          1,
          1,
          1
         ],
         "yaxis": "y"
        },
        {
         "alignmentgroup": "True",
         "hovertemplate": "type=Suspensão de Execução de Sentença<br>Mes=%{x}<br>count=%{y}<extra></extra>",
         "legendgroup": "Suspensão de Execução de Sentença",
         "marker": {
          "color": "#B6E880"
         },
         "name": "Suspensão de Execução de Sentença",
         "offsetgroup": "Suspensão de Execução de Sentença",
         "orientation": "v",
         "showlegend": true,
         "textposition": "auto",
         "type": "bar",
         "x": [
          6,
          3
         ],
         "xaxis": "x",
         "y": [
          2,
          1
         ],
         "yaxis": "y"
        },
        {
         "alignmentgroup": "True",
         "hovertemplate": "type=Embargos de Nulidade<br>Mes=%{x}<br>count=%{y}<extra></extra>",
         "legendgroup": "Embargos de Nulidade",
         "marker": {
          "color": "#FF97FF"
         },
         "name": "Embargos de Nulidade",
         "offsetgroup": "Embargos de Nulidade",
         "orientation": "v",
         "showlegend": true,
         "textposition": "auto",
         "type": "bar",
         "x": [
          12,
          11,
          6,
          5,
          4
         ],
         "xaxis": "x",
         "y": [
          2,
          1,
          1,
          1,
          1
         ],
         "yaxis": "y"
        },
        {
         "alignmentgroup": "True",
         "hovertemplate": "type=Ação Civil Improbidade Administrativa<br>Mes=%{x}<br>count=%{y}<extra></extra>",
         "legendgroup": "Ação Civil Improbidade Administrativa",
         "marker": {
          "color": "#FECB52"
         },
         "name": "Ação Civil Improbidade Administrativa",
         "offsetgroup": "Ação Civil Improbidade Administrativa",
         "orientation": "v",
         "showlegend": true,
         "textposition": "auto",
         "type": "bar",
         "x": [
          5,
          3,
          9
         ],
         "xaxis": "x",
         "y": [
          2,
          1,
          1
         ],
         "yaxis": "y"
        },
        {
         "alignmentgroup": "True",
         "hovertemplate": "type=Pedido de Assistência Judiciária Gratuita<br>Mes=%{x}<br>count=%{y}<extra></extra>",
         "legendgroup": "Pedido de Assistência Judiciária Gratuita",
         "marker": {
          "color": "#636efa"
         },
         "name": "Pedido de Assistência Judiciária Gratuita",
         "offsetgroup": "Pedido de Assistência Judiciária Gratuita",
         "orientation": "v",
         "showlegend": true,
         "textposition": "auto",
         "type": "bar",
         "x": [
          7,
          6,
          9,
          12,
          5,
          11,
          10,
          8,
          3,
          2
         ],
         "xaxis": "x",
         "y": [
          2,
          2,
          2,
          2,
          1,
          1,
          1,
          1,
          1,
          1
         ],
         "yaxis": "y"
        },
        {
         "alignmentgroup": "True",
         "hovertemplate": "type=Outros Crimes<br>Mes=%{x}<br>count=%{y}<extra></extra>",
         "legendgroup": "Outros Crimes",
         "marker": {
          "color": "#EF553B"
         },
         "name": "Outros Crimes",
         "offsetgroup": "Outros Crimes",
         "orientation": "v",
         "showlegend": true,
         "textposition": "auto",
         "type": "bar",
         "x": [
          6,
          3,
          7,
          9,
          5,
          11,
          10
         ],
         "xaxis": "x",
         "y": [
          2,
          1,
          1,
          1,
          1,
          1,
          1
         ],
         "yaxis": "y"
        },
        {
         "alignmentgroup": "True",
         "hovertemplate": "type=Incidente de Falsidade<br>Mes=%{x}<br>count=%{y}<extra></extra>",
         "legendgroup": "Incidente de Falsidade",
         "marker": {
          "color": "#00cc96"
         },
         "name": "Incidente de Falsidade",
         "offsetgroup": "Incidente de Falsidade",
         "orientation": "v",
         "showlegend": true,
         "textposition": "auto",
         "type": "bar",
         "x": [
          8,
          7,
          9,
          11,
          1,
          2,
          3
         ],
         "xaxis": "x",
         "y": [
          2,
          2,
          1,
          1,
          1,
          1,
          1
         ],
         "yaxis": "y"
        },
        {
         "alignmentgroup": "True",
         "hovertemplate": "type=Procedimento Investigatório do MP<br>Mes=%{x}<br>count=%{y}<extra></extra>",
         "legendgroup": "Procedimento Investigatório do MP",
         "marker": {
          "color": "#ab63fa"
         },
         "name": "Procedimento Investigatório do MP",
         "offsetgroup": "Procedimento Investigatório do MP",
         "orientation": "v",
         "showlegend": true,
         "textposition": "auto",
         "type": "bar",
         "x": [
          9,
          12,
          10,
          8,
          5,
          4,
          3,
          2
         ],
         "xaxis": "x",
         "y": [
          2,
          1,
          1,
          1,
          1,
          1,
          1,
          1
         ],
         "yaxis": "y"
        },
        {
         "alignmentgroup": "True",
         "hovertemplate": "type=Notícia Crime<br>Mes=%{x}<br>count=%{y}<extra></extra>",
         "legendgroup": "Notícia Crime",
         "marker": {
          "color": "#FFA15A"
         },
         "name": "Notícia Crime",
         "offsetgroup": "Notícia Crime",
         "orientation": "v",
         "showlegend": true,
         "textposition": "auto",
         "type": "bar",
         "x": [
          2,
          12,
          9,
          11,
          7,
          5,
          4,
          3,
          1
         ],
         "xaxis": "x",
         "y": [
          2,
          1,
          1,
          1,
          1,
          1,
          1,
          1,
          1
         ],
         "yaxis": "y"
        },
        {
         "alignmentgroup": "True",
         "hovertemplate": "type=Oposição<br>Mes=%{x}<br>count=%{y}<extra></extra>",
         "legendgroup": "Oposição",
         "marker": {
          "color": "#19d3f3"
         },
         "name": "Oposição",
         "offsetgroup": "Oposição",
         "orientation": "v",
         "showlegend": true,
         "textposition": "auto",
         "type": "bar",
         "x": [
          1
         ],
         "xaxis": "x",
         "y": [
          1
         ],
         "yaxis": "y"
        },
        {
         "alignmentgroup": "True",
         "hovertemplate": "type=Agravo de Instrumento em Recurso Extraordinario<br>Mes=%{x}<br>count=%{y}<extra></extra>",
         "legendgroup": "Agravo de Instrumento em Recurso Extraordinario",
         "marker": {
          "color": "#FF6692"
         },
         "name": "Agravo de Instrumento em Recurso Extraordinario",
         "offsetgroup": "Agravo de Instrumento em Recurso Extraordinario",
         "orientation": "v",
         "showlegend": true,
         "textposition": "auto",
         "type": "bar",
         "x": [
          5
         ],
         "xaxis": "x",
         "y": [
          1
         ],
         "yaxis": "y"
        },
        {
         "alignmentgroup": "True",
         "hovertemplate": "type=Agravo em Rec<br>Mes=%{x}<br>count=%{y}<extra></extra>",
         "legendgroup": "Agravo em Rec",
         "marker": {
          "color": "#B6E880"
         },
         "name": "Agravo em Rec",
         "offsetgroup": "Agravo em Rec",
         "orientation": "v",
         "showlegend": true,
         "textposition": "auto",
         "type": "bar",
         "x": [
          8,
          10
         ],
         "xaxis": "x",
         "y": [
          1,
          1
         ],
         "yaxis": "y"
        },
        {
         "alignmentgroup": "True",
         "hovertemplate": "type=Outras Medidas Provisionais<br>Mes=%{x}<br>count=%{y}<extra></extra>",
         "legendgroup": "Outras Medidas Provisionais",
         "marker": {
          "color": "#FF97FF"
         },
         "name": "Outras Medidas Provisionais",
         "offsetgroup": "Outras Medidas Provisionais",
         "orientation": "v",
         "showlegend": true,
         "textposition": "auto",
         "type": "bar",
         "x": [
          10
         ],
         "xaxis": "x",
         "y": [
          1
         ],
         "yaxis": "y"
        },
        {
         "alignmentgroup": "True",
         "hovertemplate": "type=Liquidação Provisória por Artigos<br>Mes=%{x}<br>count=%{y}<extra></extra>",
         "legendgroup": "Liquidação Provisória por Artigos",
         "marker": {
          "color": "#FECB52"
         },
         "name": "Liquidação Provisória por Artigos",
         "offsetgroup": "Liquidação Provisória por Artigos",
         "orientation": "v",
         "showlegend": true,
         "textposition": "auto",
         "type": "bar",
         "x": [
          5,
          6
         ],
         "xaxis": "x",
         "y": [
          1,
          1
         ],
         "yaxis": "y"
        },
        {
         "alignmentgroup": "True",
         "hovertemplate": "type=Incidente de Prevenção ou Composição de Divergência<br>Mes=%{x}<br>count=%{y}<extra></extra>",
         "legendgroup": "Incidente de Prevenção ou Composição de Divergência",
         "marker": {
          "color": "#636efa"
         },
         "name": "Incidente de Prevenção ou Composição de Divergência",
         "offsetgroup": "Incidente de Prevenção ou Composição de Divergência",
         "orientation": "v",
         "showlegend": true,
         "textposition": "auto",
         "type": "bar",
         "x": [
          12
         ],
         "xaxis": "x",
         "y": [
          1
         ],
         "yaxis": "y"
        },
        {
         "alignmentgroup": "True",
         "hovertemplate": "type=Medidas Protetivas de Urgencia<br>Mes=%{x}<br>count=%{y}<extra></extra>",
         "legendgroup": "Medidas Protetivas de Urgencia",
         "marker": {
          "color": "#EF553B"
         },
         "name": "Medidas Protetivas de Urgencia",
         "offsetgroup": "Medidas Protetivas de Urgencia",
         "orientation": "v",
         "showlegend": true,
         "textposition": "auto",
         "type": "bar",
         "x": [
          3,
          2,
          1
         ],
         "xaxis": "x",
         "y": [
          1,
          1,
          1
         ],
         "yaxis": "y"
        },
        {
         "alignmentgroup": "True",
         "hovertemplate": "type=Notificação Para Explicações<br>Mes=%{x}<br>count=%{y}<extra></extra>",
         "legendgroup": "Notificação Para Explicações",
         "marker": {
          "color": "#00cc96"
         },
         "name": "Notificação Para Explicações",
         "offsetgroup": "Notificação Para Explicações",
         "orientation": "v",
         "showlegend": true,
         "textposition": "auto",
         "type": "bar",
         "x": [
          10
         ],
         "xaxis": "x",
         "y": [
          1
         ],
         "yaxis": "y"
        },
        {
         "alignmentgroup": "True",
         "hovertemplate": "type=Arresto Hipoteca Legal<br>Mes=%{x}<br>count=%{y}<extra></extra>",
         "legendgroup": "Arresto Hipoteca Legal",
         "marker": {
          "color": "#ab63fa"
         },
         "name": "Arresto Hipoteca Legal",
         "offsetgroup": "Arresto Hipoteca Legal",
         "orientation": "v",
         "showlegend": true,
         "textposition": "auto",
         "type": "bar",
         "x": [
          3
         ],
         "xaxis": "x",
         "y": [
          1
         ],
         "yaxis": "y"
        },
        {
         "alignmentgroup": "True",
         "hovertemplate": "type=Interpelação<br>Mes=%{x}<br>count=%{y}<extra></extra>",
         "legendgroup": "Interpelação",
         "marker": {
          "color": "#FFA15A"
         },
         "name": "Interpelação",
         "offsetgroup": "Interpelação",
         "orientation": "v",
         "showlegend": true,
         "textposition": "auto",
         "type": "bar",
         "x": [
          7
         ],
         "xaxis": "x",
         "y": [
          1
         ],
         "yaxis": "y"
        },
        {
         "alignmentgroup": "True",
         "hovertemplate": "type=Interpelação Judicial<br>Mes=%{x}<br>count=%{y}<extra></extra>",
         "legendgroup": "Interpelação Judicial",
         "marker": {
          "color": "#19d3f3"
         },
         "name": "Interpelação Judicial",
         "offsetgroup": "Interpelação Judicial",
         "orientation": "v",
         "showlegend": true,
         "textposition": "auto",
         "type": "bar",
         "x": [
          5
         ],
         "xaxis": "x",
         "y": [
          1
         ],
         "yaxis": "y"
        },
        {
         "alignmentgroup": "True",
         "hovertemplate": "type=Arresto<br>Mes=%{x}<br>count=%{y}<extra></extra>",
         "legendgroup": "Arresto",
         "marker": {
          "color": "#FF6692"
         },
         "name": "Arresto",
         "offsetgroup": "Arresto",
         "orientation": "v",
         "showlegend": true,
         "textposition": "auto",
         "type": "bar",
         "x": [
          8
         ],
         "xaxis": "x",
         "y": [
          1
         ],
         "yaxis": "y"
        },
        {
         "alignmentgroup": "True",
         "hovertemplate": "type=Impugnação<br>Mes=%{x}<br>count=%{y}<extra></extra>",
         "legendgroup": "Impugnação",
         "marker": {
          "color": "#B6E880"
         },
         "name": "Impugnação",
         "offsetgroup": "Impugnação",
         "orientation": "v",
         "showlegend": true,
         "textposition": "auto",
         "type": "bar",
         "x": [
          11,
          12,
          8
         ],
         "xaxis": "x",
         "y": [
          1,
          1,
          1
         ],
         "yaxis": "y"
        },
        {
         "alignmentgroup": "True",
         "hovertemplate": "type=Impugnação ao Cumprimento de Sentença<br>Mes=%{x}<br>count=%{y}<extra></extra>",
         "legendgroup": "Impugnação ao Cumprimento de Sentença",
         "marker": {
          "color": "#FF97FF"
         },
         "name": "Impugnação ao Cumprimento de Sentença",
         "offsetgroup": "Impugnação ao Cumprimento de Sentença",
         "orientation": "v",
         "showlegend": true,
         "textposition": "auto",
         "type": "bar",
         "x": [
          3,
          4,
          10
         ],
         "xaxis": "x",
         "y": [
          1,
          1,
          1
         ],
         "yaxis": "y"
        },
        {
         "alignmentgroup": "True",
         "hovertemplate": "type=Embargos de Terceiros<br>Mes=%{x}<br>count=%{y}<extra></extra>",
         "legendgroup": "Embargos de Terceiros",
         "marker": {
          "color": "#FECB52"
         },
         "name": "Embargos de Terceiros",
         "offsetgroup": "Embargos de Terceiros",
         "orientation": "v",
         "showlegend": true,
         "textposition": "auto",
         "type": "bar",
         "x": [
          3,
          1
         ],
         "xaxis": "x",
         "y": [
          1,
          1
         ],
         "yaxis": "y"
        },
        {
         "alignmentgroup": "True",
         "hovertemplate": "type=Embargos<br>Mes=%{x}<br>count=%{y}<extra></extra>",
         "legendgroup": "Embargos",
         "marker": {
          "color": "#636efa"
         },
         "name": "Embargos",
         "offsetgroup": "Embargos",
         "orientation": "v",
         "showlegend": true,
         "textposition": "auto",
         "type": "bar",
         "x": [
          7
         ],
         "xaxis": "x",
         "y": [
          1
         ],
         "yaxis": "y"
        },
        {
         "alignmentgroup": "True",
         "hovertemplate": "type=Recurso Inominado<br>Mes=%{x}<br>count=%{y}<extra></extra>",
         "legendgroup": "Recurso Inominado",
         "marker": {
          "color": "#EF553B"
         },
         "name": "Recurso Inominado",
         "offsetgroup": "Recurso Inominado",
         "orientation": "v",
         "showlegend": true,
         "textposition": "auto",
         "type": "bar",
         "x": [
          4,
          10
         ],
         "xaxis": "x",
         "y": [
          1,
          1
         ],
         "yaxis": "y"
        },
        {
         "alignmentgroup": "True",
         "hovertemplate": "type=Pedido Suspensão Liminar<br>Mes=%{x}<br>count=%{y}<extra></extra>",
         "legendgroup": "Pedido Suspensão Liminar",
         "marker": {
          "color": "#00cc96"
         },
         "name": "Pedido Suspensão Liminar",
         "offsetgroup": "Pedido Suspensão Liminar",
         "orientation": "v",
         "showlegend": true,
         "textposition": "auto",
         "type": "bar",
         "x": [
          7,
          8
         ],
         "xaxis": "x",
         "y": [
          1,
          1
         ],
         "yaxis": "y"
        },
        {
         "alignmentgroup": "True",
         "hovertemplate": "type=Crime Responsabilidade Funcionário Publico<br>Mes=%{x}<br>count=%{y}<extra></extra>",
         "legendgroup": "Crime Responsabilidade Funcionário Publico",
         "marker": {
          "color": "#ab63fa"
         },
         "name": "Crime Responsabilidade Funcionário Publico",
         "offsetgroup": "Crime Responsabilidade Funcionário Publico",
         "orientation": "v",
         "showlegend": true,
         "textposition": "auto",
         "type": "bar",
         "x": [
          7,
          2
         ],
         "xaxis": "x",
         "y": [
          1,
          1
         ],
         "yaxis": "y"
        },
        {
         "alignmentgroup": "True",
         "hovertemplate": "type=Pedido de Arquivamento<br>Mes=%{x}<br>count=%{y}<extra></extra>",
         "legendgroup": "Pedido de Arquivamento",
         "marker": {
          "color": "#FFA15A"
         },
         "name": "Pedido de Arquivamento",
         "offsetgroup": "Pedido de Arquivamento",
         "orientation": "v",
         "showlegend": true,
         "textposition": "auto",
         "type": "bar",
         "x": [
          11,
          4
         ],
         "xaxis": "x",
         "y": [
          1,
          1
         ],
         "yaxis": "y"
        },
        {
         "alignmentgroup": "True",
         "hovertemplate": "type=Incidente de Assunção de Competência<br>Mes=%{x}<br>count=%{y}<extra></extra>",
         "legendgroup": "Incidente de Assunção de Competência",
         "marker": {
          "color": "#19d3f3"
         },
         "name": "Incidente de Assunção de Competência",
         "offsetgroup": "Incidente de Assunção de Competência",
         "orientation": "v",
         "showlegend": true,
         "textposition": "auto",
         "type": "bar",
         "x": [
          12,
          3,
          9
         ],
         "xaxis": "x",
         "y": [
          1,
          1,
          1
         ],
         "yaxis": "y"
        },
        {
         "alignmentgroup": "True",
         "hovertemplate": "type=Recurso de Agravo<br>Mes=%{x}<br>count=%{y}<extra></extra>",
         "legendgroup": "Recurso de Agravo",
         "marker": {
          "color": "#FF6692"
         },
         "name": "Recurso de Agravo",
         "offsetgroup": "Recurso de Agravo",
         "orientation": "v",
         "showlegend": true,
         "textposition": "auto",
         "type": "bar",
         "x": [
          8
         ],
         "xaxis": "x",
         "y": [
          1
         ],
         "yaxis": "y"
        },
        {
         "alignmentgroup": "True",
         "hovertemplate": "type=Declaração de Inconstitucionalidade<br>Mes=%{x}<br>count=%{y}<extra></extra>",
         "legendgroup": "Declaração de Inconstitucionalidade",
         "marker": {
          "color": "#B6E880"
         },
         "name": "Declaração de Inconstitucionalidade",
         "offsetgroup": "Declaração de Inconstitucionalidade",
         "orientation": "v",
         "showlegend": true,
         "textposition": "auto",
         "type": "bar",
         "x": [
          12
         ],
         "xaxis": "x",
         "y": [
          1
         ],
         "yaxis": "y"
        },
        {
         "alignmentgroup": "True",
         "hovertemplate": "type=Declaratória de Constitucionalidade<br>Mes=%{x}<br>count=%{y}<extra></extra>",
         "legendgroup": "Declaratória de Constitucionalidade",
         "marker": {
          "color": "#FF97FF"
         },
         "name": "Declaratória de Constitucionalidade",
         "offsetgroup": "Declaratória de Constitucionalidade",
         "orientation": "v",
         "showlegend": true,
         "textposition": "auto",
         "type": "bar",
         "x": [
          12,
          7
         ],
         "xaxis": "x",
         "y": [
          1,
          1
         ],
         "yaxis": "y"
        }
       ],
       "layout": {
        "barmode": "relative",
        "legend": {
         "title": {
          "text": "type"
         },
         "tracegroupgap": 0
        },
        "margin": {
         "t": 60
        },
        "template": {
         "data": {
          "bar": [
           {
            "error_x": {
             "color": "#2a3f5f"
            },
            "error_y": {
             "color": "#2a3f5f"
            },
            "marker": {
             "line": {
              "color": "#E5ECF6",
              "width": 0.5
             }
            },
            "type": "bar"
           }
          ],
          "barpolar": [
           {
            "marker": {
             "line": {
              "color": "#E5ECF6",
              "width": 0.5
             }
            },
            "type": "barpolar"
           }
          ],
          "carpet": [
           {
            "aaxis": {
             "endlinecolor": "#2a3f5f",
             "gridcolor": "white",
             "linecolor": "white",
             "minorgridcolor": "white",
             "startlinecolor": "#2a3f5f"
            },
            "baxis": {
             "endlinecolor": "#2a3f5f",
             "gridcolor": "white",
             "linecolor": "white",
             "minorgridcolor": "white",
             "startlinecolor": "#2a3f5f"
            },
            "type": "carpet"
           }
          ],
          "choropleth": [
           {
            "colorbar": {
             "outlinewidth": 0,
             "ticks": ""
            },
            "type": "choropleth"
           }
          ],
          "contour": [
           {
            "colorbar": {
             "outlinewidth": 0,
             "ticks": ""
            },
            "colorscale": [
             [
              0,
              "#0d0887"
             ],
             [
              0.1111111111111111,
              "#46039f"
             ],
             [
              0.2222222222222222,
              "#7201a8"
             ],
             [
              0.3333333333333333,
              "#9c179e"
             ],
             [
              0.4444444444444444,
              "#bd3786"
             ],
             [
              0.5555555555555556,
              "#d8576b"
             ],
             [
              0.6666666666666666,
              "#ed7953"
             ],
             [
              0.7777777777777778,
              "#fb9f3a"
             ],
             [
              0.8888888888888888,
              "#fdca26"
             ],
             [
              1,
              "#f0f921"
             ]
            ],
            "type": "contour"
           }
          ],
          "contourcarpet": [
           {
            "colorbar": {
             "outlinewidth": 0,
             "ticks": ""
            },
            "type": "contourcarpet"
           }
          ],
          "heatmap": [
           {
            "colorbar": {
             "outlinewidth": 0,
             "ticks": ""
            },
            "colorscale": [
             [
              0,
              "#0d0887"
             ],
             [
              0.1111111111111111,
              "#46039f"
             ],
             [
              0.2222222222222222,
              "#7201a8"
             ],
             [
              0.3333333333333333,
              "#9c179e"
             ],
             [
              0.4444444444444444,
              "#bd3786"
             ],
             [
              0.5555555555555556,
              "#d8576b"
             ],
             [
              0.6666666666666666,
              "#ed7953"
             ],
             [
              0.7777777777777778,
              "#fb9f3a"
             ],
             [
              0.8888888888888888,
              "#fdca26"
             ],
             [
              1,
              "#f0f921"
             ]
            ],
            "type": "heatmap"
           }
          ],
          "heatmapgl": [
           {
            "colorbar": {
             "outlinewidth": 0,
             "ticks": ""
            },
            "colorscale": [
             [
              0,
              "#0d0887"
             ],
             [
              0.1111111111111111,
              "#46039f"
             ],
             [
              0.2222222222222222,
              "#7201a8"
             ],
             [
              0.3333333333333333,
              "#9c179e"
             ],
             [
              0.4444444444444444,
              "#bd3786"
             ],
             [
              0.5555555555555556,
              "#d8576b"
             ],
             [
              0.6666666666666666,
              "#ed7953"
             ],
             [
              0.7777777777777778,
              "#fb9f3a"
             ],
             [
              0.8888888888888888,
              "#fdca26"
             ],
             [
              1,
              "#f0f921"
             ]
            ],
            "type": "heatmapgl"
           }
          ],
          "histogram": [
           {
            "marker": {
             "colorbar": {
              "outlinewidth": 0,
              "ticks": ""
             }
            },
            "type": "histogram"
           }
          ],
          "histogram2d": [
           {
            "colorbar": {
             "outlinewidth": 0,
             "ticks": ""
            },
            "colorscale": [
             [
              0,
              "#0d0887"
             ],
             [
              0.1111111111111111,
              "#46039f"
             ],
             [
              0.2222222222222222,
              "#7201a8"
             ],
             [
              0.3333333333333333,
              "#9c179e"
             ],
             [
              0.4444444444444444,
              "#bd3786"
             ],
             [
              0.5555555555555556,
              "#d8576b"
             ],
             [
              0.6666666666666666,
              "#ed7953"
             ],
             [
              0.7777777777777778,
              "#fb9f3a"
             ],
             [
              0.8888888888888888,
              "#fdca26"
             ],
             [
              1,
              "#f0f921"
             ]
            ],
            "type": "histogram2d"
           }
          ],
          "histogram2dcontour": [
           {
            "colorbar": {
             "outlinewidth": 0,
             "ticks": ""
            },
            "colorscale": [
             [
              0,
              "#0d0887"
             ],
             [
              0.1111111111111111,
              "#46039f"
             ],
             [
              0.2222222222222222,
              "#7201a8"
             ],
             [
              0.3333333333333333,
              "#9c179e"
             ],
             [
              0.4444444444444444,
              "#bd3786"
             ],
             [
              0.5555555555555556,
              "#d8576b"
             ],
             [
              0.6666666666666666,
              "#ed7953"
             ],
             [
              0.7777777777777778,
              "#fb9f3a"
             ],
             [
              0.8888888888888888,
              "#fdca26"
             ],
             [
              1,
              "#f0f921"
             ]
            ],
            "type": "histogram2dcontour"
           }
          ],
          "mesh3d": [
           {
            "colorbar": {
             "outlinewidth": 0,
             "ticks": ""
            },
            "type": "mesh3d"
           }
          ],
          "parcoords": [
           {
            "line": {
             "colorbar": {
              "outlinewidth": 0,
              "ticks": ""
             }
            },
            "type": "parcoords"
           }
          ],
          "pie": [
           {
            "automargin": true,
            "type": "pie"
           }
          ],
          "scatter": [
           {
            "marker": {
             "colorbar": {
              "outlinewidth": 0,
              "ticks": ""
             }
            },
            "type": "scatter"
           }
          ],
          "scatter3d": [
           {
            "line": {
             "colorbar": {
              "outlinewidth": 0,
              "ticks": ""
             }
            },
            "marker": {
             "colorbar": {
              "outlinewidth": 0,
              "ticks": ""
             }
            },
            "type": "scatter3d"
           }
          ],
          "scattercarpet": [
           {
            "marker": {
             "colorbar": {
              "outlinewidth": 0,
              "ticks": ""
             }
            },
            "type": "scattercarpet"
           }
          ],
          "scattergeo": [
           {
            "marker": {
             "colorbar": {
              "outlinewidth": 0,
              "ticks": ""
             }
            },
            "type": "scattergeo"
           }
          ],
          "scattergl": [
           {
            "marker": {
             "colorbar": {
              "outlinewidth": 0,
              "ticks": ""
             }
            },
            "type": "scattergl"
           }
          ],
          "scattermapbox": [
           {
            "marker": {
             "colorbar": {
              "outlinewidth": 0,
              "ticks": ""
             }
            },
            "type": "scattermapbox"
           }
          ],
          "scatterpolar": [
           {
            "marker": {
             "colorbar": {
              "outlinewidth": 0,
              "ticks": ""
             }
            },
            "type": "scatterpolar"
           }
          ],
          "scatterpolargl": [
           {
            "marker": {
             "colorbar": {
              "outlinewidth": 0,
              "ticks": ""
             }
            },
            "type": "scatterpolargl"
           }
          ],
          "scatterternary": [
           {
            "marker": {
             "colorbar": {
              "outlinewidth": 0,
              "ticks": ""
             }
            },
            "type": "scatterternary"
           }
          ],
          "surface": [
           {
            "colorbar": {
             "outlinewidth": 0,
             "ticks": ""
            },
            "colorscale": [
             [
              0,
              "#0d0887"
             ],
             [
              0.1111111111111111,
              "#46039f"
             ],
             [
              0.2222222222222222,
              "#7201a8"
             ],
             [
              0.3333333333333333,
              "#9c179e"
             ],
             [
              0.4444444444444444,
              "#bd3786"
             ],
             [
              0.5555555555555556,
              "#d8576b"
             ],
             [
              0.6666666666666666,
              "#ed7953"
             ],
             [
              0.7777777777777778,
              "#fb9f3a"
             ],
             [
              0.8888888888888888,
              "#fdca26"
             ],
             [
              1,
              "#f0f921"
             ]
            ],
            "type": "surface"
           }
          ],
          "table": [
           {
            "cells": {
             "fill": {
              "color": "#EBF0F8"
             },
             "line": {
              "color": "white"
             }
            },
            "header": {
             "fill": {
              "color": "#C8D4E3"
             },
             "line": {
              "color": "white"
             }
            },
            "type": "table"
           }
          ]
         },
         "layout": {
          "annotationdefaults": {
           "arrowcolor": "#2a3f5f",
           "arrowhead": 0,
           "arrowwidth": 1
          },
          "coloraxis": {
           "colorbar": {
            "outlinewidth": 0,
            "ticks": ""
           }
          },
          "colorscale": {
           "diverging": [
            [
             0,
             "#8e0152"
            ],
            [
             0.1,
             "#c51b7d"
            ],
            [
             0.2,
             "#de77ae"
            ],
            [
             0.3,
             "#f1b6da"
            ],
            [
             0.4,
             "#fde0ef"
            ],
            [
             0.5,
             "#f7f7f7"
            ],
            [
             0.6,
             "#e6f5d0"
            ],
            [
             0.7,
             "#b8e186"
            ],
            [
             0.8,
             "#7fbc41"
            ],
            [
             0.9,
             "#4d9221"
            ],
            [
             1,
             "#276419"
            ]
           ],
           "sequential": [
            [
             0,
             "#0d0887"
            ],
            [
             0.1111111111111111,
             "#46039f"
            ],
            [
             0.2222222222222222,
             "#7201a8"
            ],
            [
             0.3333333333333333,
             "#9c179e"
            ],
            [
             0.4444444444444444,
             "#bd3786"
            ],
            [
             0.5555555555555556,
             "#d8576b"
            ],
            [
             0.6666666666666666,
             "#ed7953"
            ],
            [
             0.7777777777777778,
             "#fb9f3a"
            ],
            [
             0.8888888888888888,
             "#fdca26"
            ],
            [
             1,
             "#f0f921"
            ]
           ],
           "sequentialminus": [
            [
             0,
             "#0d0887"
            ],
            [
             0.1111111111111111,
             "#46039f"
            ],
            [
             0.2222222222222222,
             "#7201a8"
            ],
            [
             0.3333333333333333,
             "#9c179e"
            ],
            [
             0.4444444444444444,
             "#bd3786"
            ],
            [
             0.5555555555555556,
             "#d8576b"
            ],
            [
             0.6666666666666666,
             "#ed7953"
            ],
            [
             0.7777777777777778,
             "#fb9f3a"
            ],
            [
             0.8888888888888888,
             "#fdca26"
            ],
            [
             1,
             "#f0f921"
            ]
           ]
          },
          "colorway": [
           "#636efa",
           "#EF553B",
           "#00cc96",
           "#ab63fa",
           "#FFA15A",
           "#19d3f3",
           "#FF6692",
           "#B6E880",
           "#FF97FF",
           "#FECB52"
          ],
          "font": {
           "color": "#2a3f5f"
          },
          "geo": {
           "bgcolor": "white",
           "lakecolor": "white",
           "landcolor": "#E5ECF6",
           "showlakes": true,
           "showland": true,
           "subunitcolor": "white"
          },
          "hoverlabel": {
           "align": "left"
          },
          "hovermode": "closest",
          "mapbox": {
           "style": "light"
          },
          "paper_bgcolor": "white",
          "plot_bgcolor": "#E5ECF6",
          "polar": {
           "angularaxis": {
            "gridcolor": "white",
            "linecolor": "white",
            "ticks": ""
           },
           "bgcolor": "#E5ECF6",
           "radialaxis": {
            "gridcolor": "white",
            "linecolor": "white",
            "ticks": ""
           }
          },
          "scene": {
           "xaxis": {
            "backgroundcolor": "#E5ECF6",
            "gridcolor": "white",
            "gridwidth": 2,
            "linecolor": "white",
            "showbackground": true,
            "ticks": "",
            "zerolinecolor": "white"
           },
           "yaxis": {
            "backgroundcolor": "#E5ECF6",
            "gridcolor": "white",
            "gridwidth": 2,
            "linecolor": "white",
            "showbackground": true,
            "ticks": "",
            "zerolinecolor": "white"
           },
           "zaxis": {
            "backgroundcolor": "#E5ECF6",
            "gridcolor": "white",
            "gridwidth": 2,
            "linecolor": "white",
            "showbackground": true,
            "ticks": "",
            "zerolinecolor": "white"
           }
          },
          "shapedefaults": {
           "line": {
            "color": "#2a3f5f"
           }
          },
          "ternary": {
           "aaxis": {
            "gridcolor": "white",
            "linecolor": "white",
            "ticks": ""
           },
           "baxis": {
            "gridcolor": "white",
            "linecolor": "white",
            "ticks": ""
           },
           "bgcolor": "#E5ECF6",
           "caxis": {
            "gridcolor": "white",
            "linecolor": "white",
            "ticks": ""
           }
          },
          "title": {
           "x": 0.05
          },
          "xaxis": {
           "automargin": true,
           "gridcolor": "white",
           "linecolor": "white",
           "ticks": "",
           "title": {
            "standoff": 15
           },
           "zerolinecolor": "white",
           "zerolinewidth": 2
          },
          "yaxis": {
           "automargin": true,
           "gridcolor": "white",
           "linecolor": "white",
           "ticks": "",
           "title": {
            "standoff": 15
           },
           "zerolinecolor": "white",
           "zerolinewidth": 2
          }
         }
        },
        "xaxis": {
         "anchor": "y",
         "domain": [
          0,
          1
         ],
         "title": {
          "text": "Mes"
         }
        },
        "yaxis": {
         "anchor": "x",
         "domain": [
          0,
          1
         ],
         "title": {
          "text": "count"
         }
        }
       }
      },
      "text/html": [
       "<div>\n",
       "        \n",
       "        \n",
       "            <div id=\"c2ee8933-8fe9-49b8-96f0-cef09bf06a15\" class=\"plotly-graph-div\" style=\"height:525px; width:100%;\"></div>\n",
       "            <script type=\"text/javascript\">\n",
       "                require([\"plotly\"], function(Plotly) {\n",
       "                    window.PLOTLYENV=window.PLOTLYENV || {};\n",
       "                    \n",
       "                if (document.getElementById(\"c2ee8933-8fe9-49b8-96f0-cef09bf06a15\")) {\n",
       "                    Plotly.newPlot(\n",
       "                        'c2ee8933-8fe9-49b8-96f0-cef09bf06a15',\n",
       "                        [{\"alignmentgroup\": \"True\", \"hovertemplate\": \"type=Apela\\u00e7\\u00e3o C\\u00edvel<br>Mes=%{x}<br>count=%{y}<extra></extra>\", \"legendgroup\": \"Apela\\u00e7\\u00e3o C\\u00edvel\", \"marker\": {\"color\": \"#636efa\"}, \"name\": \"Apela\\u00e7\\u00e3o C\\u00edvel\", \"offsetgroup\": \"Apela\\u00e7\\u00e3o C\\u00edvel\", \"orientation\": \"v\", \"showlegend\": true, \"textposition\": \"auto\", \"type\": \"bar\", \"x\": [8, 5, 3, 10, 11, 6, 9, 4, 12, 7, 2, 1], \"xaxis\": \"x\", \"y\": [164322, 156594, 153918, 153758, 152545, 151408, 148711, 145295, 136870, 123685, 80718, 52035], \"yaxis\": \"y\"}, {\"alignmentgroup\": \"True\", \"hovertemplate\": \"type=Agravo de Instrumento<br>Mes=%{x}<br>count=%{y}<extra></extra>\", \"legendgroup\": \"Agravo de Instrumento\", \"marker\": {\"color\": \"#EF553B\"}, \"name\": \"Agravo de Instrumento\", \"offsetgroup\": \"Agravo de Instrumento\", \"orientation\": \"v\", \"showlegend\": true, \"textposition\": \"auto\", \"type\": \"bar\", \"x\": [8, 10, 9, 3, 11, 6, 5, 4, 12, 7, 2, 1], \"xaxis\": \"x\", \"y\": [141685, 126672, 125445, 125339, 123558, 121993, 121576, 119531, 117140, 108665, 83675, 52181], \"yaxis\": \"y\"}, {\"alignmentgroup\": \"True\", \"hovertemplate\": \"type=Embargos de Declara\\u00e7\\u00e3o<br>Mes=%{x}<br>count=%{y}<extra></extra>\", \"legendgroup\": \"Embargos de Declara\\u00e7\\u00e3o\", \"marker\": {\"color\": \"#00cc96\"}, \"name\": \"Embargos de Declara\\u00e7\\u00e3o\", \"offsetgroup\": \"Embargos de Declara\\u00e7\\u00e3o\", \"orientation\": \"v\", \"showlegend\": true, \"textposition\": \"auto\", \"type\": \"bar\", \"x\": [8, 11, 3, 6, 10, 5, 12, 9, 4, 7, 2, 1], \"xaxis\": \"x\", \"y\": [88994, 80916, 80667, 79154, 78817, 72676, 72431, 71359, 66778, 56420, 43923, 21147], \"yaxis\": \"y\"}, {\"alignmentgroup\": \"True\", \"hovertemplate\": \"type=Recurso C\\u00edvel<br>Mes=%{x}<br>count=%{y}<extra></extra>\", \"legendgroup\": \"Recurso C\\u00edvel\", \"marker\": {\"color\": \"#ab63fa\"}, \"name\": \"Recurso C\\u00edvel\", \"offsetgroup\": \"Recurso C\\u00edvel\", \"orientation\": \"v\", \"showlegend\": true, \"textposition\": \"auto\", \"type\": \"bar\", \"x\": [10, 11, 7, 8, 9, 6, 5, 4, 3, 12, 2, 1], \"xaxis\": \"x\", \"y\": [46910, 45984, 43505, 43346, 42720, 42556, 39683, 39668, 39063, 37333, 26756, 22655], \"yaxis\": \"y\"}, {\"alignmentgroup\": \"True\", \"hovertemplate\": \"type=Agravo<br>Mes=%{x}<br>count=%{y}<extra></extra>\", \"legendgroup\": \"Agravo\", \"marker\": {\"color\": \"#FFA15A\"}, \"name\": \"Agravo\", \"offsetgroup\": \"Agravo\", \"orientation\": \"v\", \"showlegend\": true, \"textposition\": \"auto\", \"type\": \"bar\", \"x\": [3, 8, 11, 4, 10, 6, 9, 5, 12, 7, 2, 1], \"xaxis\": \"x\", \"y\": [45339, 45056, 41413, 40255, 38893, 38661, 38650, 36325, 35504, 27513, 21653, 10868], \"yaxis\": \"y\"}, {\"alignmentgroup\": \"True\", \"hovertemplate\": \"type=Apela\\u00e7\\u00e3o Crime<br>Mes=%{x}<br>count=%{y}<extra></extra>\", \"legendgroup\": \"Apela\\u00e7\\u00e3o Crime\", \"marker\": {\"color\": \"#19d3f3\"}, \"name\": \"Apela\\u00e7\\u00e3o Crime\", \"offsetgroup\": \"Apela\\u00e7\\u00e3o Crime\", \"orientation\": \"v\", \"showlegend\": true, \"textposition\": \"auto\", \"type\": \"bar\", \"x\": [11, 8, 12, 6, 9, 4, 10, 5, 3, 7, 2, 1], \"xaxis\": \"x\", \"y\": [28094, 27576, 26454, 26275, 25349, 24957, 24912, 24564, 24337, 19196, 15025, 8104], \"yaxis\": \"y\"}, {\"alignmentgroup\": \"True\", \"hovertemplate\": \"type=Apela\\u00e7\\u00e3o e Reexame Necess\\u00e1rio<br>Mes=%{x}<br>count=%{y}<extra></extra>\", \"legendgroup\": \"Apela\\u00e7\\u00e3o e Reexame Necess\\u00e1rio\", \"marker\": {\"color\": \"#FF6692\"}, \"name\": \"Apela\\u00e7\\u00e3o e Reexame Necess\\u00e1rio\", \"offsetgroup\": \"Apela\\u00e7\\u00e3o e Reexame Necess\\u00e1rio\", \"orientation\": \"v\", \"showlegend\": true, \"textposition\": \"auto\", \"type\": \"bar\", \"x\": [8, 12, 11, 9, 6, 5, 10, 3, 4, 7, 2, 1], \"xaxis\": \"x\", \"y\": [15819, 15186, 14323, 14290, 14036, 13477, 13409, 13187, 12602, 9269, 7425, 3921], \"yaxis\": \"y\"}, {\"alignmentgroup\": \"True\", \"hovertemplate\": \"type=Habeas Corpus<br>Mes=%{x}<br>count=%{y}<extra></extra>\", \"legendgroup\": \"Habeas Corpus\", \"marker\": {\"color\": \"#B6E880\"}, \"name\": \"Habeas Corpus\", \"offsetgroup\": \"Habeas Corpus\", \"orientation\": \"v\", \"showlegend\": true, \"textposition\": \"auto\", \"type\": \"bar\", \"x\": [3, 8, 12, 6, 11, 10, 9, 5, 4, 7, 2, 1], \"xaxis\": \"x\", \"y\": [13680, 13337, 12662, 12089, 12075, 11929, 11919, 11704, 11547, 10743, 10184, 7779], \"yaxis\": \"y\"}, {\"alignmentgroup\": \"True\", \"hovertemplate\": \"type=Recurso Especial<br>Mes=%{x}<br>count=%{y}<extra></extra>\", \"legendgroup\": \"Recurso Especial\", \"marker\": {\"color\": \"#FF97FF\"}, \"name\": \"Recurso Especial\", \"offsetgroup\": \"Recurso Especial\", \"orientation\": \"v\", \"showlegend\": true, \"textposition\": \"auto\", \"type\": \"bar\", \"x\": [8, 10, 11, 7, 6, 9, 5, 12, 3, 4, 2, 1], \"xaxis\": \"x\", \"y\": [7168, 7154, 7048, 6958, 6898, 6137, 4568, 3786, 3465, 2849, 1716, 1710], \"yaxis\": \"y\"}, {\"alignmentgroup\": \"True\", \"hovertemplate\": \"type=Reexame Necess\\u00e1rio<br>Mes=%{x}<br>count=%{y}<extra></extra>\", \"legendgroup\": \"Reexame Necess\\u00e1rio\", \"marker\": {\"color\": \"#FECB52\"}, \"name\": \"Reexame Necess\\u00e1rio\", \"offsetgroup\": \"Reexame Necess\\u00e1rio\", \"orientation\": \"v\", \"showlegend\": true, \"textposition\": \"auto\", \"type\": \"bar\", \"x\": [8, 6, 9, 10, 5, 12, 11, 3, 4, 7, 2, 1], \"xaxis\": \"x\", \"y\": [5169, 4972, 4649, 4526, 4523, 4250, 4213, 4092, 3762, 3543, 2784, 1499], \"yaxis\": \"y\"}, {\"alignmentgroup\": \"True\", \"hovertemplate\": \"type=Recurso Crime<br>Mes=%{x}<br>count=%{y}<extra></extra>\", \"legendgroup\": \"Recurso Crime\", \"marker\": {\"color\": \"#636efa\"}, \"name\": \"Recurso Crime\", \"offsetgroup\": \"Recurso Crime\", \"orientation\": \"v\", \"showlegend\": true, \"textposition\": \"auto\", \"type\": \"bar\", \"x\": [11, 8, 5, 10, 4, 9, 6, 3, 7, 12, 2, 1], \"xaxis\": \"x\", \"y\": [3835, 3096, 3091, 2945, 2757, 2739, 2705, 2653, 2559, 2149, 1743, 1258], \"yaxis\": \"y\"}, {\"alignmentgroup\": \"True\", \"hovertemplate\": \"type=Recurso em Sentido Estrito<br>Mes=%{x}<br>count=%{y}<extra></extra>\", \"legendgroup\": \"Recurso em Sentido Estrito\", \"marker\": {\"color\": \"#EF553B\"}, \"name\": \"Recurso em Sentido Estrito\", \"offsetgroup\": \"Recurso em Sentido Estrito\", \"orientation\": \"v\", \"showlegend\": true, \"textposition\": \"auto\", \"type\": \"bar\", \"x\": [11, 8, 9, 6, 10, 4, 3, 12, 5, 7, 2, 1], \"xaxis\": \"x\", \"y\": [3322, 3129, 3082, 3006, 2885, 2882, 2878, 2794, 2792, 2321, 1692, 854], \"yaxis\": \"y\"}, {\"alignmentgroup\": \"True\", \"hovertemplate\": \"type=Recurso Extraordin\\u00e1rio<br>Mes=%{x}<br>count=%{y}<extra></extra>\", \"legendgroup\": \"Recurso Extraordin\\u00e1rio\", \"marker\": {\"color\": \"#00cc96\"}, \"name\": \"Recurso Extraordin\\u00e1rio\", \"offsetgroup\": \"Recurso Extraordin\\u00e1rio\", \"orientation\": \"v\", \"showlegend\": true, \"textposition\": \"auto\", \"type\": \"bar\", \"x\": [8, 11, 9, 6, 10, 12, 2, 3, 5, 7, 4, 1], \"xaxis\": \"x\", \"y\": [3252, 3170, 2651, 2496, 2466, 1766, 1593, 1576, 1562, 1423, 1196, 396], \"yaxis\": \"y\"}, {\"alignmentgroup\": \"True\", \"hovertemplate\": \"type=Embargos Infringentes<br>Mes=%{x}<br>count=%{y}<extra></extra>\", \"legendgroup\": \"Embargos Infringentes\", \"marker\": {\"color\": \"#ab63fa\"}, \"name\": \"Embargos Infringentes\", \"offsetgroup\": \"Embargos Infringentes\", \"orientation\": \"v\", \"showlegend\": true, \"textposition\": \"auto\", \"type\": \"bar\", \"x\": [3, 12, 4, 11, 10, 5, 6, 8, 9, 7, 2, 1], \"xaxis\": \"x\", \"y\": [3124, 2922, 2605, 2373, 2301, 2255, 2208, 2186, 2127, 1155, 228, 72], \"yaxis\": \"y\"}, {\"alignmentgroup\": \"True\", \"hovertemplate\": \"type=Agravo Regimental<br>Mes=%{x}<br>count=%{y}<extra></extra>\", \"legendgroup\": \"Agravo Regimental\", \"marker\": {\"color\": \"#FFA15A\"}, \"name\": \"Agravo Regimental\", \"offsetgroup\": \"Agravo Regimental\", \"orientation\": \"v\", \"showlegend\": true, \"textposition\": \"auto\", \"type\": \"bar\", \"x\": [3, 8, 4, 11, 12, 10, 9, 6, 5, 7, 2, 1], \"xaxis\": \"x\", \"y\": [3116, 3050, 2695, 2661, 2564, 2376, 2367, 2362, 2302, 1599, 1189, 517], \"yaxis\": \"y\"}, {\"alignmentgroup\": \"True\", \"hovertemplate\": \"type=Conflito de Compet\\u00eancia<br>Mes=%{x}<br>count=%{y}<extra></extra>\", \"legendgroup\": \"Conflito de Compet\\u00eancia\", \"marker\": {\"color\": \"#19d3f3\"}, \"name\": \"Conflito de Compet\\u00eancia\", \"offsetgroup\": \"Conflito de Compet\\u00eancia\", \"orientation\": \"v\", \"showlegend\": true, \"textposition\": \"auto\", \"type\": \"bar\", \"x\": [8, 12, 11, 3, 9, 10, 5, 6, 4, 7, 2, 1], \"xaxis\": \"x\", \"y\": [3021, 2928, 2854, 2698, 2638, 2629, 2503, 2434, 2221, 1893, 1527, 1364], \"yaxis\": \"y\"}, {\"alignmentgroup\": \"True\", \"hovertemplate\": \"type=Mandado de Seguran\\u00e7a<br>Mes=%{x}<br>count=%{y}<extra></extra>\", \"legendgroup\": \"Mandado de Seguran\\u00e7a\", \"marker\": {\"color\": \"#FF6692\"}, \"name\": \"Mandado de Seguran\\u00e7a\", \"offsetgroup\": \"Mandado de Seguran\\u00e7a\", \"orientation\": \"v\", \"showlegend\": true, \"textposition\": \"auto\", \"type\": \"bar\", \"x\": [11, 8, 12, 10, 6, 3, 4, 9, 7, 5, 2, 1], \"xaxis\": \"x\", \"y\": [2504, 2263, 2219, 2183, 1949, 1878, 1873, 1858, 1816, 1808, 1026, 724], \"yaxis\": \"y\"}, {\"alignmentgroup\": \"True\", \"hovertemplate\": \"type=Recurso Especial e ou Extraordin\\u00e1rio<br>Mes=%{x}<br>count=%{y}<extra></extra>\", \"legendgroup\": \"Recurso Especial e ou Extraordin\\u00e1rio\", \"marker\": {\"color\": \"#B6E880\"}, \"name\": \"Recurso Especial e ou Extraordin\\u00e1rio\", \"offsetgroup\": \"Recurso Especial e ou Extraordin\\u00e1rio\", \"orientation\": \"v\", \"showlegend\": true, \"textposition\": \"auto\", \"type\": \"bar\", \"x\": [8, 10, 7, 9, 11, 6, 12, 5, 4, 3, 2, 1], \"xaxis\": \"x\", \"y\": [2232, 1950, 1792, 1744, 1679, 1550, 1260, 970, 769, 656, 503, 384], \"yaxis\": \"y\"}, {\"alignmentgroup\": \"True\", \"hovertemplate\": \"type=Embargos Infringentes e de Nulidade<br>Mes=%{x}<br>count=%{y}<extra></extra>\", \"legendgroup\": \"Embargos Infringentes e de Nulidade\", \"marker\": {\"color\": \"#FF97FF\"}, \"name\": \"Embargos Infringentes e de Nulidade\", \"offsetgroup\": \"Embargos Infringentes e de Nulidade\", \"orientation\": \"v\", \"showlegend\": true, \"textposition\": \"auto\", \"type\": \"bar\", \"x\": [3, 11, 4, 8, 9, 12, 7, 5, 10, 6, 2, 1], \"xaxis\": \"x\", \"y\": [1835, 1758, 1408, 1228, 1197, 956, 953, 945, 874, 838, 115, 80], \"yaxis\": \"y\"}, {\"alignmentgroup\": \"True\", \"hovertemplate\": \"type=Agravo em Execu\\u00e7\\u00e3o<br>Mes=%{x}<br>count=%{y}<extra></extra>\", \"legendgroup\": \"Agravo em Execu\\u00e7\\u00e3o\", \"marker\": {\"color\": \"#FECB52\"}, \"name\": \"Agravo em Execu\\u00e7\\u00e3o\", \"offsetgroup\": \"Agravo em Execu\\u00e7\\u00e3o\", \"orientation\": \"v\", \"showlegend\": true, \"textposition\": \"auto\", \"type\": \"bar\", \"x\": [3, 10, 12, 9, 4, 8, 6, 11, 2, 5, 1, 7], \"xaxis\": \"x\", \"y\": [1261, 701, 667, 627, 621, 578, 548, 522, 519, 468, 442, 290], \"yaxis\": \"y\"}, {\"alignmentgroup\": \"True\", \"hovertemplate\": \"type=A\\u00e7\\u00e3o Rescis\\u00f3ria<br>Mes=%{x}<br>count=%{y}<extra></extra>\", \"legendgroup\": \"A\\u00e7\\u00e3o Rescis\\u00f3ria\", \"marker\": {\"color\": \"#636efa\"}, \"name\": \"A\\u00e7\\u00e3o Rescis\\u00f3ria\", \"offsetgroup\": \"A\\u00e7\\u00e3o Rescis\\u00f3ria\", \"orientation\": \"v\", \"showlegend\": true, \"textposition\": \"auto\", \"type\": \"bar\", \"x\": [12, 11, 4, 6, 3, 5, 8, 9, 10, 7, 2, 1], \"xaxis\": \"x\", \"y\": [820, 753, 742, 731, 713, 712, 686, 622, 595, 478, 253, 139], \"yaxis\": \"y\"}, {\"alignmentgroup\": \"True\", \"hovertemplate\": \"type=Revis\\u00e3o Criminal<br>Mes=%{x}<br>count=%{y}<extra></extra>\", \"legendgroup\": \"Revis\\u00e3o Criminal\", \"marker\": {\"color\": \"#EF553B\"}, \"name\": \"Revis\\u00e3o Criminal\", \"offsetgroup\": \"Revis\\u00e3o Criminal\", \"orientation\": \"v\", \"showlegend\": true, \"textposition\": \"auto\", \"type\": \"bar\", \"x\": [3, 11, 4, 12, 8, 5, 10, 6, 9, 7, 2, 1], \"xaxis\": \"x\", \"y\": [809, 669, 656, 590, 579, 503, 459, 450, 441, 383, 127, 86], \"yaxis\": \"y\"}, {\"alignmentgroup\": \"True\", \"hovertemplate\": \"type=Agravo Interno<br>Mes=%{x}<br>count=%{y}<extra></extra>\", \"legendgroup\": \"Agravo Interno\", \"marker\": {\"color\": \"#00cc96\"}, \"name\": \"Agravo Interno\", \"offsetgroup\": \"Agravo Interno\", \"orientation\": \"v\", \"showlegend\": true, \"textposition\": \"auto\", \"type\": \"bar\", \"x\": [2, 4, 5, 11, 8, 10, 9, 3, 6, 12, 7, 1], \"xaxis\": \"x\", \"y\": [726, 554, 517, 514, 479, 478, 475, 468, 463, 433, 173, 47], \"yaxis\": \"y\"}, {\"alignmentgroup\": \"True\", \"hovertemplate\": \"type=Correi\\u00e7\\u00e3o Parcial<br>Mes=%{x}<br>count=%{y}<extra></extra>\", \"legendgroup\": \"Correi\\u00e7\\u00e3o Parcial\", \"marker\": {\"color\": \"#ab63fa\"}, \"name\": \"Correi\\u00e7\\u00e3o Parcial\", \"offsetgroup\": \"Correi\\u00e7\\u00e3o Parcial\", \"orientation\": \"v\", \"showlegend\": true, \"textposition\": \"auto\", \"type\": \"bar\", \"x\": [3, 12, 8, 10, 11, 9, 5, 6, 4, 7, 2, 1], \"xaxis\": \"x\", \"y\": [681, 616, 615, 599, 565, 558, 525, 519, 505, 425, 406, 218], \"yaxis\": \"y\"}, {\"alignmentgroup\": \"True\", \"hovertemplate\": \"type=Mandado de Injun\\u00e7\\u00e3o<br>Mes=%{x}<br>count=%{y}<extra></extra>\", \"legendgroup\": \"Mandado de Injun\\u00e7\\u00e3o\", \"marker\": {\"color\": \"#FFA15A\"}, \"name\": \"Mandado de Injun\\u00e7\\u00e3o\", \"offsetgroup\": \"Mandado de Injun\\u00e7\\u00e3o\", \"orientation\": \"v\", \"showlegend\": true, \"textposition\": \"auto\", \"type\": \"bar\", \"x\": [10, 11, 12, 9, 5, 8, 1, 4, 3, 6, 2, 7], \"xaxis\": \"x\", \"y\": [454, 439, 318, 90, 90, 86, 83, 76, 46, 41, 37, 29], \"yaxis\": \"y\"}, {\"alignmentgroup\": \"True\", \"hovertemplate\": \"type=Conflito de Jurisdi\\u00e7\\u00e3o<br>Mes=%{x}<br>count=%{y}<extra></extra>\", \"legendgroup\": \"Conflito de Jurisdi\\u00e7\\u00e3o\", \"marker\": {\"color\": \"#19d3f3\"}, \"name\": \"Conflito de Jurisdi\\u00e7\\u00e3o\", \"offsetgroup\": \"Conflito de Jurisdi\\u00e7\\u00e3o\", \"orientation\": \"v\", \"showlegend\": true, \"textposition\": \"auto\", \"type\": \"bar\", \"x\": [11, 8, 12, 10, 6, 3, 9, 7, 5, 4, 2, 1], \"xaxis\": \"x\", \"y\": [433, 416, 403, 395, 331, 319, 317, 294, 276, 266, 211, 132], \"yaxis\": \"y\"}, {\"alignmentgroup\": \"True\", \"hovertemplate\": \"type=A\\u00e7\\u00e3o Direta de Inconstitucionalidade<br>Mes=%{x}<br>count=%{y}<extra></extra>\", \"legendgroup\": \"A\\u00e7\\u00e3o Direta de Inconstitucionalidade\", \"marker\": {\"color\": \"#FF6692\"}, \"name\": \"A\\u00e7\\u00e3o Direta de Inconstitucionalidade\", \"offsetgroup\": \"A\\u00e7\\u00e3o Direta de Inconstitucionalidade\", \"orientation\": \"v\", \"showlegend\": true, \"textposition\": \"auto\", \"type\": \"bar\", \"x\": [12, 6, 11, 8, 10, 5, 4, 9, 3, 7, 2, 1], \"xaxis\": \"x\", \"y\": [309, 274, 259, 255, 248, 241, 233, 217, 211, 157, 98, 82], \"yaxis\": \"y\"}, {\"alignmentgroup\": \"True\", \"hovertemplate\": \"type=Exce\\u00e7\\u00e3o de Suspei\\u00e7\\u00e3o<br>Mes=%{x}<br>count=%{y}<extra></extra>\", \"legendgroup\": \"Exce\\u00e7\\u00e3o de Suspei\\u00e7\\u00e3o\", \"marker\": {\"color\": \"#B6E880\"}, \"name\": \"Exce\\u00e7\\u00e3o de Suspei\\u00e7\\u00e3o\", \"offsetgroup\": \"Exce\\u00e7\\u00e3o de Suspei\\u00e7\\u00e3o\", \"orientation\": \"v\", \"showlegend\": true, \"textposition\": \"auto\", \"type\": \"bar\", \"x\": [4, 6, 9, 8, 3, 5, 11, 10, 12, 7, 2, 1], \"xaxis\": \"x\", \"y\": [124, 124, 119, 119, 115, 114, 109, 105, 84, 78, 51, 27], \"yaxis\": \"y\"}, {\"alignmentgroup\": \"True\", \"hovertemplate\": \"type=Representa\\u00e7\\u00e3o<br>Mes=%{x}<br>count=%{y}<extra></extra>\", \"legendgroup\": \"Representa\\u00e7\\u00e3o\", \"marker\": {\"color\": \"#FF97FF\"}, \"name\": \"Representa\\u00e7\\u00e3o\", \"offsetgroup\": \"Representa\\u00e7\\u00e3o\", \"orientation\": \"v\", \"showlegend\": true, \"textposition\": \"auto\", \"type\": \"bar\", \"x\": [10, 12, 11, 2, 3, 5, 6, 4, 8, 9, 1, 7], \"xaxis\": \"x\", \"y\": [122, 77, 74, 57, 31, 23, 19, 16, 13, 10, 6, 4], \"yaxis\": \"y\"}, {\"alignmentgroup\": \"True\", \"hovertemplate\": \"type=Reclama\\u00e7\\u00e3o<br>Mes=%{x}<br>count=%{y}<extra></extra>\", \"legendgroup\": \"Reclama\\u00e7\\u00e3o\", \"marker\": {\"color\": \"#FECB52\"}, \"name\": \"Reclama\\u00e7\\u00e3o\", \"offsetgroup\": \"Reclama\\u00e7\\u00e3o\", \"orientation\": \"v\", \"showlegend\": true, \"textposition\": \"auto\", \"type\": \"bar\", \"x\": [10, 11, 6, 5, 12, 4, 8, 9, 3, 7, 2, 1], \"xaxis\": \"x\", \"y\": [118, 59, 55, 43, 41, 35, 35, 34, 26, 17, 13, 1], \"yaxis\": \"y\"}, {\"alignmentgroup\": \"True\", \"hovertemplate\": \"type=Processo Crime<br>Mes=%{x}<br>count=%{y}<extra></extra>\", \"legendgroup\": \"Processo Crime\", \"marker\": {\"color\": \"#636efa\"}, \"name\": \"Processo Crime\", \"offsetgroup\": \"Processo Crime\", \"orientation\": \"v\", \"showlegend\": true, \"textposition\": \"auto\", \"type\": \"bar\", \"x\": [6, 9, 10, 5, 11, 3, 12, 8, 4, 2, 7, 1], \"xaxis\": \"x\", \"y\": [98, 96, 91, 86, 74, 69, 60, 59, 55, 52, 35, 9], \"yaxis\": \"y\"}, {\"alignmentgroup\": \"True\", \"hovertemplate\": \"type=A\\u00e7\\u00e3o Civil P\\u00fablica<br>Mes=%{x}<br>count=%{y}<extra></extra>\", \"legendgroup\": \"A\\u00e7\\u00e3o Civil P\\u00fablica\", \"marker\": {\"color\": \"#EF553B\"}, \"name\": \"A\\u00e7\\u00e3o Civil P\\u00fablica\", \"offsetgroup\": \"A\\u00e7\\u00e3o Civil P\\u00fablica\", \"orientation\": \"v\", \"showlegend\": true, \"textposition\": \"auto\", \"type\": \"bar\", \"x\": [10, 11, 9, 8, 6, 4, 5, 12, 2, 3], \"xaxis\": \"x\", \"y\": [83, 62, 40, 25, 21, 15, 11, 2, 2, 1], \"yaxis\": \"y\"}, {\"alignmentgroup\": \"True\", \"hovertemplate\": \"type=Medida Cautelar<br>Mes=%{x}<br>count=%{y}<extra></extra>\", \"legendgroup\": \"Medida Cautelar\", \"marker\": {\"color\": \"#00cc96\"}, \"name\": \"Medida Cautelar\", \"offsetgroup\": \"Medida Cautelar\", \"orientation\": \"v\", \"showlegend\": true, \"textposition\": \"auto\", \"type\": \"bar\", \"x\": [6, 10, 3, 9, 12, 8, 7, 5, 4, 11, 2, 1], \"xaxis\": \"x\", \"y\": [78, 68, 61, 55, 54, 50, 34, 33, 32, 32, 29, 10], \"yaxis\": \"y\"}, {\"alignmentgroup\": \"True\", \"hovertemplate\": \"type=Prefeito<br>Mes=%{x}<br>count=%{y}<extra></extra>\", \"legendgroup\": \"Prefeito\", \"marker\": {\"color\": \"#ab63fa\"}, \"name\": \"Prefeito\", \"offsetgroup\": \"Prefeito\", \"orientation\": \"v\", \"showlegend\": true, \"textposition\": \"auto\", \"type\": \"bar\", \"x\": [12, 3, 4, 5, 9, 6, 2, 11, 10, 7], \"xaxis\": \"x\", \"y\": [78, 40, 29, 26, 23, 17, 15, 11, 4, 2], \"yaxis\": \"y\"}, {\"alignmentgroup\": \"True\", \"hovertemplate\": \"type=Peti\\u00e7\\u00e3o<br>Mes=%{x}<br>count=%{y}<extra></extra>\", \"legendgroup\": \"Peti\\u00e7\\u00e3o\", \"marker\": {\"color\": \"#FFA15A\"}, \"name\": \"Peti\\u00e7\\u00e3o\", \"offsetgroup\": \"Peti\\u00e7\\u00e3o\", \"orientation\": \"v\", \"showlegend\": true, \"textposition\": \"auto\", \"type\": \"bar\", \"x\": [11, 8, 10, 3, 7, 5, 9, 4, 12, 6, 2, 1], \"xaxis\": \"x\", \"y\": [75, 75, 71, 62, 61, 55, 54, 49, 42, 42, 35, 33], \"yaxis\": \"y\"}, {\"alignmentgroup\": \"True\", \"hovertemplate\": \"type=Recurso de Of\\u00edcio<br>Mes=%{x}<br>count=%{y}<extra></extra>\", \"legendgroup\": \"Recurso de Of\\u00edcio\", \"marker\": {\"color\": \"#19d3f3\"}, \"name\": \"Recurso de Of\\u00edcio\", \"offsetgroup\": \"Recurso de Of\\u00edcio\", \"orientation\": \"v\", \"showlegend\": true, \"textposition\": \"auto\", \"type\": \"bar\", \"x\": [11, 4, 8, 10, 6, 5, 9, 12, 3, 7, 2, 1], \"xaxis\": \"x\", \"y\": [73, 72, 69, 64, 61, 61, 60, 53, 45, 40, 36, 13], \"yaxis\": \"y\"}, {\"alignmentgroup\": \"True\", \"hovertemplate\": \"type=Medida Cautelar Inominada<br>Mes=%{x}<br>count=%{y}<extra></extra>\", \"legendgroup\": \"Medida Cautelar Inominada\", \"marker\": {\"color\": \"#FF6692\"}, \"name\": \"Medida Cautelar Inominada\", \"offsetgroup\": \"Medida Cautelar Inominada\", \"orientation\": \"v\", \"showlegend\": true, \"textposition\": \"auto\", \"type\": \"bar\", \"x\": [12, 9, 6, 11, 10, 8, 3, 5, 4, 7, 2, 1], \"xaxis\": \"x\", \"y\": [63, 60, 59, 58, 58, 53, 48, 45, 43, 26, 15, 14], \"yaxis\": \"y\"}, {\"alignmentgroup\": \"True\", \"hovertemplate\": \"type=Cautelar Inominada<br>Mes=%{x}<br>count=%{y}<extra></extra>\", \"legendgroup\": \"Cautelar Inominada\", \"marker\": {\"color\": \"#B6E880\"}, \"name\": \"Cautelar Inominada\", \"offsetgroup\": \"Cautelar Inominada\", \"orientation\": \"v\", \"showlegend\": true, \"textposition\": \"auto\", \"type\": \"bar\", \"x\": [7, 8, 6, 3, 4, 9, 11, 5, 10, 12, 2, 1], \"xaxis\": \"x\", \"y\": [63, 59, 58, 49, 49, 49, 43, 41, 36, 34, 26, 22], \"yaxis\": \"y\"}, {\"alignmentgroup\": \"True\", \"hovertemplate\": \"type=Agravo Embargos Infringentes<br>Mes=%{x}<br>count=%{y}<extra></extra>\", \"legendgroup\": \"Agravo Embargos Infringentes\", \"marker\": {\"color\": \"#FF97FF\"}, \"name\": \"Agravo Embargos Infringentes\", \"offsetgroup\": \"Agravo Embargos Infringentes\", \"orientation\": \"v\", \"showlegend\": true, \"textposition\": \"auto\", \"type\": \"bar\", \"x\": [11, 9, 12, 6, 10, 3, 8, 4, 7, 5, 2, 1], \"xaxis\": \"x\", \"y\": [56, 55, 34, 31, 24, 23, 23, 21, 14, 11, 3, 1], \"yaxis\": \"y\"}, {\"alignmentgroup\": \"True\", \"hovertemplate\": \"type=A\\u00e7\\u00e3o Penal<br>Mes=%{x}<br>count=%{y}<extra></extra>\", \"legendgroup\": \"A\\u00e7\\u00e3o Penal\", \"marker\": {\"color\": \"#FECB52\"}, \"name\": \"A\\u00e7\\u00e3o Penal\", \"offsetgroup\": \"A\\u00e7\\u00e3o Penal\", \"orientation\": \"v\", \"showlegend\": true, \"textposition\": \"auto\", \"type\": \"bar\", \"x\": [9, 8, 3, 11, 5, 4, 10, 7, 12, 6, 2, 1], \"xaxis\": \"x\", \"y\": [54, 39, 37, 36, 30, 29, 28, 28, 27, 26, 15, 14], \"yaxis\": \"y\"}, {\"alignmentgroup\": \"True\", \"hovertemplate\": \"type=Outros Feitos<br>Mes=%{x}<br>count=%{y}<extra></extra>\", \"legendgroup\": \"Outros Feitos\", \"marker\": {\"color\": \"#636efa\"}, \"name\": \"Outros Feitos\", \"offsetgroup\": \"Outros Feitos\", \"orientation\": \"v\", \"showlegend\": true, \"textposition\": \"auto\", \"type\": \"bar\", \"x\": [6, 3, 4, 5, 12, 8, 11, 10, 9, 7, 2, 1], \"xaxis\": \"x\", \"y\": [50, 37, 33, 32, 29, 22, 22, 18, 18, 13, 10, 3], \"yaxis\": \"y\"}, {\"alignmentgroup\": \"True\", \"hovertemplate\": \"type=Mandado de Seguran\\u00e7a Crime<br>Mes=%{x}<br>count=%{y}<extra></extra>\", \"legendgroup\": \"Mandado de Seguran\\u00e7a Crime\", \"marker\": {\"color\": \"#EF553B\"}, \"name\": \"Mandado de Seguran\\u00e7a Crime\", \"offsetgroup\": \"Mandado de Seguran\\u00e7a Crime\", \"orientation\": \"v\", \"showlegend\": true, \"textposition\": \"auto\", \"type\": \"bar\", \"x\": [10, 8, 11, 7, 3, 12, 4, 2, 5, 9, 6, 1], \"xaxis\": \"x\", \"y\": [45, 33, 30, 30, 28, 28, 27, 24, 23, 20, 12, 10], \"yaxis\": \"y\"}, {\"alignmentgroup\": \"True\", \"hovertemplate\": \"type=Incidente de Uniformizacao Jurisprudencia<br>Mes=%{x}<br>count=%{y}<extra></extra>\", \"legendgroup\": \"Incidente de Uniformizacao Jurisprudencia\", \"marker\": {\"color\": \"#00cc96\"}, \"name\": \"Incidente de Uniformizacao Jurisprudencia\", \"offsetgroup\": \"Incidente de Uniformizacao Jurisprudencia\", \"orientation\": \"v\", \"showlegend\": true, \"textposition\": \"auto\", \"type\": \"bar\", \"x\": [8, 11, 9, 3, 10, 7, 5, 4, 6, 12, 2], \"xaxis\": \"x\", \"y\": [42, 30, 29, 28, 21, 19, 18, 16, 15, 14, 9], \"yaxis\": \"y\"}, {\"alignmentgroup\": \"True\", \"hovertemplate\": \"type=Agravo Inominado<br>Mes=%{x}<br>count=%{y}<extra></extra>\", \"legendgroup\": \"Agravo Inominado\", \"marker\": {\"color\": \"#ab63fa\"}, \"name\": \"Agravo Inominado\", \"offsetgroup\": \"Agravo Inominado\", \"orientation\": \"v\", \"showlegend\": true, \"textposition\": \"auto\", \"type\": \"bar\", \"x\": [3, 8, 9, 11, 10, 12, 7, 1, 6, 4, 5, 2], \"xaxis\": \"x\", \"y\": [37, 31, 29, 21, 20, 13, 11, 10, 5, 5, 2, 1], \"yaxis\": \"y\"}, {\"alignmentgroup\": \"True\", \"hovertemplate\": \"type=Carta Testemunh\\u00e1vel<br>Mes=%{x}<br>count=%{y}<extra></extra>\", \"legendgroup\": \"Carta Testemunh\\u00e1vel\", \"marker\": {\"color\": \"#FFA15A\"}, \"name\": \"Carta Testemunh\\u00e1vel\", \"offsetgroup\": \"Carta Testemunh\\u00e1vel\", \"orientation\": \"v\", \"showlegend\": true, \"textposition\": \"auto\", \"type\": \"bar\", \"x\": [12, 8, 11, 9, 4, 3, 6, 7, 10, 2, 5, 1], \"xaxis\": \"x\", \"y\": [35, 30, 26, 23, 20, 20, 19, 17, 16, 14, 13, 10], \"yaxis\": \"y\"}, {\"alignmentgroup\": \"True\", \"hovertemplate\": \"type=Representa\\u00e7\\u00e3o Criminal<br>Mes=%{x}<br>count=%{y}<extra></extra>\", \"legendgroup\": \"Representa\\u00e7\\u00e3o Criminal\", \"marker\": {\"color\": \"#19d3f3\"}, \"name\": \"Representa\\u00e7\\u00e3o Criminal\", \"offsetgroup\": \"Representa\\u00e7\\u00e3o Criminal\", \"orientation\": \"v\", \"showlegend\": true, \"textposition\": \"auto\", \"type\": \"bar\", \"x\": [11, 9, 5, 6, 7, 8, 10, 4, 3, 12, 2, 1], \"xaxis\": \"x\", \"y\": [29, 28, 24, 23, 20, 20, 19, 13, 13, 12, 11, 7], \"yaxis\": \"y\"}, {\"alignmentgroup\": \"True\", \"hovertemplate\": \"type=Impugna\\u00e7\\u00e3o ao Valor da Causa<br>Mes=%{x}<br>count=%{y}<extra></extra>\", \"legendgroup\": \"Impugna\\u00e7\\u00e3o ao Valor da Causa\", \"marker\": {\"color\": \"#FF6692\"}, \"name\": \"Impugna\\u00e7\\u00e3o ao Valor da Causa\", \"offsetgroup\": \"Impugna\\u00e7\\u00e3o ao Valor da Causa\", \"orientation\": \"v\", \"showlegend\": true, \"textposition\": \"auto\", \"type\": \"bar\", \"x\": [12, 10, 4, 8, 3, 5, 11, 6, 9, 7, 2, 1], \"xaxis\": \"x\", \"y\": [29, 26, 22, 21, 21, 20, 18, 14, 13, 11, 2, 1], \"yaxis\": \"y\"}, {\"alignmentgroup\": \"True\", \"hovertemplate\": \"type=Restaura\\u00e7\\u00e3o de Autos<br>Mes=%{x}<br>count=%{y}<extra></extra>\", \"legendgroup\": \"Restaura\\u00e7\\u00e3o de Autos\", \"marker\": {\"color\": \"#B6E880\"}, \"name\": \"Restaura\\u00e7\\u00e3o de Autos\", \"offsetgroup\": \"Restaura\\u00e7\\u00e3o de Autos\", \"orientation\": \"v\", \"showlegend\": true, \"textposition\": \"auto\", \"type\": \"bar\", \"x\": [11, 10, 5, 4, 8, 9, 7, 6, 3, 12, 1, 2], \"xaxis\": \"x\", \"y\": [27, 22, 21, 17, 17, 16, 13, 12, 12, 12, 6, 6], \"yaxis\": \"y\"}, {\"alignmentgroup\": \"True\", \"hovertemplate\": \"type=Incidente de Inconstitucionalidade<br>Mes=%{x}<br>count=%{y}<extra></extra>\", \"legendgroup\": \"Incidente de Inconstitucionalidade\", \"marker\": {\"color\": \"#FF97FF\"}, \"name\": \"Incidente de Inconstitucionalidade\", \"offsetgroup\": \"Incidente de Inconstitucionalidade\", \"orientation\": \"v\", \"showlegend\": true, \"textposition\": \"auto\", \"type\": \"bar\", \"x\": [6, 5, 4, 9, 8, 10, 12, 11, 7, 1, 3, 2], \"xaxis\": \"x\", \"y\": [25, 24, 24, 23, 18, 17, 15, 13, 11, 8, 5, 5], \"yaxis\": \"y\"}, {\"alignmentgroup\": \"True\", \"hovertemplate\": \"type=Desaforamento<br>Mes=%{x}<br>count=%{y}<extra></extra>\", \"legendgroup\": \"Desaforamento\", \"marker\": {\"color\": \"#FECB52\"}, \"name\": \"Desaforamento\", \"offsetgroup\": \"Desaforamento\", \"orientation\": \"v\", \"showlegend\": true, \"textposition\": \"auto\", \"type\": \"bar\", \"x\": [10, 9, 12, 8, 4, 7, 6, 5, 11, 3, 2, 1], \"xaxis\": \"x\", \"y\": [20, 19, 16, 16, 16, 14, 13, 12, 10, 9, 6, 5], \"yaxis\": \"y\"}, {\"alignmentgroup\": \"True\", \"hovertemplate\": \"type=Termo Circunstanciado<br>Mes=%{x}<br>count=%{y}<extra></extra>\", \"legendgroup\": \"Termo Circunstanciado\", \"marker\": {\"color\": \"#636efa\"}, \"name\": \"Termo Circunstanciado\", \"offsetgroup\": \"Termo Circunstanciado\", \"orientation\": \"v\", \"showlegend\": true, \"textposition\": \"auto\", \"type\": \"bar\", \"x\": [8, 11, 6, 4, 9, 2, 3, 7, 12, 10, 5, 1], \"xaxis\": \"x\", \"y\": [19, 16, 10, 8, 8, 7, 7, 7, 7, 7, 5, 3], \"yaxis\": \"y\"}, {\"alignmentgroup\": \"True\", \"hovertemplate\": \"type=Suspen\\u00e7\\u00e3o de Liminar ou Antecipa\\u00e7\\u00e3o de Tutela<br>Mes=%{x}<br>count=%{y}<extra></extra>\", \"legendgroup\": \"Suspen\\u00e7\\u00e3o de Liminar ou Antecipa\\u00e7\\u00e3o de Tutela\", \"marker\": {\"color\": \"#EF553B\"}, \"name\": \"Suspen\\u00e7\\u00e3o de Liminar ou Antecipa\\u00e7\\u00e3o de Tutela\", \"offsetgroup\": \"Suspen\\u00e7\\u00e3o de Liminar ou Antecipa\\u00e7\\u00e3o de Tutela\", \"orientation\": \"v\", \"showlegend\": true, \"textposition\": \"auto\", \"type\": \"bar\", \"x\": [5, 8, 3, 1, 6, 12, 2, 10, 7, 11, 4, 9], \"xaxis\": \"x\", \"y\": [16, 13, 10, 9, 7, 7, 5, 4, 3, 3, 2, 1], \"yaxis\": \"y\"}, {\"alignmentgroup\": \"True\", \"hovertemplate\": \"type=Impugna\\u00e7\\u00e3o \\u00e0 Assist\\u00eancia Judici\\u00e1ria<br>Mes=%{x}<br>count=%{y}<extra></extra>\", \"legendgroup\": \"Impugna\\u00e7\\u00e3o \\u00e0 Assist\\u00eancia Judici\\u00e1ria\", \"marker\": {\"color\": \"#00cc96\"}, \"name\": \"Impugna\\u00e7\\u00e3o \\u00e0 Assist\\u00eancia Judici\\u00e1ria\", \"offsetgroup\": \"Impugna\\u00e7\\u00e3o \\u00e0 Assist\\u00eancia Judici\\u00e1ria\", \"orientation\": \"v\", \"showlegend\": true, \"textposition\": \"auto\", \"type\": \"bar\", \"x\": [9, 3, 8, 4, 11, 12, 6, 10, 5, 7, 2, 1], \"xaxis\": \"x\", \"y\": [13, 11, 11, 11, 10, 10, 8, 7, 7, 4, 3, 1], \"yaxis\": \"y\"}, {\"alignmentgroup\": \"True\", \"hovertemplate\": \"type=Incidente de Resolucao de Demandas Repetitiva<br>Mes=%{x}<br>count=%{y}<extra></extra>\", \"legendgroup\": \"Incidente de Resolucao de Demandas Repetitiva\", \"marker\": {\"color\": \"#ab63fa\"}, \"name\": \"Incidente de Resolucao de Demandas Repetitiva\", \"offsetgroup\": \"Incidente de Resolucao de Demandas Repetitiva\", \"orientation\": \"v\", \"showlegend\": true, \"textposition\": \"auto\", \"type\": \"bar\", \"x\": [10, 9, 11, 8, 5, 3, 4, 6, 12], \"xaxis\": \"x\", \"y\": [12, 7, 5, 5, 3, 3, 2, 2, 2], \"yaxis\": \"y\"}, {\"alignmentgroup\": \"True\", \"hovertemplate\": \"type=Inqu\\u00e9rito Policial<br>Mes=%{x}<br>count=%{y}<extra></extra>\", \"legendgroup\": \"Inqu\\u00e9rito Policial\", \"marker\": {\"color\": \"#FFA15A\"}, \"name\": \"Inqu\\u00e9rito Policial\", \"offsetgroup\": \"Inqu\\u00e9rito Policial\", \"orientation\": \"v\", \"showlegend\": true, \"textposition\": \"auto\", \"type\": \"bar\", \"x\": [7, 11, 4, 9, 6, 8, 10, 3, 5, 2, 12], \"xaxis\": \"x\", \"y\": [11, 10, 9, 8, 8, 7, 6, 6, 4, 4, 3], \"yaxis\": \"y\"}, {\"alignmentgroup\": \"True\", \"hovertemplate\": \"type=Uniformiza\\u00e7\\u00e3o de Jurisprud\\u00eancia<br>Mes=%{x}<br>count=%{y}<extra></extra>\", \"legendgroup\": \"Uniformiza\\u00e7\\u00e3o de Jurisprud\\u00eancia\", \"marker\": {\"color\": \"#19d3f3\"}, \"name\": \"Uniformiza\\u00e7\\u00e3o de Jurisprud\\u00eancia\", \"offsetgroup\": \"Uniformiza\\u00e7\\u00e3o de Jurisprud\\u00eancia\", \"orientation\": \"v\", \"showlegend\": true, \"textposition\": \"auto\", \"type\": \"bar\", \"x\": [4, 12, 3, 9, 10, 11, 7, 6, 5, 8, 2], \"xaxis\": \"x\", \"y\": [10, 10, 9, 9, 8, 7, 6, 6, 5, 3, 1], \"yaxis\": \"y\"}, {\"alignmentgroup\": \"True\", \"hovertemplate\": \"type=Queixa<br>Mes=%{x}<br>count=%{y}<extra></extra>\", \"legendgroup\": \"Queixa\", \"marker\": {\"color\": \"#FF6692\"}, \"name\": \"Queixa\", \"offsetgroup\": \"Queixa\", \"orientation\": \"v\", \"showlegend\": true, \"textposition\": \"auto\", \"type\": \"bar\", \"x\": [4, 10, 5, 11, 6, 9, 12, 7, 2, 3, 8, 1], \"xaxis\": \"x\", \"y\": [10, 9, 8, 7, 5, 5, 5, 5, 4, 3, 3, 2], \"yaxis\": \"y\"}, {\"alignmentgroup\": \"True\", \"hovertemplate\": \"type=Outros C\\u00edveis<br>Mes=%{x}<br>count=%{y}<extra></extra>\", \"legendgroup\": \"Outros C\\u00edveis\", \"marker\": {\"color\": \"#B6E880\"}, \"name\": \"Outros C\\u00edveis\", \"offsetgroup\": \"Outros C\\u00edveis\", \"orientation\": \"v\", \"showlegend\": true, \"textposition\": \"auto\", \"type\": \"bar\", \"x\": [6, 4, 3, 9, 8, 7, 12, 5, 10], \"xaxis\": \"x\", \"y\": [9, 9, 6, 4, 4, 4, 2, 2, 1], \"yaxis\": \"y\"}, {\"alignmentgroup\": \"True\", \"hovertemplate\": \"type=Recurso Oficioso em Sentido Estrito<br>Mes=%{x}<br>count=%{y}<extra></extra>\", \"legendgroup\": \"Recurso Oficioso em Sentido Estrito\", \"marker\": {\"color\": \"#FF97FF\"}, \"name\": \"Recurso Oficioso em Sentido Estrito\", \"offsetgroup\": \"Recurso Oficioso em Sentido Estrito\", \"orientation\": \"v\", \"showlegend\": true, \"textposition\": \"auto\", \"type\": \"bar\", \"x\": [4, 6, 10, 9, 11, 5, 3, 2, 12, 1, 7], \"xaxis\": \"x\", \"y\": [8, 7, 7, 6, 4, 4, 4, 3, 2, 1, 1], \"yaxis\": \"y\"}, {\"alignmentgroup\": \"True\", \"hovertemplate\": \"type=Habeas Data<br>Mes=%{x}<br>count=%{y}<extra></extra>\", \"legendgroup\": \"Habeas Data\", \"marker\": {\"color\": \"#FECB52\"}, \"name\": \"Habeas Data\", \"offsetgroup\": \"Habeas Data\", \"orientation\": \"v\", \"showlegend\": true, \"textposition\": \"auto\", \"type\": \"bar\", \"x\": [11, 9, 12, 5, 2, 10, 4, 7, 3, 6, 8, 1], \"xaxis\": \"x\", \"y\": [7, 6, 6, 4, 3, 3, 3, 2, 2, 2, 1, 1], \"yaxis\": \"y\"}, {\"alignmentgroup\": \"True\", \"hovertemplate\": \"type=Outros Incidentes<br>Mes=%{x}<br>count=%{y}<extra></extra>\", \"legendgroup\": \"Outros Incidentes\", \"marker\": {\"color\": \"#636efa\"}, \"name\": \"Outros Incidentes\", \"offsetgroup\": \"Outros Incidentes\", \"orientation\": \"v\", \"showlegend\": true, \"textposition\": \"auto\", \"type\": \"bar\", \"x\": [8, 11, 5, 6, 4, 12, 10, 9, 7, 2, 1], \"xaxis\": \"x\", \"y\": [7, 5, 4, 4, 3, 3, 3, 2, 1, 1, 1], \"yaxis\": \"y\"}, {\"alignmentgroup\": \"True\", \"hovertemplate\": \"type=Agravo Lei<br>Mes=%{x}<br>count=%{y}<extra></extra>\", \"legendgroup\": \"Agravo Lei\", \"marker\": {\"color\": \"#EF553B\"}, \"name\": \"Agravo Lei\", \"offsetgroup\": \"Agravo Lei\", \"orientation\": \"v\", \"showlegend\": true, \"textposition\": \"auto\", \"type\": \"bar\", \"x\": [2, 11, 10, 3, 8, 12], \"xaxis\": \"x\", \"y\": [5, 5, 3, 3, 2, 1], \"yaxis\": \"y\"}, {\"alignmentgroup\": \"True\", \"hovertemplate\": \"type=Suspens\\u00e3o de Liminar ou Antecipa\\u00e7\\u00e3o de Tutela<br>Mes=%{x}<br>count=%{y}<extra></extra>\", \"legendgroup\": \"Suspens\\u00e3o de Liminar ou Antecipa\\u00e7\\u00e3o de Tutela\", \"marker\": {\"color\": \"#00cc96\"}, \"name\": \"Suspens\\u00e3o de Liminar ou Antecipa\\u00e7\\u00e3o de Tutela\", \"offsetgroup\": \"Suspens\\u00e3o de Liminar ou Antecipa\\u00e7\\u00e3o de Tutela\", \"orientation\": \"v\", \"showlegend\": true, \"textposition\": \"auto\", \"type\": \"bar\", \"x\": [6, 2, 8, 12, 7], \"xaxis\": \"x\", \"y\": [5, 2, 2, 2, 1], \"yaxis\": \"y\"}, {\"alignmentgroup\": \"True\", \"hovertemplate\": \"type=Crimes contra a honra<br>Mes=%{x}<br>count=%{y}<extra></extra>\", \"legendgroup\": \"Crimes contra a honra\", \"marker\": {\"color\": \"#ab63fa\"}, \"name\": \"Crimes contra a honra\", \"offsetgroup\": \"Crimes contra a honra\", \"orientation\": \"v\", \"showlegend\": true, \"textposition\": \"auto\", \"type\": \"bar\", \"x\": [10, 2, 7, 6, 5, 1, 3, 11, 9, 8, 12], \"xaxis\": \"x\", \"y\": [5, 4, 3, 3, 3, 3, 2, 2, 1, 1, 1], \"yaxis\": \"y\"}, {\"alignmentgroup\": \"True\", \"hovertemplate\": \"type=Embargos \\u00e0 Execu\\u00e7\\u00e3o<br>Mes=%{x}<br>count=%{y}<extra></extra>\", \"legendgroup\": \"Embargos \\u00e0 Execu\\u00e7\\u00e3o\", \"marker\": {\"color\": \"#FFA15A\"}, \"name\": \"Embargos \\u00e0 Execu\\u00e7\\u00e3o\", \"offsetgroup\": \"Embargos \\u00e0 Execu\\u00e7\\u00e3o\", \"orientation\": \"v\", \"showlegend\": true, \"textposition\": \"auto\", \"type\": \"bar\", \"x\": [5, 6, 7, 8, 12, 11, 10, 9, 1], \"xaxis\": \"x\", \"y\": [5, 4, 2, 2, 2, 1, 1, 1, 1], \"yaxis\": \"y\"}, {\"alignmentgroup\": \"True\", \"hovertemplate\": \"type=Apela\\u00e7\\u00e3o Rec<br>Mes=%{x}<br>count=%{y}<extra></extra>\", \"legendgroup\": \"Apela\\u00e7\\u00e3o Rec\", \"marker\": {\"color\": \"#19d3f3\"}, \"name\": \"Apela\\u00e7\\u00e3o Rec\", \"offsetgroup\": \"Apela\\u00e7\\u00e3o Rec\", \"orientation\": \"v\", \"showlegend\": true, \"textposition\": \"auto\", \"type\": \"bar\", \"x\": [12, 8, 6, 10, 5, 11, 1, 3, 9, 7], \"xaxis\": \"x\", \"y\": [5, 4, 2, 2, 2, 2, 1, 1, 1, 1], \"yaxis\": \"y\"}, {\"alignmentgroup\": \"True\", \"hovertemplate\": \"type=Investiga\\u00e7\\u00e3o Contra Magistrado<br>Mes=%{x}<br>count=%{y}<extra></extra>\", \"legendgroup\": \"Investiga\\u00e7\\u00e3o Contra Magistrado\", \"marker\": {\"color\": \"#FF6692\"}, \"name\": \"Investiga\\u00e7\\u00e3o Contra Magistrado\", \"offsetgroup\": \"Investiga\\u00e7\\u00e3o Contra Magistrado\", \"orientation\": \"v\", \"showlegend\": true, \"textposition\": \"auto\", \"type\": \"bar\", \"x\": [3, 7, 6, 9, 10, 5, 1, 4, 8], \"xaxis\": \"x\", \"y\": [5, 4, 3, 3, 3, 2, 1, 1, 1], \"yaxis\": \"y\"}, {\"alignmentgroup\": \"True\", \"hovertemplate\": \"type=Interven\\u00e7\\u00e3o Federal no Estado<br>Mes=%{x}<br>count=%{y}<extra></extra>\", \"legendgroup\": \"Interven\\u00e7\\u00e3o Federal no Estado\", \"marker\": {\"color\": \"#B6E880\"}, \"name\": \"Interven\\u00e7\\u00e3o Federal no Estado\", \"offsetgroup\": \"Interven\\u00e7\\u00e3o Federal no Estado\", \"orientation\": \"v\", \"showlegend\": true, \"textposition\": \"auto\", \"type\": \"bar\", \"x\": [12, 6, 5, 4, 7, 8, 9, 2, 3, 10, 11], \"xaxis\": \"x\", \"y\": [4, 4, 4, 4, 3, 3, 2, 1, 1, 1, 1], \"yaxis\": \"y\"}, {\"alignmentgroup\": \"True\", \"hovertemplate\": \"type=Exce\\u00e7\\u00e3o da Verdade<br>Mes=%{x}<br>count=%{y}<extra></extra>\", \"legendgroup\": \"Exce\\u00e7\\u00e3o da Verdade\", \"marker\": {\"color\": \"#FF97FF\"}, \"name\": \"Exce\\u00e7\\u00e3o da Verdade\", \"offsetgroup\": \"Exce\\u00e7\\u00e3o da Verdade\", \"orientation\": \"v\", \"showlegend\": true, \"textposition\": \"auto\", \"type\": \"bar\", \"x\": [11, 3, 10, 8, 6, 12, 7, 5, 4, 1], \"xaxis\": \"x\", \"y\": [4, 3, 2, 2, 2, 1, 1, 1, 1, 1], \"yaxis\": \"y\"}, {\"alignmentgroup\": \"True\", \"hovertemplate\": \"type=Exce\\u00e7\\u00e3o de Incompet\\u00eancia<br>Mes=%{x}<br>count=%{y}<extra></extra>\", \"legendgroup\": \"Exce\\u00e7\\u00e3o de Incompet\\u00eancia\", \"marker\": {\"color\": \"#FECB52\"}, \"name\": \"Exce\\u00e7\\u00e3o de Incompet\\u00eancia\", \"offsetgroup\": \"Exce\\u00e7\\u00e3o de Incompet\\u00eancia\", \"orientation\": \"v\", \"showlegend\": true, \"textposition\": \"auto\", \"type\": \"bar\", \"x\": [7, 5, 8, 10, 9, 6, 12, 3, 2, 1], \"xaxis\": \"x\", \"y\": [4, 4, 3, 3, 3, 2, 2, 1, 1, 1], \"yaxis\": \"y\"}, {\"alignmentgroup\": \"True\", \"hovertemplate\": \"type=Interven\\u00e7\\u00e3o em Munic\\u00edpio<br>Mes=%{x}<br>count=%{y}<extra></extra>\", \"legendgroup\": \"Interven\\u00e7\\u00e3o em Munic\\u00edpio\", \"marker\": {\"color\": \"#636efa\"}, \"name\": \"Interven\\u00e7\\u00e3o em Munic\\u00edpio\", \"offsetgroup\": \"Interven\\u00e7\\u00e3o em Munic\\u00edpio\", \"orientation\": \"v\", \"showlegend\": true, \"textposition\": \"auto\", \"type\": \"bar\", \"x\": [9, 2, 6, 11, 10, 8, 3, 5, 7], \"xaxis\": \"x\", \"y\": [4, 3, 3, 1, 1, 1, 1, 1, 1], \"yaxis\": \"y\"}, {\"alignmentgroup\": \"True\", \"hovertemplate\": \"type=Interven\\u00e7\\u00e3o no Estado<br>Mes=%{x}<br>count=%{y}<extra></extra>\", \"legendgroup\": \"Interven\\u00e7\\u00e3o no Estado\", \"marker\": {\"color\": \"#EF553B\"}, \"name\": \"Interven\\u00e7\\u00e3o no Estado\", \"offsetgroup\": \"Interven\\u00e7\\u00e3o no Estado\", \"orientation\": \"v\", \"showlegend\": true, \"textposition\": \"auto\", \"type\": \"bar\", \"x\": [3, 6, 8, 1, 7, 12, 11, 5, 9, 10, 2], \"xaxis\": \"x\", \"y\": [4, 4, 4, 3, 3, 2, 2, 1, 1, 1, 1], \"yaxis\": \"y\"}, {\"alignmentgroup\": \"True\", \"hovertemplate\": \"type=Reclama\\u00e7\\u00e3o Regimental<br>Mes=%{x}<br>count=%{y}<extra></extra>\", \"legendgroup\": \"Reclama\\u00e7\\u00e3o Regimental\", \"marker\": {\"color\": \"#00cc96\"}, \"name\": \"Reclama\\u00e7\\u00e3o Regimental\", \"offsetgroup\": \"Reclama\\u00e7\\u00e3o Regimental\", \"orientation\": \"v\", \"showlegend\": true, \"textposition\": \"auto\", \"type\": \"bar\", \"x\": [10, 12, 7, 11, 9, 8], \"xaxis\": \"x\", \"y\": [3, 3, 2, 1, 1, 1], \"yaxis\": \"y\"}, {\"alignmentgroup\": \"True\", \"hovertemplate\": \"type=Cumprimento de Senten\\u00e7a<br>Mes=%{x}<br>count=%{y}<extra></extra>\", \"legendgroup\": \"Cumprimento de Senten\\u00e7a\", \"marker\": {\"color\": \"#ab63fa\"}, \"name\": \"Cumprimento de Senten\\u00e7a\", \"offsetgroup\": \"Cumprimento de Senten\\u00e7a\", \"orientation\": \"v\", \"showlegend\": true, \"textposition\": \"auto\", \"type\": \"bar\", \"x\": [2, 11, 9, 7, 3, 4, 10, 8, 6, 5], \"xaxis\": \"x\", \"y\": [3, 2, 2, 2, 2, 1, 1, 1, 1, 1], \"yaxis\": \"y\"}, {\"alignmentgroup\": \"True\", \"hovertemplate\": \"type=Habilita\\u00e7\\u00e3o<br>Mes=%{x}<br>count=%{y}<extra></extra>\", \"legendgroup\": \"Habilita\\u00e7\\u00e3o\", \"marker\": {\"color\": \"#FFA15A\"}, \"name\": \"Habilita\\u00e7\\u00e3o\", \"offsetgroup\": \"Habilita\\u00e7\\u00e3o\", \"orientation\": \"v\", \"showlegend\": true, \"textposition\": \"auto\", \"type\": \"bar\", \"x\": [9, 12, 8, 11, 6], \"xaxis\": \"x\", \"y\": [3, 3, 2, 1, 1], \"yaxis\": \"y\"}, {\"alignmentgroup\": \"True\", \"hovertemplate\": \"type=Exce\\u00e7\\u00e3o Suspei\\u00e7\\u00e3o Impedimento<br>Mes=%{x}<br>count=%{y}<extra></extra>\", \"legendgroup\": \"Exce\\u00e7\\u00e3o Suspei\\u00e7\\u00e3o Impedimento\", \"marker\": {\"color\": \"#19d3f3\"}, \"name\": \"Exce\\u00e7\\u00e3o Suspei\\u00e7\\u00e3o Impedimento\", \"offsetgroup\": \"Exce\\u00e7\\u00e3o Suspei\\u00e7\\u00e3o Impedimento\", \"orientation\": \"v\", \"showlegend\": true, \"textposition\": \"auto\", \"type\": \"bar\", \"x\": [5, 1, 7, 9, 12, 4, 6, 8, 11], \"xaxis\": \"x\", \"y\": [3, 2, 2, 2, 2, 1, 1, 1, 1], \"yaxis\": \"y\"}, {\"alignmentgroup\": \"True\", \"hovertemplate\": \"type=Exce\\u00e7\\u00e3o de Impedimento<br>Mes=%{x}<br>count=%{y}<extra></extra>\", \"legendgroup\": \"Exce\\u00e7\\u00e3o de Impedimento\", \"marker\": {\"color\": \"#FF6692\"}, \"name\": \"Exce\\u00e7\\u00e3o de Impedimento\", \"offsetgroup\": \"Exce\\u00e7\\u00e3o de Impedimento\", \"orientation\": \"v\", \"showlegend\": true, \"textposition\": \"auto\", \"type\": \"bar\", \"x\": [11, 9, 7, 5, 1, 3, 4, 12, 8, 6, 2], \"xaxis\": \"x\", \"y\": [3, 3, 3, 3, 2, 2, 2, 2, 1, 1, 1], \"yaxis\": \"y\"}, {\"alignmentgroup\": \"True\", \"hovertemplate\": \"type=Processo de Execu\\u00e7\\u00e3o<br>Mes=%{x}<br>count=%{y}<extra></extra>\", \"legendgroup\": \"Processo de Execu\\u00e7\\u00e3o\", \"marker\": {\"color\": \"#B6E880\"}, \"name\": \"Processo de Execu\\u00e7\\u00e3o\", \"offsetgroup\": \"Processo de Execu\\u00e7\\u00e3o\", \"orientation\": \"v\", \"showlegend\": true, \"textposition\": \"auto\", \"type\": \"bar\", \"x\": [6], \"xaxis\": \"x\", \"y\": [3], \"yaxis\": \"y\"}, {\"alignmentgroup\": \"True\", \"hovertemplate\": \"type=Reabilita\\u00e7\\u00e3o<br>Mes=%{x}<br>count=%{y}<extra></extra>\", \"legendgroup\": \"Reabilita\\u00e7\\u00e3o\", \"marker\": {\"color\": \"#FF97FF\"}, \"name\": \"Reabilita\\u00e7\\u00e3o\", \"offsetgroup\": \"Reabilita\\u00e7\\u00e3o\", \"orientation\": \"v\", \"showlegend\": true, \"textposition\": \"auto\", \"type\": \"bar\", \"x\": [12, 11, 9, 3, 10, 6, 4], \"xaxis\": \"x\", \"y\": [3, 2, 2, 2, 2, 1, 1], \"yaxis\": \"y\"}, {\"alignmentgroup\": \"True\", \"hovertemplate\": \"type=Agravo de Peti\\u00e7\\u00e3o<br>Mes=%{x}<br>count=%{y}<extra></extra>\", \"legendgroup\": \"Agravo de Peti\\u00e7\\u00e3o\", \"marker\": {\"color\": \"#FECB52\"}, \"name\": \"Agravo de Peti\\u00e7\\u00e3o\", \"offsetgroup\": \"Agravo de Peti\\u00e7\\u00e3o\", \"orientation\": \"v\", \"showlegend\": true, \"textposition\": \"auto\", \"type\": \"bar\", \"x\": [4, 3, 5, 10], \"xaxis\": \"x\", \"y\": [3, 3, 3, 1], \"yaxis\": \"y\"}, {\"alignmentgroup\": \"True\", \"hovertemplate\": \"type=Mandado de Seguran\\u00e7a Coletivo<br>Mes=%{x}<br>count=%{y}<extra></extra>\", \"legendgroup\": \"Mandado de Seguran\\u00e7a Coletivo\", \"marker\": {\"color\": \"#636efa\"}, \"name\": \"Mandado de Seguran\\u00e7a Coletivo\", \"offsetgroup\": \"Mandado de Seguran\\u00e7a Coletivo\", \"orientation\": \"v\", \"showlegend\": true, \"textposition\": \"auto\", \"type\": \"bar\", \"x\": [12, 9, 5, 10, 4, 8, 7, 6, 3], \"xaxis\": \"x\", \"y\": [3, 3, 2, 2, 2, 1, 1, 1, 1], \"yaxis\": \"y\"}, {\"alignmentgroup\": \"True\", \"hovertemplate\": \"type=Apela\\u00e7\\u00e3o Recurso de Of\\u00edcio<br>Mes=%{x}<br>count=%{y}<extra></extra>\", \"legendgroup\": \"Apela\\u00e7\\u00e3o Recurso de Of\\u00edcio\", \"marker\": {\"color\": \"#EF553B\"}, \"name\": \"Apela\\u00e7\\u00e3o Recurso de Of\\u00edcio\", \"offsetgroup\": \"Apela\\u00e7\\u00e3o Recurso de Of\\u00edcio\", \"orientation\": \"v\", \"showlegend\": true, \"textposition\": \"auto\", \"type\": \"bar\", \"x\": [3, 5, 6, 9, 4, 12, 11, 10, 8, 2], \"xaxis\": \"x\", \"y\": [2, 2, 2, 2, 1, 1, 1, 1, 1, 1], \"yaxis\": \"y\"}, {\"alignmentgroup\": \"True\", \"hovertemplate\": \"type=Cautelar Incidental<br>Mes=%{x}<br>count=%{y}<extra></extra>\", \"legendgroup\": \"Cautelar Incidental\", \"marker\": {\"color\": \"#00cc96\"}, \"name\": \"Cautelar Incidental\", \"offsetgroup\": \"Cautelar Incidental\", \"orientation\": \"v\", \"showlegend\": true, \"textposition\": \"auto\", \"type\": \"bar\", \"x\": [9], \"xaxis\": \"x\", \"y\": [2], \"yaxis\": \"y\"}, {\"alignmentgroup\": \"True\", \"hovertemplate\": \"type=Crimes Ambientais<br>Mes=%{x}<br>count=%{y}<extra></extra>\", \"legendgroup\": \"Crimes Ambientais\", \"marker\": {\"color\": \"#ab63fa\"}, \"name\": \"Crimes Ambientais\", \"offsetgroup\": \"Crimes Ambientais\", \"orientation\": \"v\", \"showlegend\": true, \"textposition\": \"auto\", \"type\": \"bar\", \"x\": [8, 2, 12, 6, 4, 3], \"xaxis\": \"x\", \"y\": [2, 1, 1, 1, 1, 1], \"yaxis\": \"y\"}, {\"alignmentgroup\": \"True\", \"hovertemplate\": \"type=Tutela Antecipada Antecedente<br>Mes=%{x}<br>count=%{y}<extra></extra>\", \"legendgroup\": \"Tutela Antecipada Antecedente\", \"marker\": {\"color\": \"#FFA15A\"}, \"name\": \"Tutela Antecipada Antecedente\", \"offsetgroup\": \"Tutela Antecipada Antecedente\", \"orientation\": \"v\", \"showlegend\": true, \"textposition\": \"auto\", \"type\": \"bar\", \"x\": [8, 12, 2, 3, 10], \"xaxis\": \"x\", \"y\": [2, 2, 1, 1, 1], \"yaxis\": \"y\"}, {\"alignmentgroup\": \"True\", \"hovertemplate\": \"type=Tutela Cautelar Antecedente<br>Mes=%{x}<br>count=%{y}<extra></extra>\", \"legendgroup\": \"Tutela Cautelar Antecedente\", \"marker\": {\"color\": \"#19d3f3\"}, \"name\": \"Tutela Cautelar Antecedente\", \"offsetgroup\": \"Tutela Cautelar Antecedente\", \"orientation\": \"v\", \"showlegend\": true, \"textposition\": \"auto\", \"type\": \"bar\", \"x\": [1, 10, 4, 8], \"xaxis\": \"x\", \"y\": [2, 2, 1, 1], \"yaxis\": \"y\"}, {\"alignmentgroup\": \"True\", \"hovertemplate\": \"type=Tutela Provisoria<br>Mes=%{x}<br>count=%{y}<extra></extra>\", \"legendgroup\": \"Tutela Provisoria\", \"marker\": {\"color\": \"#FF6692\"}, \"name\": \"Tutela Provisoria\", \"offsetgroup\": \"Tutela Provisoria\", \"orientation\": \"v\", \"showlegend\": true, \"textposition\": \"auto\", \"type\": \"bar\", \"x\": [3, 6, 9, 2, 11, 12], \"xaxis\": \"x\", \"y\": [2, 2, 2, 1, 1, 1], \"yaxis\": \"y\"}, {\"alignmentgroup\": \"True\", \"hovertemplate\": \"type=Suspens\\u00e3o de Execu\\u00e7\\u00e3o de Senten\\u00e7a<br>Mes=%{x}<br>count=%{y}<extra></extra>\", \"legendgroup\": \"Suspens\\u00e3o de Execu\\u00e7\\u00e3o de Senten\\u00e7a\", \"marker\": {\"color\": \"#B6E880\"}, \"name\": \"Suspens\\u00e3o de Execu\\u00e7\\u00e3o de Senten\\u00e7a\", \"offsetgroup\": \"Suspens\\u00e3o de Execu\\u00e7\\u00e3o de Senten\\u00e7a\", \"orientation\": \"v\", \"showlegend\": true, \"textposition\": \"auto\", \"type\": \"bar\", \"x\": [6, 3], \"xaxis\": \"x\", \"y\": [2, 1], \"yaxis\": \"y\"}, {\"alignmentgroup\": \"True\", \"hovertemplate\": \"type=Embargos de Nulidade<br>Mes=%{x}<br>count=%{y}<extra></extra>\", \"legendgroup\": \"Embargos de Nulidade\", \"marker\": {\"color\": \"#FF97FF\"}, \"name\": \"Embargos de Nulidade\", \"offsetgroup\": \"Embargos de Nulidade\", \"orientation\": \"v\", \"showlegend\": true, \"textposition\": \"auto\", \"type\": \"bar\", \"x\": [12, 11, 6, 5, 4], \"xaxis\": \"x\", \"y\": [2, 1, 1, 1, 1], \"yaxis\": \"y\"}, {\"alignmentgroup\": \"True\", \"hovertemplate\": \"type=A\\u00e7\\u00e3o Civil Improbidade Administrativa<br>Mes=%{x}<br>count=%{y}<extra></extra>\", \"legendgroup\": \"A\\u00e7\\u00e3o Civil Improbidade Administrativa\", \"marker\": {\"color\": \"#FECB52\"}, \"name\": \"A\\u00e7\\u00e3o Civil Improbidade Administrativa\", \"offsetgroup\": \"A\\u00e7\\u00e3o Civil Improbidade Administrativa\", \"orientation\": \"v\", \"showlegend\": true, \"textposition\": \"auto\", \"type\": \"bar\", \"x\": [5, 3, 9], \"xaxis\": \"x\", \"y\": [2, 1, 1], \"yaxis\": \"y\"}, {\"alignmentgroup\": \"True\", \"hovertemplate\": \"type=Pedido de Assist\\u00eancia Judici\\u00e1ria Gratuita<br>Mes=%{x}<br>count=%{y}<extra></extra>\", \"legendgroup\": \"Pedido de Assist\\u00eancia Judici\\u00e1ria Gratuita\", \"marker\": {\"color\": \"#636efa\"}, \"name\": \"Pedido de Assist\\u00eancia Judici\\u00e1ria Gratuita\", \"offsetgroup\": \"Pedido de Assist\\u00eancia Judici\\u00e1ria Gratuita\", \"orientation\": \"v\", \"showlegend\": true, \"textposition\": \"auto\", \"type\": \"bar\", \"x\": [7, 6, 9, 12, 5, 11, 10, 8, 3, 2], \"xaxis\": \"x\", \"y\": [2, 2, 2, 2, 1, 1, 1, 1, 1, 1], \"yaxis\": \"y\"}, {\"alignmentgroup\": \"True\", \"hovertemplate\": \"type=Outros Crimes<br>Mes=%{x}<br>count=%{y}<extra></extra>\", \"legendgroup\": \"Outros Crimes\", \"marker\": {\"color\": \"#EF553B\"}, \"name\": \"Outros Crimes\", \"offsetgroup\": \"Outros Crimes\", \"orientation\": \"v\", \"showlegend\": true, \"textposition\": \"auto\", \"type\": \"bar\", \"x\": [6, 3, 7, 9, 5, 11, 10], \"xaxis\": \"x\", \"y\": [2, 1, 1, 1, 1, 1, 1], \"yaxis\": \"y\"}, {\"alignmentgroup\": \"True\", \"hovertemplate\": \"type=Incidente de Falsidade<br>Mes=%{x}<br>count=%{y}<extra></extra>\", \"legendgroup\": \"Incidente de Falsidade\", \"marker\": {\"color\": \"#00cc96\"}, \"name\": \"Incidente de Falsidade\", \"offsetgroup\": \"Incidente de Falsidade\", \"orientation\": \"v\", \"showlegend\": true, \"textposition\": \"auto\", \"type\": \"bar\", \"x\": [8, 7, 9, 11, 1, 2, 3], \"xaxis\": \"x\", \"y\": [2, 2, 1, 1, 1, 1, 1], \"yaxis\": \"y\"}, {\"alignmentgroup\": \"True\", \"hovertemplate\": \"type=Procedimento Investigat\\u00f3rio do MP<br>Mes=%{x}<br>count=%{y}<extra></extra>\", \"legendgroup\": \"Procedimento Investigat\\u00f3rio do MP\", \"marker\": {\"color\": \"#ab63fa\"}, \"name\": \"Procedimento Investigat\\u00f3rio do MP\", \"offsetgroup\": \"Procedimento Investigat\\u00f3rio do MP\", \"orientation\": \"v\", \"showlegend\": true, \"textposition\": \"auto\", \"type\": \"bar\", \"x\": [9, 12, 10, 8, 5, 4, 3, 2], \"xaxis\": \"x\", \"y\": [2, 1, 1, 1, 1, 1, 1, 1], \"yaxis\": \"y\"}, {\"alignmentgroup\": \"True\", \"hovertemplate\": \"type=Not\\u00edcia Crime<br>Mes=%{x}<br>count=%{y}<extra></extra>\", \"legendgroup\": \"Not\\u00edcia Crime\", \"marker\": {\"color\": \"#FFA15A\"}, \"name\": \"Not\\u00edcia Crime\", \"offsetgroup\": \"Not\\u00edcia Crime\", \"orientation\": \"v\", \"showlegend\": true, \"textposition\": \"auto\", \"type\": \"bar\", \"x\": [2, 12, 9, 11, 7, 5, 4, 3, 1], \"xaxis\": \"x\", \"y\": [2, 1, 1, 1, 1, 1, 1, 1, 1], \"yaxis\": \"y\"}, {\"alignmentgroup\": \"True\", \"hovertemplate\": \"type=Oposi\\u00e7\\u00e3o<br>Mes=%{x}<br>count=%{y}<extra></extra>\", \"legendgroup\": \"Oposi\\u00e7\\u00e3o\", \"marker\": {\"color\": \"#19d3f3\"}, \"name\": \"Oposi\\u00e7\\u00e3o\", \"offsetgroup\": \"Oposi\\u00e7\\u00e3o\", \"orientation\": \"v\", \"showlegend\": true, \"textposition\": \"auto\", \"type\": \"bar\", \"x\": [1], \"xaxis\": \"x\", \"y\": [1], \"yaxis\": \"y\"}, {\"alignmentgroup\": \"True\", \"hovertemplate\": \"type=Agravo de Instrumento em Recurso Extraordinario<br>Mes=%{x}<br>count=%{y}<extra></extra>\", \"legendgroup\": \"Agravo de Instrumento em Recurso Extraordinario\", \"marker\": {\"color\": \"#FF6692\"}, \"name\": \"Agravo de Instrumento em Recurso Extraordinario\", \"offsetgroup\": \"Agravo de Instrumento em Recurso Extraordinario\", \"orientation\": \"v\", \"showlegend\": true, \"textposition\": \"auto\", \"type\": \"bar\", \"x\": [5], \"xaxis\": \"x\", \"y\": [1], \"yaxis\": \"y\"}, {\"alignmentgroup\": \"True\", \"hovertemplate\": \"type=Agravo em Rec<br>Mes=%{x}<br>count=%{y}<extra></extra>\", \"legendgroup\": \"Agravo em Rec\", \"marker\": {\"color\": \"#B6E880\"}, \"name\": \"Agravo em Rec\", \"offsetgroup\": \"Agravo em Rec\", \"orientation\": \"v\", \"showlegend\": true, \"textposition\": \"auto\", \"type\": \"bar\", \"x\": [8, 10], \"xaxis\": \"x\", \"y\": [1, 1], \"yaxis\": \"y\"}, {\"alignmentgroup\": \"True\", \"hovertemplate\": \"type=Outras Medidas Provisionais<br>Mes=%{x}<br>count=%{y}<extra></extra>\", \"legendgroup\": \"Outras Medidas Provisionais\", \"marker\": {\"color\": \"#FF97FF\"}, \"name\": \"Outras Medidas Provisionais\", \"offsetgroup\": \"Outras Medidas Provisionais\", \"orientation\": \"v\", \"showlegend\": true, \"textposition\": \"auto\", \"type\": \"bar\", \"x\": [10], \"xaxis\": \"x\", \"y\": [1], \"yaxis\": \"y\"}, {\"alignmentgroup\": \"True\", \"hovertemplate\": \"type=Liquida\\u00e7\\u00e3o Provis\\u00f3ria por Artigos<br>Mes=%{x}<br>count=%{y}<extra></extra>\", \"legendgroup\": \"Liquida\\u00e7\\u00e3o Provis\\u00f3ria por Artigos\", \"marker\": {\"color\": \"#FECB52\"}, \"name\": \"Liquida\\u00e7\\u00e3o Provis\\u00f3ria por Artigos\", \"offsetgroup\": \"Liquida\\u00e7\\u00e3o Provis\\u00f3ria por Artigos\", \"orientation\": \"v\", \"showlegend\": true, \"textposition\": \"auto\", \"type\": \"bar\", \"x\": [5, 6], \"xaxis\": \"x\", \"y\": [1, 1], \"yaxis\": \"y\"}, {\"alignmentgroup\": \"True\", \"hovertemplate\": \"type=Incidente de Preven\\u00e7\\u00e3o ou Composi\\u00e7\\u00e3o de Diverg\\u00eancia<br>Mes=%{x}<br>count=%{y}<extra></extra>\", \"legendgroup\": \"Incidente de Preven\\u00e7\\u00e3o ou Composi\\u00e7\\u00e3o de Diverg\\u00eancia\", \"marker\": {\"color\": \"#636efa\"}, \"name\": \"Incidente de Preven\\u00e7\\u00e3o ou Composi\\u00e7\\u00e3o de Diverg\\u00eancia\", \"offsetgroup\": \"Incidente de Preven\\u00e7\\u00e3o ou Composi\\u00e7\\u00e3o de Diverg\\u00eancia\", \"orientation\": \"v\", \"showlegend\": true, \"textposition\": \"auto\", \"type\": \"bar\", \"x\": [12], \"xaxis\": \"x\", \"y\": [1], \"yaxis\": \"y\"}, {\"alignmentgroup\": \"True\", \"hovertemplate\": \"type=Medidas Protetivas de Urgencia<br>Mes=%{x}<br>count=%{y}<extra></extra>\", \"legendgroup\": \"Medidas Protetivas de Urgencia\", \"marker\": {\"color\": \"#EF553B\"}, \"name\": \"Medidas Protetivas de Urgencia\", \"offsetgroup\": \"Medidas Protetivas de Urgencia\", \"orientation\": \"v\", \"showlegend\": true, \"textposition\": \"auto\", \"type\": \"bar\", \"x\": [3, 2, 1], \"xaxis\": \"x\", \"y\": [1, 1, 1], \"yaxis\": \"y\"}, {\"alignmentgroup\": \"True\", \"hovertemplate\": \"type=Notifica\\u00e7\\u00e3o Para Explica\\u00e7\\u00f5es<br>Mes=%{x}<br>count=%{y}<extra></extra>\", \"legendgroup\": \"Notifica\\u00e7\\u00e3o Para Explica\\u00e7\\u00f5es\", \"marker\": {\"color\": \"#00cc96\"}, \"name\": \"Notifica\\u00e7\\u00e3o Para Explica\\u00e7\\u00f5es\", \"offsetgroup\": \"Notifica\\u00e7\\u00e3o Para Explica\\u00e7\\u00f5es\", \"orientation\": \"v\", \"showlegend\": true, \"textposition\": \"auto\", \"type\": \"bar\", \"x\": [10], \"xaxis\": \"x\", \"y\": [1], \"yaxis\": \"y\"}, {\"alignmentgroup\": \"True\", \"hovertemplate\": \"type=Arresto Hipoteca Legal<br>Mes=%{x}<br>count=%{y}<extra></extra>\", \"legendgroup\": \"Arresto Hipoteca Legal\", \"marker\": {\"color\": \"#ab63fa\"}, \"name\": \"Arresto Hipoteca Legal\", \"offsetgroup\": \"Arresto Hipoteca Legal\", \"orientation\": \"v\", \"showlegend\": true, \"textposition\": \"auto\", \"type\": \"bar\", \"x\": [3], \"xaxis\": \"x\", \"y\": [1], \"yaxis\": \"y\"}, {\"alignmentgroup\": \"True\", \"hovertemplate\": \"type=Interpela\\u00e7\\u00e3o<br>Mes=%{x}<br>count=%{y}<extra></extra>\", \"legendgroup\": \"Interpela\\u00e7\\u00e3o\", \"marker\": {\"color\": \"#FFA15A\"}, \"name\": \"Interpela\\u00e7\\u00e3o\", \"offsetgroup\": \"Interpela\\u00e7\\u00e3o\", \"orientation\": \"v\", \"showlegend\": true, \"textposition\": \"auto\", \"type\": \"bar\", \"x\": [7], \"xaxis\": \"x\", \"y\": [1], \"yaxis\": \"y\"}, {\"alignmentgroup\": \"True\", \"hovertemplate\": \"type=Interpela\\u00e7\\u00e3o Judicial<br>Mes=%{x}<br>count=%{y}<extra></extra>\", \"legendgroup\": \"Interpela\\u00e7\\u00e3o Judicial\", \"marker\": {\"color\": \"#19d3f3\"}, \"name\": \"Interpela\\u00e7\\u00e3o Judicial\", \"offsetgroup\": \"Interpela\\u00e7\\u00e3o Judicial\", \"orientation\": \"v\", \"showlegend\": true, \"textposition\": \"auto\", \"type\": \"bar\", \"x\": [5], \"xaxis\": \"x\", \"y\": [1], \"yaxis\": \"y\"}, {\"alignmentgroup\": \"True\", \"hovertemplate\": \"type=Arresto<br>Mes=%{x}<br>count=%{y}<extra></extra>\", \"legendgroup\": \"Arresto\", \"marker\": {\"color\": \"#FF6692\"}, \"name\": \"Arresto\", \"offsetgroup\": \"Arresto\", \"orientation\": \"v\", \"showlegend\": true, \"textposition\": \"auto\", \"type\": \"bar\", \"x\": [8], \"xaxis\": \"x\", \"y\": [1], \"yaxis\": \"y\"}, {\"alignmentgroup\": \"True\", \"hovertemplate\": \"type=Impugna\\u00e7\\u00e3o<br>Mes=%{x}<br>count=%{y}<extra></extra>\", \"legendgroup\": \"Impugna\\u00e7\\u00e3o\", \"marker\": {\"color\": \"#B6E880\"}, \"name\": \"Impugna\\u00e7\\u00e3o\", \"offsetgroup\": \"Impugna\\u00e7\\u00e3o\", \"orientation\": \"v\", \"showlegend\": true, \"textposition\": \"auto\", \"type\": \"bar\", \"x\": [11, 12, 8], \"xaxis\": \"x\", \"y\": [1, 1, 1], \"yaxis\": \"y\"}, {\"alignmentgroup\": \"True\", \"hovertemplate\": \"type=Impugna\\u00e7\\u00e3o ao Cumprimento de Senten\\u00e7a<br>Mes=%{x}<br>count=%{y}<extra></extra>\", \"legendgroup\": \"Impugna\\u00e7\\u00e3o ao Cumprimento de Senten\\u00e7a\", \"marker\": {\"color\": \"#FF97FF\"}, \"name\": \"Impugna\\u00e7\\u00e3o ao Cumprimento de Senten\\u00e7a\", \"offsetgroup\": \"Impugna\\u00e7\\u00e3o ao Cumprimento de Senten\\u00e7a\", \"orientation\": \"v\", \"showlegend\": true, \"textposition\": \"auto\", \"type\": \"bar\", \"x\": [3, 4, 10], \"xaxis\": \"x\", \"y\": [1, 1, 1], \"yaxis\": \"y\"}, {\"alignmentgroup\": \"True\", \"hovertemplate\": \"type=Embargos de Terceiros<br>Mes=%{x}<br>count=%{y}<extra></extra>\", \"legendgroup\": \"Embargos de Terceiros\", \"marker\": {\"color\": \"#FECB52\"}, \"name\": \"Embargos de Terceiros\", \"offsetgroup\": \"Embargos de Terceiros\", \"orientation\": \"v\", \"showlegend\": true, \"textposition\": \"auto\", \"type\": \"bar\", \"x\": [3, 1], \"xaxis\": \"x\", \"y\": [1, 1], \"yaxis\": \"y\"}, {\"alignmentgroup\": \"True\", \"hovertemplate\": \"type=Embargos<br>Mes=%{x}<br>count=%{y}<extra></extra>\", \"legendgroup\": \"Embargos\", \"marker\": {\"color\": \"#636efa\"}, \"name\": \"Embargos\", \"offsetgroup\": \"Embargos\", \"orientation\": \"v\", \"showlegend\": true, \"textposition\": \"auto\", \"type\": \"bar\", \"x\": [7], \"xaxis\": \"x\", \"y\": [1], \"yaxis\": \"y\"}, {\"alignmentgroup\": \"True\", \"hovertemplate\": \"type=Recurso Inominado<br>Mes=%{x}<br>count=%{y}<extra></extra>\", \"legendgroup\": \"Recurso Inominado\", \"marker\": {\"color\": \"#EF553B\"}, \"name\": \"Recurso Inominado\", \"offsetgroup\": \"Recurso Inominado\", \"orientation\": \"v\", \"showlegend\": true, \"textposition\": \"auto\", \"type\": \"bar\", \"x\": [4, 10], \"xaxis\": \"x\", \"y\": [1, 1], \"yaxis\": \"y\"}, {\"alignmentgroup\": \"True\", \"hovertemplate\": \"type=Pedido Suspens\\u00e3o Liminar<br>Mes=%{x}<br>count=%{y}<extra></extra>\", \"legendgroup\": \"Pedido Suspens\\u00e3o Liminar\", \"marker\": {\"color\": \"#00cc96\"}, \"name\": \"Pedido Suspens\\u00e3o Liminar\", \"offsetgroup\": \"Pedido Suspens\\u00e3o Liminar\", \"orientation\": \"v\", \"showlegend\": true, \"textposition\": \"auto\", \"type\": \"bar\", \"x\": [7, 8], \"xaxis\": \"x\", \"y\": [1, 1], \"yaxis\": \"y\"}, {\"alignmentgroup\": \"True\", \"hovertemplate\": \"type=Crime Responsabilidade Funcion\\u00e1rio Publico<br>Mes=%{x}<br>count=%{y}<extra></extra>\", \"legendgroup\": \"Crime Responsabilidade Funcion\\u00e1rio Publico\", \"marker\": {\"color\": \"#ab63fa\"}, \"name\": \"Crime Responsabilidade Funcion\\u00e1rio Publico\", \"offsetgroup\": \"Crime Responsabilidade Funcion\\u00e1rio Publico\", \"orientation\": \"v\", \"showlegend\": true, \"textposition\": \"auto\", \"type\": \"bar\", \"x\": [7, 2], \"xaxis\": \"x\", \"y\": [1, 1], \"yaxis\": \"y\"}, {\"alignmentgroup\": \"True\", \"hovertemplate\": \"type=Pedido de Arquivamento<br>Mes=%{x}<br>count=%{y}<extra></extra>\", \"legendgroup\": \"Pedido de Arquivamento\", \"marker\": {\"color\": \"#FFA15A\"}, \"name\": \"Pedido de Arquivamento\", \"offsetgroup\": \"Pedido de Arquivamento\", \"orientation\": \"v\", \"showlegend\": true, \"textposition\": \"auto\", \"type\": \"bar\", \"x\": [11, 4], \"xaxis\": \"x\", \"y\": [1, 1], \"yaxis\": \"y\"}, {\"alignmentgroup\": \"True\", \"hovertemplate\": \"type=Incidente de Assun\\u00e7\\u00e3o de Compet\\u00eancia<br>Mes=%{x}<br>count=%{y}<extra></extra>\", \"legendgroup\": \"Incidente de Assun\\u00e7\\u00e3o de Compet\\u00eancia\", \"marker\": {\"color\": \"#19d3f3\"}, \"name\": \"Incidente de Assun\\u00e7\\u00e3o de Compet\\u00eancia\", \"offsetgroup\": \"Incidente de Assun\\u00e7\\u00e3o de Compet\\u00eancia\", \"orientation\": \"v\", \"showlegend\": true, \"textposition\": \"auto\", \"type\": \"bar\", \"x\": [12, 3, 9], \"xaxis\": \"x\", \"y\": [1, 1, 1], \"yaxis\": \"y\"}, {\"alignmentgroup\": \"True\", \"hovertemplate\": \"type=Recurso de Agravo<br>Mes=%{x}<br>count=%{y}<extra></extra>\", \"legendgroup\": \"Recurso de Agravo\", \"marker\": {\"color\": \"#FF6692\"}, \"name\": \"Recurso de Agravo\", \"offsetgroup\": \"Recurso de Agravo\", \"orientation\": \"v\", \"showlegend\": true, \"textposition\": \"auto\", \"type\": \"bar\", \"x\": [8], \"xaxis\": \"x\", \"y\": [1], \"yaxis\": \"y\"}, {\"alignmentgroup\": \"True\", \"hovertemplate\": \"type=Declara\\u00e7\\u00e3o de Inconstitucionalidade<br>Mes=%{x}<br>count=%{y}<extra></extra>\", \"legendgroup\": \"Declara\\u00e7\\u00e3o de Inconstitucionalidade\", \"marker\": {\"color\": \"#B6E880\"}, \"name\": \"Declara\\u00e7\\u00e3o de Inconstitucionalidade\", \"offsetgroup\": \"Declara\\u00e7\\u00e3o de Inconstitucionalidade\", \"orientation\": \"v\", \"showlegend\": true, \"textposition\": \"auto\", \"type\": \"bar\", \"x\": [12], \"xaxis\": \"x\", \"y\": [1], \"yaxis\": \"y\"}, {\"alignmentgroup\": \"True\", \"hovertemplate\": \"type=Declarat\\u00f3ria de Constitucionalidade<br>Mes=%{x}<br>count=%{y}<extra></extra>\", \"legendgroup\": \"Declarat\\u00f3ria de Constitucionalidade\", \"marker\": {\"color\": \"#FF97FF\"}, \"name\": \"Declarat\\u00f3ria de Constitucionalidade\", \"offsetgroup\": \"Declarat\\u00f3ria de Constitucionalidade\", \"orientation\": \"v\", \"showlegend\": true, \"textposition\": \"auto\", \"type\": \"bar\", \"x\": [12, 7], \"xaxis\": \"x\", \"y\": [1, 1], \"yaxis\": \"y\"}],\n",
       "                        {\"barmode\": \"relative\", \"legend\": {\"title\": {\"text\": \"type\"}, \"tracegroupgap\": 0}, \"margin\": {\"t\": 60}, \"template\": {\"data\": {\"bar\": [{\"error_x\": {\"color\": \"#2a3f5f\"}, \"error_y\": {\"color\": \"#2a3f5f\"}, \"marker\": {\"line\": {\"color\": \"#E5ECF6\", \"width\": 0.5}}, \"type\": \"bar\"}], \"barpolar\": [{\"marker\": {\"line\": {\"color\": \"#E5ECF6\", \"width\": 0.5}}, \"type\": \"barpolar\"}], \"carpet\": [{\"aaxis\": {\"endlinecolor\": \"#2a3f5f\", \"gridcolor\": \"white\", \"linecolor\": \"white\", \"minorgridcolor\": \"white\", \"startlinecolor\": \"#2a3f5f\"}, \"baxis\": {\"endlinecolor\": \"#2a3f5f\", \"gridcolor\": \"white\", \"linecolor\": \"white\", \"minorgridcolor\": \"white\", \"startlinecolor\": \"#2a3f5f\"}, \"type\": \"carpet\"}], \"choropleth\": [{\"colorbar\": {\"outlinewidth\": 0, \"ticks\": \"\"}, \"type\": \"choropleth\"}], \"contour\": [{\"colorbar\": {\"outlinewidth\": 0, \"ticks\": \"\"}, \"colorscale\": [[0.0, \"#0d0887\"], [0.1111111111111111, \"#46039f\"], [0.2222222222222222, \"#7201a8\"], [0.3333333333333333, \"#9c179e\"], [0.4444444444444444, \"#bd3786\"], [0.5555555555555556, \"#d8576b\"], [0.6666666666666666, \"#ed7953\"], [0.7777777777777778, \"#fb9f3a\"], [0.8888888888888888, \"#fdca26\"], [1.0, \"#f0f921\"]], \"type\": \"contour\"}], \"contourcarpet\": [{\"colorbar\": {\"outlinewidth\": 0, \"ticks\": \"\"}, \"type\": \"contourcarpet\"}], \"heatmap\": [{\"colorbar\": {\"outlinewidth\": 0, \"ticks\": \"\"}, \"colorscale\": [[0.0, \"#0d0887\"], [0.1111111111111111, \"#46039f\"], [0.2222222222222222, \"#7201a8\"], [0.3333333333333333, \"#9c179e\"], [0.4444444444444444, \"#bd3786\"], [0.5555555555555556, \"#d8576b\"], [0.6666666666666666, \"#ed7953\"], [0.7777777777777778, \"#fb9f3a\"], [0.8888888888888888, \"#fdca26\"], [1.0, \"#f0f921\"]], \"type\": \"heatmap\"}], \"heatmapgl\": [{\"colorbar\": {\"outlinewidth\": 0, \"ticks\": \"\"}, \"colorscale\": [[0.0, \"#0d0887\"], [0.1111111111111111, \"#46039f\"], [0.2222222222222222, \"#7201a8\"], [0.3333333333333333, \"#9c179e\"], [0.4444444444444444, \"#bd3786\"], [0.5555555555555556, \"#d8576b\"], [0.6666666666666666, \"#ed7953\"], [0.7777777777777778, \"#fb9f3a\"], [0.8888888888888888, \"#fdca26\"], [1.0, \"#f0f921\"]], \"type\": \"heatmapgl\"}], \"histogram\": [{\"marker\": {\"colorbar\": {\"outlinewidth\": 0, \"ticks\": \"\"}}, \"type\": \"histogram\"}], \"histogram2d\": [{\"colorbar\": {\"outlinewidth\": 0, \"ticks\": \"\"}, \"colorscale\": [[0.0, \"#0d0887\"], [0.1111111111111111, \"#46039f\"], [0.2222222222222222, \"#7201a8\"], [0.3333333333333333, \"#9c179e\"], [0.4444444444444444, \"#bd3786\"], [0.5555555555555556, \"#d8576b\"], [0.6666666666666666, \"#ed7953\"], [0.7777777777777778, \"#fb9f3a\"], [0.8888888888888888, \"#fdca26\"], [1.0, \"#f0f921\"]], \"type\": \"histogram2d\"}], \"histogram2dcontour\": [{\"colorbar\": {\"outlinewidth\": 0, \"ticks\": \"\"}, \"colorscale\": [[0.0, \"#0d0887\"], [0.1111111111111111, \"#46039f\"], [0.2222222222222222, \"#7201a8\"], [0.3333333333333333, \"#9c179e\"], [0.4444444444444444, \"#bd3786\"], [0.5555555555555556, \"#d8576b\"], [0.6666666666666666, \"#ed7953\"], [0.7777777777777778, \"#fb9f3a\"], [0.8888888888888888, \"#fdca26\"], [1.0, \"#f0f921\"]], \"type\": \"histogram2dcontour\"}], \"mesh3d\": [{\"colorbar\": {\"outlinewidth\": 0, \"ticks\": \"\"}, \"type\": \"mesh3d\"}], \"parcoords\": [{\"line\": {\"colorbar\": {\"outlinewidth\": 0, \"ticks\": \"\"}}, \"type\": \"parcoords\"}], \"pie\": [{\"automargin\": true, \"type\": \"pie\"}], \"scatter\": [{\"marker\": {\"colorbar\": {\"outlinewidth\": 0, \"ticks\": \"\"}}, \"type\": \"scatter\"}], \"scatter3d\": [{\"line\": {\"colorbar\": {\"outlinewidth\": 0, \"ticks\": \"\"}}, \"marker\": {\"colorbar\": {\"outlinewidth\": 0, \"ticks\": \"\"}}, \"type\": \"scatter3d\"}], \"scattercarpet\": [{\"marker\": {\"colorbar\": {\"outlinewidth\": 0, \"ticks\": \"\"}}, \"type\": \"scattercarpet\"}], \"scattergeo\": [{\"marker\": {\"colorbar\": {\"outlinewidth\": 0, \"ticks\": \"\"}}, \"type\": \"scattergeo\"}], \"scattergl\": [{\"marker\": {\"colorbar\": {\"outlinewidth\": 0, \"ticks\": \"\"}}, \"type\": \"scattergl\"}], \"scattermapbox\": [{\"marker\": {\"colorbar\": {\"outlinewidth\": 0, \"ticks\": \"\"}}, \"type\": \"scattermapbox\"}], \"scatterpolar\": [{\"marker\": {\"colorbar\": {\"outlinewidth\": 0, \"ticks\": \"\"}}, \"type\": \"scatterpolar\"}], \"scatterpolargl\": [{\"marker\": {\"colorbar\": {\"outlinewidth\": 0, \"ticks\": \"\"}}, \"type\": \"scatterpolargl\"}], \"scatterternary\": [{\"marker\": {\"colorbar\": {\"outlinewidth\": 0, \"ticks\": \"\"}}, \"type\": \"scatterternary\"}], \"surface\": [{\"colorbar\": {\"outlinewidth\": 0, \"ticks\": \"\"}, \"colorscale\": [[0.0, \"#0d0887\"], [0.1111111111111111, \"#46039f\"], [0.2222222222222222, \"#7201a8\"], [0.3333333333333333, \"#9c179e\"], [0.4444444444444444, \"#bd3786\"], [0.5555555555555556, \"#d8576b\"], [0.6666666666666666, \"#ed7953\"], [0.7777777777777778, \"#fb9f3a\"], [0.8888888888888888, \"#fdca26\"], [1.0, \"#f0f921\"]], \"type\": \"surface\"}], \"table\": [{\"cells\": {\"fill\": {\"color\": \"#EBF0F8\"}, \"line\": {\"color\": \"white\"}}, \"header\": {\"fill\": {\"color\": \"#C8D4E3\"}, \"line\": {\"color\": \"white\"}}, \"type\": \"table\"}]}, \"layout\": {\"annotationdefaults\": {\"arrowcolor\": \"#2a3f5f\", \"arrowhead\": 0, \"arrowwidth\": 1}, \"coloraxis\": {\"colorbar\": {\"outlinewidth\": 0, \"ticks\": \"\"}}, \"colorscale\": {\"diverging\": [[0, \"#8e0152\"], [0.1, \"#c51b7d\"], [0.2, \"#de77ae\"], [0.3, \"#f1b6da\"], [0.4, \"#fde0ef\"], [0.5, \"#f7f7f7\"], [0.6, \"#e6f5d0\"], [0.7, \"#b8e186\"], [0.8, \"#7fbc41\"], [0.9, \"#4d9221\"], [1, \"#276419\"]], \"sequential\": [[0.0, \"#0d0887\"], [0.1111111111111111, \"#46039f\"], [0.2222222222222222, \"#7201a8\"], [0.3333333333333333, \"#9c179e\"], [0.4444444444444444, \"#bd3786\"], [0.5555555555555556, \"#d8576b\"], [0.6666666666666666, \"#ed7953\"], [0.7777777777777778, \"#fb9f3a\"], [0.8888888888888888, \"#fdca26\"], [1.0, \"#f0f921\"]], \"sequentialminus\": [[0.0, \"#0d0887\"], [0.1111111111111111, \"#46039f\"], [0.2222222222222222, \"#7201a8\"], [0.3333333333333333, \"#9c179e\"], [0.4444444444444444, \"#bd3786\"], [0.5555555555555556, \"#d8576b\"], [0.6666666666666666, \"#ed7953\"], [0.7777777777777778, \"#fb9f3a\"], [0.8888888888888888, \"#fdca26\"], [1.0, \"#f0f921\"]]}, \"colorway\": [\"#636efa\", \"#EF553B\", \"#00cc96\", \"#ab63fa\", \"#FFA15A\", \"#19d3f3\", \"#FF6692\", \"#B6E880\", \"#FF97FF\", \"#FECB52\"], \"font\": {\"color\": \"#2a3f5f\"}, \"geo\": {\"bgcolor\": \"white\", \"lakecolor\": \"white\", \"landcolor\": \"#E5ECF6\", \"showlakes\": true, \"showland\": true, \"subunitcolor\": \"white\"}, \"hoverlabel\": {\"align\": \"left\"}, \"hovermode\": \"closest\", \"mapbox\": {\"style\": \"light\"}, \"paper_bgcolor\": \"white\", \"plot_bgcolor\": \"#E5ECF6\", \"polar\": {\"angularaxis\": {\"gridcolor\": \"white\", \"linecolor\": \"white\", \"ticks\": \"\"}, \"bgcolor\": \"#E5ECF6\", \"radialaxis\": {\"gridcolor\": \"white\", \"linecolor\": \"white\", \"ticks\": \"\"}}, \"scene\": {\"xaxis\": {\"backgroundcolor\": \"#E5ECF6\", \"gridcolor\": \"white\", \"gridwidth\": 2, \"linecolor\": \"white\", \"showbackground\": true, \"ticks\": \"\", \"zerolinecolor\": \"white\"}, \"yaxis\": {\"backgroundcolor\": \"#E5ECF6\", \"gridcolor\": \"white\", \"gridwidth\": 2, \"linecolor\": \"white\", \"showbackground\": true, \"ticks\": \"\", \"zerolinecolor\": \"white\"}, \"zaxis\": {\"backgroundcolor\": \"#E5ECF6\", \"gridcolor\": \"white\", \"gridwidth\": 2, \"linecolor\": \"white\", \"showbackground\": true, \"ticks\": \"\", \"zerolinecolor\": \"white\"}}, \"shapedefaults\": {\"line\": {\"color\": \"#2a3f5f\"}}, \"ternary\": {\"aaxis\": {\"gridcolor\": \"white\", \"linecolor\": \"white\", \"ticks\": \"\"}, \"baxis\": {\"gridcolor\": \"white\", \"linecolor\": \"white\", \"ticks\": \"\"}, \"bgcolor\": \"#E5ECF6\", \"caxis\": {\"gridcolor\": \"white\", \"linecolor\": \"white\", \"ticks\": \"\"}}, \"title\": {\"x\": 0.05}, \"xaxis\": {\"automargin\": true, \"gridcolor\": \"white\", \"linecolor\": \"white\", \"ticks\": \"\", \"title\": {\"standoff\": 15}, \"zerolinecolor\": \"white\", \"zerolinewidth\": 2}, \"yaxis\": {\"automargin\": true, \"gridcolor\": \"white\", \"linecolor\": \"white\", \"ticks\": \"\", \"title\": {\"standoff\": 15}, \"zerolinecolor\": \"white\", \"zerolinewidth\": 2}}}, \"xaxis\": {\"anchor\": \"y\", \"domain\": [0.0, 1.0], \"title\": {\"text\": \"Mes\"}}, \"yaxis\": {\"anchor\": \"x\", \"domain\": [0.0, 1.0], \"title\": {\"text\": \"count\"}}},\n",
       "                        {\"responsive\": true}\n",
       "                    ).then(function(){\n",
       "                            \n",
       "var gd = document.getElementById('c2ee8933-8fe9-49b8-96f0-cef09bf06a15');\n",
       "var x = new MutationObserver(function (mutations, observer) {{\n",
       "        var display = window.getComputedStyle(gd).display;\n",
       "        if (!display || display === 'none') {{\n",
       "            console.log([gd, 'removed!']);\n",
       "            Plotly.purge(gd);\n",
       "            observer.disconnect();\n",
       "        }}\n",
       "}});\n",
       "\n",
       "// Listen for the removal of the full notebook cells\n",
       "var notebookContainer = gd.closest('#notebook-container');\n",
       "if (notebookContainer) {{\n",
       "    x.observe(notebookContainer, {childList: true});\n",
       "}}\n",
       "\n",
       "// Listen for the clearing of the current output cell\n",
       "var outputEl = gd.closest('.output');\n",
       "if (outputEl) {{\n",
       "    x.observe(outputEl, {childList: true});\n",
       "}}\n",
       "\n",
       "                        })\n",
       "                };\n",
       "                });\n",
       "            </script>\n",
       "        </div>"
      ]
     },
     "metadata": {},
     "output_type": "display_data"
    }
   ],
   "source": [
    "print(df_count_day_type.columns)\n",
    "df_count_day_type_top20_year = df_count_day_type[['type','count','Mes']].groupby(['type','Mes']).aggregate({\"count\":\"sum\"}).reset_index().sort_values(by='count',ascending=False)\n",
    "df_count_day_type_top20_year = df_count_day_type_top20_year#.head(100)\n",
    "display(df_count_day_type_top20_year.head(5))\n",
    "\n",
    "scatter_plot_top20_year = px.bar(df_count_day_type_top20_year, x=\"Mes\", y=\"count\",color='type')\n",
    "pio.show(scatter_plot_top20_year)"
   ]
  },
  {
   "cell_type": "code",
   "execution_count": 279,
   "metadata": {},
   "outputs": [
    {
     "data": {
      "text/html": [
       "<div>\n",
       "<style scoped>\n",
       "    .dataframe tbody tr th:only-of-type {\n",
       "        vertical-align: middle;\n",
       "    }\n",
       "\n",
       "    .dataframe tbody tr th {\n",
       "        vertical-align: top;\n",
       "    }\n",
       "\n",
       "    .dataframe thead th {\n",
       "        text-align: right;\n",
       "    }\n",
       "</style>\n",
       "<table border=\"1\" class=\"dataframe\">\n",
       "  <thead>\n",
       "    <tr style=\"text-align: right;\">\n",
       "      <th></th>\n",
       "      <th>judgmentDate</th>\n",
       "      <th>count</th>\n",
       "    </tr>\n",
       "  </thead>\n",
       "  <tbody>\n",
       "    <tr>\n",
       "      <th>0</th>\n",
       "      <td>2000-12-31</td>\n",
       "      <td>23.426102</td>\n",
       "    </tr>\n",
       "    <tr>\n",
       "      <th>1</th>\n",
       "      <td>2001-12-31</td>\n",
       "      <td>28.331988</td>\n",
       "    </tr>\n",
       "    <tr>\n",
       "      <th>2</th>\n",
       "      <td>2002-12-31</td>\n",
       "      <td>34.729339</td>\n",
       "    </tr>\n",
       "  </tbody>\n",
       "</table>\n",
       "</div>"
      ],
      "text/plain": [
       "  judgmentDate      count\n",
       "0   2000-12-31  23.426102\n",
       "1   2001-12-31  28.331988\n",
       "2   2002-12-31  34.729339"
      ]
     },
     "metadata": {},
     "output_type": "display_data"
    },
    {
     "data": {
      "text/html": [
       "<div>\n",
       "<style scoped>\n",
       "    .dataframe tbody tr th:only-of-type {\n",
       "        vertical-align: middle;\n",
       "    }\n",
       "\n",
       "    .dataframe tbody tr th {\n",
       "        vertical-align: top;\n",
       "    }\n",
       "\n",
       "    .dataframe thead th {\n",
       "        text-align: right;\n",
       "    }\n",
       "</style>\n",
       "<table border=\"1\" class=\"dataframe\">\n",
       "  <thead>\n",
       "    <tr style=\"text-align: right;\">\n",
       "      <th></th>\n",
       "      <th>judgmentDate</th>\n",
       "      <th>count</th>\n",
       "    </tr>\n",
       "  </thead>\n",
       "  <tbody>\n",
       "    <tr>\n",
       "      <th>0</th>\n",
       "      <td>2000-12-31</td>\n",
       "      <td>27104</td>\n",
       "    </tr>\n",
       "    <tr>\n",
       "      <th>1</th>\n",
       "      <td>2001-12-31</td>\n",
       "      <td>49156</td>\n",
       "    </tr>\n",
       "    <tr>\n",
       "      <th>2</th>\n",
       "      <td>2002-12-31</td>\n",
       "      <td>67236</td>\n",
       "    </tr>\n",
       "  </tbody>\n",
       "</table>\n",
       "</div>"
      ],
      "text/plain": [
       "  judgmentDate  count\n",
       "0   2000-12-31  27104\n",
       "1   2001-12-31  49156\n",
       "2   2002-12-31  67236"
      ]
     },
     "metadata": {},
     "output_type": "display_data"
    },
    {
     "data": {
      "image/png": "[encoded data removed]",
      "text/plain": [
       "<Figure size 1296x720 with 1 Axes>"
      ]
     },
     "metadata": {
      "needs_background": "light"
     },
     "output_type": "display_data"
    }
   ],
   "source": [
    "dfMeean = df_count_day_type[['count']].resample('Y').mean().reset_index()\n",
    "dfSuum = df_count_day_type[['count']].resample('Y').sum().reset_index()\n",
    "\n",
    "display(dfMeean.head(3))\n",
    "display(dfSuum.head(3))\n",
    "\n",
    "dfMeanSum = pd.merge(dfMeean,dfSuum,on='judgmentDate')\n",
    "\n",
    "dfMeanSum.index = dfMeanSum['judgmentDate']\n",
    "del dfMeanSum['judgmentDate']\n",
    "\n",
    "dfMeanSumNorm=(dfMeanSum-dfMeanSum.min())/(dfMeanSum.max()-dfMeanSum.min())\n",
    "#display(dfMeanSumNorm.head(3))\n",
    "dfMeanSumNorm = dfMeanSumNorm.reset_index()\n",
    "#display(dfMeanSumNorm.head(3))\n",
    "\n",
    "plt.plot(dfMeanSumNorm['judgmentDate'], dfMeanSumNorm['count_x'],'b-',  label='MEAN')\n",
    "plt.plot(dfMeanSumNorm['judgmentDate'], dfMeanSumNorm['count_y'],'r-',  label='SUM')\n",
    "\n",
    "plt.legend(loc='best')\n",
    "plt.show()"
   ]
  },
  {
   "cell_type": "code",
   "execution_count": null,
   "metadata": {},
   "outputs": [],
   "source": []
  },
  {
   "cell_type": "code",
   "execution_count": null,
   "metadata": {},
   "outputs": [],
   "source": []
  }
 ],
 "metadata": {
  "kernelspec": {
   "display_name": "Python 3",
   "language": "python",
   "name": "python3"
  },
  "language_info": {
   "codemirror_mode": {
    "name": "ipython",
    "version": 3
   },
   "file_extension": ".py",
   "mimetype": "text/x-python",
   "name": "python",
   "nbconvert_exporter": "python",
   "pygments_lexer": "ipython3",
   "version": "3.7.6"
  }
 },
 "nbformat": 4,
 "nbformat_minor": 4
}
