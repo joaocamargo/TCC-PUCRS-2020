{
 "cells": [
  {
   "cell_type": "code",
   "execution_count": 1,
   "metadata": {},
   "outputs": [
    {
     "ename": "ModuleNotFoundError",
     "evalue": "No module named 'skoot'",
     "output_type": "error",
     "traceback": [
      "\u001b[0;31m---------------------------------------------------------------------------\u001b[0m",
      "\u001b[0;31mModuleNotFoundError\u001b[0m                       Traceback (most recent call last)",
      "\u001b[0;32m<ipython-input-1-89f433c1ec28>\u001b[0m in \u001b[0;36m<module>\u001b[0;34m\u001b[0m\n\u001b[0;32m----> 1\u001b[0;31m \u001b[0;32mfrom\u001b[0m \u001b[0mskoot\u001b[0m\u001b[0;34m.\u001b[0m\u001b[0mdatasets\u001b[0m \u001b[0;32mimport\u001b[0m \u001b[0mload_adult_df\u001b[0m\u001b[0;34m\u001b[0m\u001b[0;34m\u001b[0m\u001b[0m\n\u001b[0m\u001b[1;32m      2\u001b[0m \u001b[0;32mfrom\u001b[0m \u001b[0mskoot\u001b[0m\u001b[0;34m.\u001b[0m\u001b[0mfeature_selection\u001b[0m \u001b[0;32mimport\u001b[0m \u001b[0mFeatureFilter\u001b[0m\u001b[0;34m\u001b[0m\u001b[0;34m\u001b[0m\u001b[0m\n\u001b[1;32m      3\u001b[0m \u001b[0;32mfrom\u001b[0m \u001b[0mskoot\u001b[0m\u001b[0;34m.\u001b[0m\u001b[0mdecomposition\u001b[0m \u001b[0;32mimport\u001b[0m \u001b[0mSelectivePCA\u001b[0m\u001b[0;34m\u001b[0m\u001b[0;34m\u001b[0m\u001b[0m\n\u001b[1;32m      4\u001b[0m \u001b[0;32mfrom\u001b[0m \u001b[0mskoot\u001b[0m\u001b[0;34m.\u001b[0m\u001b[0mpreprocessing\u001b[0m \u001b[0;32mimport\u001b[0m \u001b[0mDummyEncoder\u001b[0m\u001b[0;34m\u001b[0m\u001b[0;34m\u001b[0m\u001b[0m\n\u001b[1;32m      5\u001b[0m \u001b[0;32mfrom\u001b[0m \u001b[0mskoot\u001b[0m\u001b[0;34m.\u001b[0m\u001b[0mutils\u001b[0m\u001b[0;34m.\u001b[0m\u001b[0mdataframe\u001b[0m \u001b[0;32mimport\u001b[0m \u001b[0mget_numeric_columns\u001b[0m\u001b[0;34m\u001b[0m\u001b[0;34m\u001b[0m\u001b[0m\n",
      "\u001b[0;31mModuleNotFoundError\u001b[0m: No module named 'skoot'"
     ]
    }
   ],
   "source": [
    "from skoot.datasets import load_adult_df\n",
    "from skoot.feature_selection import FeatureFilter\n",
    "from skoot.decomposition import SelectivePCA\n",
    "from skoot.preprocessing import DummyEncoder\n",
    "from skoot.utils.dataframe import get_numeric_columns\n",
    "from skoot.utils.dataframe import get_categorical_columns\n",
    "from sklearn.model_selection import train_test_split\n",
    "from sklearn.pipeline import Pipeline\n",
    "from sklearn.ensemble import RandomForestClassifier\n",
    "from sklearn.metrics import accuracy_score\n",
    "\n",
    "# load the dataset with the skoot-native loader & split it\n",
    "adult = load_adult_df(tgt_name=\"target\")\n",
    "y = adult.pop(\"target\")\n",
    "X_train, X_test, y_train, y_test = train_test_split(\n",
    "    adult, y, random_state=42, test_size=0.2)\n",
    "    \n",
    "# get numeric and categorical feature names\n",
    "num_cols = get_numeric_columns(X_train).columns\n",
    "obj_cols = get_categorical_columns(X_train).columns\n",
    "\n",
    "# remove the education-num from the num_cols since we're going to remove it\n",
    "num_cols = num_cols[~(num_cols == \"education-num\")]\n",
    "    \n",
    "# build a pipeline\n",
    "pipe = Pipeline([\n",
    "    # drop out the ordinal level that's otherwise equal to \"education\"\n",
    "    (\"dropper\", FeatureFilter(cols=[\"education-num\"])),\n",
    "    \n",
    "    # decompose the numeric features with PCA\n",
    "    (\"pca\", SelectivePCA(cols=num_cols)),\n",
    "    \n",
    "    # dummy encode the categorical features\n",
    "    (\"dummy\", DummyEncoder(cols=obj_cols, handle_unknown=\"ignore\")),\n",
    "    \n",
    "    # and a simple classifier class\n",
    "    (\"clf\", RandomForestClassifier(n_estimators=100, random_state=42))\n",
    "])\n",
    "\n",
    "pipe.fit(X_train, y_train)\n",
    "\n",
    "# produce predictions\n",
    "preds = pipe.predict(X_test)\n",
    "print(\"Test accuracy: %.3f\" % accuracy_score(y_test, preds))"
   ]
  },
  {
   "cell_type": "code",
   "execution_count": null,
   "metadata": {},
   "outputs": [],
   "source": [
    "from pyramid.arima import auto_arima\n"
   ]
  },
  {
   "cell_type": "code",
   "execution_count": null,
   "metadata": {},
   "outputs": [],
   "source": []
  }
 ],
 "metadata": {
  "kernelspec": {
   "display_name": "Python 3",
   "language": "python",
   "name": "python3"
  },
  "language_info": {
   "codemirror_mode": {
    "name": "ipython",
    "version": 3
   },
   "file_extension": ".py",
   "mimetype": "text/x-python",
   "name": "python",
   "nbconvert_exporter": "python",
   "pygments_lexer": "ipython3",
   "version": "3.7.6"
  }
 },
 "nbformat": 4,
 "nbformat_minor": 4
}
