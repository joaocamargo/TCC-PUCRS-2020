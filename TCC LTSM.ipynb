{
 "cells": [
  {
   "cell_type": "code",
   "execution_count": 7,
   "metadata": {},
   "outputs": [
    {
     "name": "stdout",
     "output_type": "stream",
     "text": [
      "scipy: 1.4.1\n",
      "numpy: 1.18.2\n",
      "matplotlib: 3.2.1\n",
      "pandas: 1.0.3\n",
      "sklearn: 0.22.2.post1\n",
      "statsmodels: 0.11.1\n"
     ]
    }
   ],
   "source": [
    "import pandas as pd\n",
    "import numpy as np\n",
    "import re\n",
    "import string\n",
    "import unicodedata\n",
    "import plotly_express as px\n",
    "import plotly.io as pio\n",
    "from sklearn import preprocessing\n",
    "import pandas_profiling\n",
    "import datetime\n",
    "%matplotlib inline\n",
    "import matplotlib.style\n",
    "import matplotlib as mpl\n",
    "import matplotlib.pyplot as plt \n",
    "from sklearn import preprocessing\n",
    "import warnings\n",
    "import math\n",
    "import plotly.express as px\n",
    "import statsmodels\n",
    "import scipy\n",
    "import sklearn\n",
    "from statsmodels.tsa.seasonal import seasonal_decompose      # for ETS Plots\n",
    "from pmdarima import auto_arima                              # for determining ARIMA orders\n",
    "from statsmodels.tsa.statespace.sarimax import SARIMAX\n",
    "from pmdarima import auto_arima\n",
    "from statsmodels.tsa.statespace.tools import diff\n",
    "from statsmodels.tsa.arima.model import ARIMA\n",
    "from statsmodels.tools.eval_measures import rmse\n",
    "from sklearn.metrics import mean_squared_error\n",
    "from statsmodels.tsa.holtwinters import SimpleExpSmoothing\n",
    "from statsmodels.tsa.holtwinters import ExponentialSmoothing\n",
    "from statsmodels.tsa.api import VAR\n",
    "from statsmodels.tsa.stattools import grangercausalitytests\n",
    "\n",
    "\n",
    "import math\n",
    "\n",
    "\n",
    "warnings.filterwarnings(\"ignore\")\n",
    "\n",
    "# scipy\n",
    "print('scipy: %s' % scipy.__version__)\n",
    "# numpy\n",
    "print('numpy: %s' % np.__version__)\n",
    "# matplotlib\n",
    "print('matplotlib: %s' % matplotlib.__version__)\n",
    "# pandas\n",
    "print('pandas: %s' % pd.__version__)\n",
    "# scikit-learn\n",
    "print('sklearn: %s' % sklearn.__version__)\n",
    "# statsmodels\n",
    "print('statsmodels: %s' % statsmodels.__version__)\n",
    "#print('unicodedata: %s' % unicodedata.__version__)"
   ]
  },
  {
   "cell_type": "code",
   "execution_count": 8,
   "metadata": {},
   "outputs": [],
   "source": [
    "#verificar feriados \n",
    "def isHoliday(dia,mes):\n",
    "    if dia == 1:\n",
    "        if mes == 1 or mes ==5:\n",
    "            return(True)\n",
    "    if (dia ==2 or dia==15) and mes==11:\n",
    "        return(True)\n",
    "    if (dia ==7 or dia==20) and mes == 9:\n",
    "        return(True)\n",
    "    if mes == 4 and dia==21:\n",
    "        return(True)    \n",
    "    if mes==10 and (dia==12):\n",
    "        return(True)\n",
    "    if mes==12 and (dia ==25 or dia ==24):\n",
    "        return(True)\n",
    "    if mes==12 and dia==31:\n",
    "        return(True)\n",
    "    return(False)   \n",
    "\n",
    "def AdjustFeriado(x):\n",
    "    #print(x)\n",
    "    if x['Feriado'] == 0 or x['Feriado'] == 1:\n",
    "        return(x['Feriado'])\n",
    "       # print('else')\n",
    "       # print(x['Feriado'] >=0)\n",
    "    else:\n",
    "        dia = x['judgmentDate'].day\n",
    "        mes = x['judgmentDate'].month \n",
    "        feriado = 0 if isHoliday(dia,mes) == True else 1\n",
    "        return(feriado)\n",
    "    \n",
    "def AdjustWeekDay(x):    \n",
    "    if x['weekDay'] > 0:\n",
    "        return(x['weekDay'])\n",
    "    else:\n",
    "        return(x['judgmentDate'].weekday())        \n",
    "    \n",
    "def AdjustWeekType(x):    \n",
    "    if x['weekType'] > 0:\n",
    "        return(x['weekType'])\n",
    "    else:\n",
    "        weekType = 1 if x['judgmentDate'].weekday() <5 else 0\n",
    "        return(weekType)     "
   ]
  },
  {
   "cell_type": "code",
   "execution_count": 9,
   "metadata": {},
   "outputs": [],
   "source": [
    "from statsmodels.tsa.stattools import adfuller\n",
    "\n",
    "def adf_teste(series,title='',prints=False):    \n",
    "    summay = ''\n",
    "    if prints:\n",
    "        print(f'Augmented Dickey-Fuller Test: {title}')\n",
    "    result = adfuller(series.dropna(),autolag='AIC',) \n",
    "    \n",
    "    labels = ['ADF test statistic','p-value','# lags used','# observations']\n",
    "    out = pd.Series(result[0:4],index=labels)\n",
    "\n",
    "    for key,val in result[4].items():        \n",
    "        out[f'critical value ({key})']=val\n",
    "        \n",
    "    if prints:\n",
    "        display(pd.DataFrame(out))\n",
    "    \n",
    "    \n",
    "    \n",
    "    if result[1] <= 0.05:\n",
    "        summary = \"Strong evidence against the null hypothesis \\n Reject the null hypothesis \\n Data has no unit root and is stationary\"\n",
    "        if prints:\n",
    "            print(\"Strong evidence against the null hypothesis\")\n",
    "            print(\"Reject the null hypothesis\")\n",
    "            print(\"Data has no unit root and is stationary\")        \n",
    "    else:\n",
    "        summary = \"Weak evidence against the null hypothesis \\n Fail to reject the null hypothesis \\n Data has a unit root and is non-stationary\"\n",
    "        if prints:\n",
    "            print(\"Weak evidence against the null hypothesis\")\n",
    "            print(\"Fail to reject the null hypothesis\")\n",
    "            print(\"Data has a unit root and is non-stationary\")\n",
    "            \n",
    "    \n",
    "    return(result[1],title,result[0],result[2],result[3],result[4],result[5],summary) \n",
    "\n",
    "def TooDifferent(item1,item2):\n",
    "    print(df[item1].sum(),'',df[item2].sum())\n",
    "    return (df[item1].sum()/10 >  df[item2].sum() or  df[item2].sum()/10 >  df[item1].sum())"
   ]
  },
  {
   "cell_type": "code",
   "execution_count": 10,
   "metadata": {},
   "outputs": [],
   "source": [
    "#carrega\n",
    "df_count_day_type = pd.read_csv('./data_joao/df_count_day_type_modificado.csv',sep=\",\")#,parse_dates=['judgmentDate'])\n",
    "df_count_week_day_type = pd.read_csv('./data_joao/df_count_week_day_type_modificado.csv',sep=\",\")\n",
    "df_count_year_month_type = pd.read_csv('./data_joao/df_count_year_month_type_modificado.csv',sep=\",\")\n",
    "\n",
    "dfUniqueTypes = df_count_day_type['type'].unique()\n",
    "\n",
    "#cria indice\n",
    "df_count_day_type.index = pd.to_datetime(df_count_day_type['judgmentDate'])\n",
    "df_count_year_month_type.index = pd.to_datetime(df_count_year_month_type['yearMonth'])\n",
    "\n",
    "#deleta colunas que sobraram da importacao e da criacao do indice\n",
    "del df_count_day_type['Unnamed: 0']\n",
    "del df_count_week_day_type['Unnamed: 0']\n",
    "del df_count_year_month_type['Unnamed: 0']\n",
    "del df_count_day_type['judgmentDate']\n",
    "del df_count_year_month_type['yearMonth']\n",
    "\n",
    "#calcula o total do dia\n",
    "df_count_day_type['total'] = df_count_day_type.groupby(['judgmentDate'])['count'].agg('sum')\n",
    "#salva as informacoes que nao serao pivotadas\n",
    "ref = df_count_day_type[['weekDay','weekType','Feriado','total']]\n",
    "#realiza o pivot\n",
    "df_count_day_typeGRP = df_count_day_type.pivot(columns='type', values='count').fillna(0)\n",
    "\n",
    "#transforma tudo pra int (count)\n",
    "for i in df_count_day_typeGRP.columns:    \n",
    "        df_count_day_typeGRP[i] = df_count_day_typeGRP[i].astype(int)\n",
    "        \n",
    "#faz o merge com as que foram salvas antes do pivot        \n",
    "df_count_day_typeGRP = pd.merge(df_count_day_typeGRP,ref,on='judgmentDate',how='left')\n",
    "df_count_day_typeGRP = df_count_day_typeGRP.fillna(0)\n",
    "df_count_day_typeGRP = df_count_day_typeGRP.sort_values(by='judgmentDate').drop_duplicates()\n",
    "\n",
    "#remove duplicadas e nulas pra fazer a frequencia diaria\n",
    "df_count_day_typeGRP = df_count_day_typeGRP.sort_values(by='judgmentDate')\n",
    "df_count_day_typeGRP = df_count_day_typeGRP.drop_duplicates()\n",
    "df_count_day_typeGRP = df_count_day_typeGRP.dropna()\n",
    "\n",
    "\n",
    "df_count_day_typeGRP.sort_values(by='judgmentDate')\n",
    "df_count_day_typeGRP['Feriado'] = df_count_day_typeGRP['Feriado'].apply( lambda x: 0 if x==True else 1)\n",
    "df_count_day_typeGRP['weekType'] = pd.get_dummies(df_count_day_typeGRP['weekType'])\n",
    "df_count_day_typeGRP = df_count_day_typeGRP.asfreq('D') #precisa pois abaixo seto os que faltam\n",
    "\n",
    "#reseta o indice agora com todos os dias inclusive vazios e seta as informaçoes das datas novas (sem dados)\n",
    "df_count_day_typeGRP = df_count_day_typeGRP.reset_index()    \n",
    "df_count_day_typeGRP['Feriado'] = df_count_day_typeGRP.apply(AdjustFeriado,axis=1)\n",
    "df_count_day_typeGRP['weekDay'] = df_count_day_typeGRP.apply(AdjustWeekDay,axis=1)\n",
    "df_count_day_typeGRP['weekType'] = df_count_day_typeGRP.apply(AdjustWeekType,axis=1)\n",
    "\n",
    "#volta ao estado normal (com indice e frequencia)\n",
    "df_count_day_typeGRP.index = df_count_day_typeGRP['judgmentDate']\n",
    "del df_count_day_typeGRP['judgmentDate']\n",
    "df_count_day_typeGRP = df_count_day_typeGRP.asfreq('D')\n",
    "\n",
    "#seta para zerado as datas que nao existiam antes \n",
    "df_count_day_typeGRP = df_count_day_typeGRP.fillna(0)\n",
    "\n",
    "for i in df_count_day_typeGRP.columns:    \n",
    "        df_count_day_typeGRP[i] = df_count_day_typeGRP[i].astype(int)\n"
   ]
  },
  {
   "cell_type": "code",
   "execution_count": 11,
   "metadata": {},
   "outputs": [
    {
     "data": {
      "text/plain": [
       "array(['total', 'Apelação Cível', 'Agravo de Instrumento',\n",
       "       'Embargos de Declaração', 'Recurso Cível', 'Agravo',\n",
       "       'Apelação Crime', 'Habeas Corpus', 'Apelação e Reexame Necessário',\n",
       "       'Reexame Necessário', 'Recurso Crime', 'Conflito de Competência',\n",
       "       'Recurso em Sentido Estrito', 'Agravo Regimental',\n",
       "       'Mandado de Segurança', 'Embargos Infringentes e de Nulidade',\n",
       "       'weekDay', 'Embargos Infringentes', 'Ação Rescisória',\n",
       "       'Revisão Criminal', 'Correição Parcial', 'Conflito de Jurisdição',\n",
       "       'Feriado', 'Mandado de Injunção', 'Agravo Interno', 'weekType',\n",
       "       'Ação Direta de Inconstitucionalidade', 'Petição',\n",
       "       'Exceção de Suspeição', 'Mandado de Segurança Crime',\n",
       "       'Incidente de Uniformizacao Jurisprudencia', 'Carta Testemunhável',\n",
       "       'Representação Criminal', 'Recurso de Ofício',\n",
       "       'Cautelar Inominada', 'Ação Penal',\n",
       "       'Uniformização de Jurisprudência', 'Termo Circunstanciado',\n",
       "       'Restauração de Autos', 'Medida Cautelar Inominada',\n",
       "       'Medida Cautelar', 'Desaforamento', 'Crimes contra a honra',\n",
       "       'Incidente de Inconstitucionalidade',\n",
       "       'Impugnação à Assistência Judiciária',\n",
       "       'Impugnação ao Valor da Causa', 'Inquérito Policial', 'weekDay',\n",
       "       'weekType', 'Feriado'], dtype=object)"
      ]
     },
     "execution_count": 11,
     "metadata": {},
     "output_type": "execute_result"
    }
   ],
   "source": [
    "dfOutli = []\n",
    "df = df_count_day_typeGRP.resample('QS').sum().copy()\n",
    "df = df['2012-01-01':]\n",
    "valor = df['total'].sum()# - 1619483 - 1366115 - 813246\n",
    "for i in df.columns:    \n",
    "    dfOutli.append({'nome':i,'Qtd':df[i].sum(),'Percent':round((df[i].sum()*100)/valor,2),'QtdDiasZero':df[df[i]==0][[i]].count().item(),'QtdNaoZero':df[df[i]!=0][[i]].count().item()})\n",
    "\n",
    "    \n",
    "#PEGAR SO AQUELES QUE TEM QUANTIDADE SENAO NAO ADIANTA FAZER VAR\n",
    "    \n",
    "dfValidTypes = pd.DataFrame(dfOutli).sort_values(by='Percent',ascending=False)\n",
    "# ver apenas aqueles que tem dados em pelo menos 50% ou mais dos quartis\n",
    "#display(dfValidTypes[dfValidTypes['QtdNaoZero']>12])\n",
    "\n",
    "dfListOfTypes = np.array(dfValidTypes[dfValidTypes['QtdNaoZero']>12]['nome'])\n",
    "dfListOfTypes = np.append(dfListOfTypes,'weekDay')\n",
    "dfListOfTypes = np.append(dfListOfTypes,'weekType')\n",
    "dfListOfTypes = np.append(dfListOfTypes,'Feriado')\n",
    "dfListOfTypes"
   ]
  },
  {
   "cell_type": "code",
   "execution_count": 143,
   "metadata": {},
   "outputs": [],
   "source": [
    "df_count_day_typeGRP.head(3)\n",
    "df = df_count_day_typeGRP\n",
    "\n",
    "#USAR SOMENTE SERIES QUE NAO CONTENHAM POUCOS REGISTROS \n",
    "df = df[dfListOfTypes]\n",
    "dfMonth = df.resample('MS').sum()\n",
    "dfQuarter = df.resample('QS').sum()\n",
    "dfYear = df.resample('Y').sum()\n",
    "dfAllPeriod = df.resample('30A').sum()\n",
    "figsize=(12,8)\n",
    "field = 'total'"
   ]
  },
  {
   "cell_type": "code",
   "execution_count": 144,
   "metadata": {},
   "outputs": [],
   "source": [
    "dfMonth = dfMonth[['Habeas Corpus']]"
   ]
  },
  {
   "cell_type": "code",
   "execution_count": 145,
   "metadata": {},
   "outputs": [],
   "source": [
    "len(dfMonth)\n",
    "dfMonthTrain = dfMonth.iloc[:204]\n",
    "dfMonthTest =  dfMonth.iloc[204:]"
   ]
  },
  {
   "cell_type": "code",
   "execution_count": 146,
   "metadata": {},
   "outputs": [
    {
     "data": {
      "text/html": [
       "<div>\n",
       "<style scoped>\n",
       "    .dataframe tbody tr th:only-of-type {\n",
       "        vertical-align: middle;\n",
       "    }\n",
       "\n",
       "    .dataframe tbody tr th {\n",
       "        vertical-align: top;\n",
       "    }\n",
       "\n",
       "    .dataframe thead th {\n",
       "        text-align: right;\n",
       "    }\n",
       "</style>\n",
       "<table border=\"1\" class=\"dataframe\">\n",
       "  <thead>\n",
       "    <tr style=\"text-align: right;\">\n",
       "      <th></th>\n",
       "      <th>Habeas Corpus</th>\n",
       "    </tr>\n",
       "    <tr>\n",
       "      <th>judgmentDate</th>\n",
       "      <th></th>\n",
       "    </tr>\n",
       "  </thead>\n",
       "  <tbody>\n",
       "    <tr>\n",
       "      <th>2000-01-01</th>\n",
       "      <td>0</td>\n",
       "    </tr>\n",
       "    <tr>\n",
       "      <th>2000-02-01</th>\n",
       "      <td>0</td>\n",
       "    </tr>\n",
       "    <tr>\n",
       "      <th>2000-03-01</th>\n",
       "      <td>0</td>\n",
       "    </tr>\n",
       "    <tr>\n",
       "      <th>2000-04-01</th>\n",
       "      <td>2</td>\n",
       "    </tr>\n",
       "    <tr>\n",
       "      <th>2000-05-01</th>\n",
       "      <td>3</td>\n",
       "    </tr>\n",
       "    <tr>\n",
       "      <th>...</th>\n",
       "      <td>...</td>\n",
       "    </tr>\n",
       "    <tr>\n",
       "      <th>2016-08-01</th>\n",
       "      <td>1317</td>\n",
       "    </tr>\n",
       "    <tr>\n",
       "      <th>2016-09-01</th>\n",
       "      <td>1034</td>\n",
       "    </tr>\n",
       "    <tr>\n",
       "      <th>2016-10-01</th>\n",
       "      <td>1326</td>\n",
       "    </tr>\n",
       "    <tr>\n",
       "      <th>2016-11-01</th>\n",
       "      <td>1220</td>\n",
       "    </tr>\n",
       "    <tr>\n",
       "      <th>2016-12-01</th>\n",
       "      <td>1153</td>\n",
       "    </tr>\n",
       "  </tbody>\n",
       "</table>\n",
       "<p>204 rows × 1 columns</p>\n",
       "</div>"
      ],
      "text/plain": [
       "              Habeas Corpus\n",
       "judgmentDate               \n",
       "2000-01-01                0\n",
       "2000-02-01                0\n",
       "2000-03-01                0\n",
       "2000-04-01                2\n",
       "2000-05-01                3\n",
       "...                     ...\n",
       "2016-08-01             1317\n",
       "2016-09-01             1034\n",
       "2016-10-01             1326\n",
       "2016-11-01             1220\n",
       "2016-12-01             1153\n",
       "\n",
       "[204 rows x 1 columns]"
      ]
     },
     "execution_count": 146,
     "metadata": {},
     "output_type": "execute_result"
    }
   ],
   "source": [
    "dfMonthTrain"
   ]
  },
  {
   "cell_type": "code",
   "execution_count": 147,
   "metadata": {},
   "outputs": [],
   "source": [
    "# Necessário normalizar os valores \n",
    "from sklearn.preprocessing import MinMaxScaler"
   ]
  },
  {
   "cell_type": "code",
   "execution_count": 148,
   "metadata": {},
   "outputs": [
    {
     "data": {
      "text/plain": [
       "MinMaxScaler(copy=True, feature_range=(0, 1))"
      ]
     },
     "execution_count": 148,
     "metadata": {},
     "output_type": "execute_result"
    }
   ],
   "source": [
    "scaler = MinMaxScaler()\n",
    "scaler.fit(dfMonthTrain)"
   ]
  },
  {
   "cell_type": "code",
   "execution_count": 149,
   "metadata": {},
   "outputs": [],
   "source": [
    "scaleed_train = scaler.transform(dfMonthTrain)\n",
    "scaleed_test = scaler.transform(dfMonthTest)"
   ]
  },
  {
   "cell_type": "code",
   "execution_count": 150,
   "metadata": {},
   "outputs": [],
   "source": [
    "from keras.preprocessing.sequence import TimeseriesGenerator"
   ]
  },
  {
   "cell_type": "code",
   "execution_count": 265,
   "metadata": {},
   "outputs": [],
   "source": [
    "n_input =2 \n",
    "n_features = 1 \n",
    "\n",
    "generator = TimeseriesGenerator(scaleed_train, scaleed_train,length=n_input,batch_size=1)"
   ]
  },
  {
   "cell_type": "code",
   "execution_count": 266,
   "metadata": {},
   "outputs": [
    {
     "data": {
      "text/plain": [
       "((array([[[0.],\n",
       "          [0.]]]),\n",
       "  array([[0.]])),\n",
       " 204,\n",
       " 202)"
      ]
     },
     "execution_count": 266,
     "metadata": {},
     "output_type": "execute_result"
    }
   ],
   "source": [
    "generator[0],len(scaleed_train),len(generator)"
   ]
  },
  {
   "cell_type": "code",
   "execution_count": 267,
   "metadata": {},
   "outputs": [],
   "source": [
    "X,y = generator[0]"
   ]
  },
  {
   "cell_type": "code",
   "execution_count": 268,
   "metadata": {},
   "outputs": [],
   "source": [
    "from keras.models import Sequential\n",
    "from keras.layers import Dense\n",
    "from keras.layers import LSTM"
   ]
  },
  {
   "cell_type": "code",
   "execution_count": 269,
   "metadata": {},
   "outputs": [
    {
     "data": {
      "text/plain": [
       "<keras.preprocessing.sequence.TimeseriesGenerator at 0x155049690>"
      ]
     },
     "execution_count": 269,
     "metadata": {},
     "output_type": "execute_result"
    }
   ],
   "source": [
    "n_input =12\n",
    "n_features = 1 #quantidade de colunas, no caso só Y \n",
    "\n",
    "train_generator = TimeseriesGenerator(scaleed_train, scaleed_train,length=n_input,batch_size=1)\n",
    "\n",
    "train_generator"
   ]
  },
  {
   "cell_type": "code",
   "execution_count": 281,
   "metadata": {},
   "outputs": [],
   "source": [
    "model = Sequential()\n",
    "model.add(LSTM(25,activation='relu',input_shape=(n_input,n_features)))\n",
    "model.add(Dense(1))\n",
    "model.compile(optimizer='adam',loss='mse')"
   ]
  },
  {
   "cell_type": "code",
   "execution_count": 282,
   "metadata": {},
   "outputs": [
    {
     "name": "stdout",
     "output_type": "stream",
     "text": [
      "Model: \"sequential_17\"\n",
      "_________________________________________________________________\n",
      "Layer (type)                 Output Shape              Param #   \n",
      "=================================================================\n",
      "lstm_17 (LSTM)               (None, 25)                2700      \n",
      "_________________________________________________________________\n",
      "dense_15 (Dense)             (None, 1)                 26        \n",
      "=================================================================\n",
      "Total params: 2,726\n",
      "Trainable params: 2,726\n",
      "Non-trainable params: 0\n",
      "_________________________________________________________________\n"
     ]
    }
   ],
   "source": [
    "model.summary()"
   ]
  },
  {
   "cell_type": "code",
   "execution_count": 283,
   "metadata": {},
   "outputs": [
    {
     "name": "stdout",
     "output_type": "stream",
     "text": [
      "Epoch 1/25\n",
      "192/192 [==============================] - 1s 7ms/step - loss: 0.0221\n",
      "Epoch 2/25\n",
      "192/192 [==============================] - 1s 5ms/step - loss: 0.0085\n",
      "Epoch 3/25\n",
      "192/192 [==============================] - 1s 5ms/step - loss: 0.0091\n",
      "Epoch 4/25\n",
      "192/192 [==============================] - 1s 5ms/step - loss: 0.0080\n",
      "Epoch 5/25\n",
      "192/192 [==============================] - 1s 5ms/step - loss: 0.0090\n",
      "Epoch 6/25\n",
      "192/192 [==============================] - 1s 5ms/step - loss: 0.0082\n",
      "Epoch 7/25\n",
      "192/192 [==============================] - 1s 5ms/step - loss: 0.0077\n",
      "Epoch 8/25\n",
      "192/192 [==============================] - 1s 5ms/step - loss: 0.0080\n",
      "Epoch 9/25\n",
      "192/192 [==============================] - 1s 5ms/step - loss: 0.0082\n",
      "Epoch 10/25\n",
      "192/192 [==============================] - 1s 6ms/step - loss: 0.0082\n",
      "Epoch 11/25\n",
      "192/192 [==============================] - 1s 7ms/step - loss: 0.0082\n",
      "Epoch 12/25\n",
      "192/192 [==============================] - 1s 5ms/step - loss: 0.0083\n",
      "Epoch 13/25\n",
      "192/192 [==============================] - 1s 5ms/step - loss: 0.0089\n",
      "Epoch 14/25\n",
      "192/192 [==============================] - 1s 5ms/step - loss: 0.0085\n",
      "Epoch 15/25\n",
      "192/192 [==============================] - 1s 6ms/step - loss: 0.0081\n",
      "Epoch 16/25\n",
      "192/192 [==============================] - 1s 8ms/step - loss: 0.0085\n",
      "Epoch 17/25\n",
      "192/192 [==============================] - 1s 6ms/step - loss: 0.0085\n",
      "Epoch 18/25\n",
      "192/192 [==============================] - 1s 5ms/step - loss: 0.0080\n",
      "Epoch 19/25\n",
      "192/192 [==============================] - 1s 6ms/step - loss: 0.0076\n",
      "Epoch 20/25\n",
      "192/192 [==============================] - 1s 6ms/step - loss: 0.0093\n",
      "Epoch 21/25\n",
      "192/192 [==============================] - 1s 5ms/step - loss: 0.0082\n",
      "Epoch 22/25\n",
      "192/192 [==============================] - 1s 6ms/step - loss: 0.0078\n",
      "Epoch 23/25\n",
      "192/192 [==============================] - 1s 6ms/step - loss: 0.0079\n",
      "Epoch 24/25\n",
      "192/192 [==============================] - 1s 7ms/step - loss: 0.0085\n",
      "Epoch 25/25\n",
      "192/192 [==============================] - 1s 7ms/step - loss: 0.0079\n"
     ]
    },
    {
     "data": {
      "text/plain": [
       "<keras.callbacks.callbacks.History at 0x15553ebd0>"
      ]
     },
     "execution_count": 283,
     "metadata": {},
     "output_type": "execute_result"
    }
   ],
   "source": [
    "model.fit_generator(train_generator,epochs=25)"
   ]
  },
  {
   "cell_type": "code",
   "execution_count": 284,
   "metadata": {},
   "outputs": [
    {
     "data": {
      "text/plain": [
       "dict_keys(['loss'])"
      ]
     },
     "execution_count": 284,
     "metadata": {},
     "output_type": "execute_result"
    }
   ],
   "source": [
    "model.history.history.keys()"
   ]
  },
  {
   "cell_type": "code",
   "execution_count": 285,
   "metadata": {},
   "outputs": [
    {
     "data": {
      "text/plain": [
       "[<matplotlib.lines.Line2D at 0x1562a7710>]"
      ]
     },
     "execution_count": 285,
     "metadata": {},
     "output_type": "execute_result"
    },
    {
     "data": {
      "image/png": "[encoded data removed]",
      "text/plain": [
       "<Figure size 432x288 with 1 Axes>"
      ]
     },
     "metadata": {
      "needs_background": "light"
     },
     "output_type": "display_data"
    }
   ],
   "source": [
    "plt.plot(range(len(model.history.history['loss'])), model.history.history['loss'])"
   ]
  },
  {
   "cell_type": "code",
   "execution_count": 286,
   "metadata": {},
   "outputs": [],
   "source": [
    "first_eval_batch = scaleed_train[-n_input:] #pega os ultimos 12 do treino para prever o teste \n",
    "\n",
    "first_eval_batch = first_eval_batch.reshape((1,n_input,n_features))"
   ]
  },
  {
   "cell_type": "code",
   "execution_count": 287,
   "metadata": {},
   "outputs": [
    {
     "data": {
      "text/plain": [
       "array([[0.21160822],\n",
       "       [0.904474  ],\n",
       "       [1.05018138],\n",
       "       [0.61789601],\n",
       "       [0.71160822],\n",
       "       [0.68681983],\n",
       "       [0.74002418],\n",
       "       [0.87061669],\n",
       "       [0.86033857],\n",
       "       [0.6668682 ],\n",
       "       [0.77025393],\n",
       "       [0.69467956]])"
      ]
     },
     "execution_count": 287,
     "metadata": {},
     "output_type": "execute_result"
    }
   ],
   "source": [
    "scaleed_test"
   ]
  },
  {
   "cell_type": "code",
   "execution_count": 288,
   "metadata": {},
   "outputs": [
    {
     "data": {
      "text/plain": [
       "array([[0.6797864]], dtype=float32)"
      ]
     },
     "execution_count": 288,
     "metadata": {},
     "output_type": "execute_result"
    }
   ],
   "source": [
    "model.predict(first_eval_batch)"
   ]
  },
  {
   "cell_type": "code",
   "execution_count": 289,
   "metadata": {},
   "outputs": [],
   "source": [
    "#hold predictions\n",
    "test_predictions = [] \n",
    "\n",
    "# las n input from the train set \n",
    "first_eval_batch = scaleed_train[-n_input:]\n",
    "#reshape para fcar no formato do timeseries Generator\n",
    "current_batch = first_eval_batch.reshape((1,n_input,n_features))\n",
    "\n",
    "#quantidade de meses a frente a previsao ... normalmente pega o mesmo que seria o tamanho do test\n",
    "# vai substituindo cada valor com o historico do anterior, ja levando em conta o quanto ele previu pro anterior\n",
    "for i in range(len(dfMonthTest)):\n",
    "    #um passo a frente do historico ... 12 pontos\n",
    "    current_pred = model.predict(current_batch)[0]    \n",
    "    #grava a predicao\n",
    "    test_predictions.append(current_pred)\n",
    "    #atualiza o current batch com a predição\n",
    "    current_batch = np.append(current_batch[:,1:,:],[[current_pred]],axis=1)\n",
    "    #print(current_batch.flatten())"
   ]
  },
  {
   "cell_type": "code",
   "execution_count": 290,
   "metadata": {},
   "outputs": [
    {
     "data": {
      "text/plain": [
       "array([[1124.36667931],\n",
       "       [1136.17265844],\n",
       "       [1139.00838852],\n",
       "       [1116.65931797],\n",
       "       [1100.15374029],\n",
       "       [1097.5950371 ],\n",
       "       [1079.75233638],\n",
       "       [1076.63534021],\n",
       "       [1062.57193696],\n",
       "       [1060.49660134],\n",
       "       [1047.20788753],\n",
       "       [1037.23206043]])"
      ]
     },
     "execution_count": 290,
     "metadata": {},
     "output_type": "execute_result"
    }
   ],
   "source": [
    "true_predictions = scaler.inverse_transform(test_predictions)\n",
    "true_predictions"
   ]
  },
  {
   "cell_type": "code",
   "execution_count": 291,
   "metadata": {},
   "outputs": [
    {
     "data": {
      "text/plain": [
       "<matplotlib.axes._subplots.AxesSubplot at 0x156282590>"
      ]
     },
     "execution_count": 291,
     "metadata": {},
     "output_type": "execute_result"
    },
    {
     "data": {
      "image/png": "[encoded data removed]",
      "text/plain": [
       "<Figure size 864x576 with 1 Axes>"
      ]
     },
     "metadata": {
      "needs_background": "light"
     },
     "output_type": "display_data"
    }
   ],
   "source": [
    "dfMonthTest['Predictions'] = true_predictions\n",
    "dfMonthTest.plot(figsize=figsize)"
   ]
  },
  {
   "cell_type": "code",
   "execution_count": 292,
   "metadata": {},
   "outputs": [],
   "source": [
    "model.save('modelo.h5')"
   ]
  },
  {
   "cell_type": "code",
   "execution_count": 234,
   "metadata": {},
   "outputs": [
    {
     "name": "stdout",
     "output_type": "stream",
     "text": [
      "Model: \"sequential_11\"\n",
      "_________________________________________________________________\n",
      "Layer (type)                 Output Shape              Param #   \n",
      "=================================================================\n",
      "lstm_11 (LSTM)               (None, 150)               91200     \n",
      "_________________________________________________________________\n",
      "dense_9 (Dense)              (None, 1)                 151       \n",
      "=================================================================\n",
      "Total params: 91,351\n",
      "Trainable params: 91,351\n",
      "Non-trainable params: 0\n",
      "_________________________________________________________________\n"
     ]
    }
   ],
   "source": [
    "from keras.models import load_model\n",
    "new_model = load_model('modelo.h5')\n",
    "new_model.summary()"
   ]
  },
  {
   "cell_type": "code",
   "execution_count": null,
   "metadata": {},
   "outputs": [],
   "source": []
  },
  {
   "cell_type": "code",
   "execution_count": null,
   "metadata": {},
   "outputs": [],
   "source": []
  },
  {
   "cell_type": "code",
   "execution_count": null,
   "metadata": {},
   "outputs": [],
   "source": []
  },
  {
   "cell_type": "code",
   "execution_count": null,
   "metadata": {},
   "outputs": [],
   "source": []
  },
  {
   "cell_type": "code",
   "execution_count": null,
   "metadata": {},
   "outputs": [],
   "source": []
  },
  {
   "cell_type": "code",
   "execution_count": null,
   "metadata": {},
   "outputs": [],
   "source": []
  },
  {
   "cell_type": "code",
   "execution_count": null,
   "metadata": {},
   "outputs": [],
   "source": []
  },
  {
   "cell_type": "code",
   "execution_count": null,
   "metadata": {},
   "outputs": [],
   "source": [
    "from pandas import DataFrame\n",
    "from pandas import Series\n",
    "from pandas import concat\n",
    "from pandas import read_csv\n",
    "from pandas import datetime\n",
    "from sklearn.metrics import mean_squared_error\n",
    "from sklearn.preprocessing import MinMaxScaler\n",
    "from keras.models import Sequential\n",
    "from keras.layers import Dense\n",
    "from keras.layers import LSTM\n",
    "from math import sqrt\n",
    "import matplotlib\n",
    "# be able to save images on server\n",
    "matplotlib.use('Agg')\n",
    "from matplotlib import pyplot\n",
    "import numpy\n",
    "\n",
    "# date-time parsing function for loading the dataset\n",
    "def parser(x):\n",
    "\treturn datetime.strptime('190'+x, '%Y-%m')\n",
    "\n",
    "# frame a sequence as a supervised learning problem\n",
    "def timeseries_to_supervised(data, lag=1):\n",
    "\tdf = DataFrame(data)\n",
    "\tcolumns = [df.shift(i) for i in range(1, lag+1)]\n",
    "\tcolumns.append(df)\n",
    "\tdf = concat(columns, axis=1)\n",
    "\tdf = df.drop(0)\n",
    "\treturn df\n",
    "\n",
    "# create a differenced series\n",
    "def difference(dataset, interval=1):\n",
    "\tdiff = list()\n",
    "\tfor i in range(interval, len(dataset)):\n",
    "\t\tvalue = dataset[i] - dataset[i - interval]\n",
    "\t\tdiff.append(value)\n",
    "\treturn Series(diff)\n",
    "\n",
    "# scale train and test data to [-1, 1]\n",
    "def scale(train, test):\n",
    "\t# fit scaler\n",
    "\tscaler = MinMaxScaler(feature_range=(-1, 1))\n",
    "\tscaler = scaler.fit(train)\n",
    "\t# transform train\n",
    "\ttrain = train.reshape(train.shape[0], train.shape[1])\n",
    "\ttrain_scaled = scaler.transform(train)\n",
    "\t# transform test\n",
    "\ttest = test.reshape(test.shape[0], test.shape[1])\n",
    "\ttest_scaled = scaler.transform(test)\n",
    "\treturn scaler, train_scaled, test_scaled\n",
    "\n",
    "# inverse scaling for a forecasted value\n",
    "def invert_scale(scaler, X, yhat):\n",
    "\tnew_row = [x for x in X] + [yhat]\n",
    "\tarray = numpy.array(new_row)\n",
    "\tarray = array.reshape(1, len(array))\n",
    "\tinverted = scaler.inverse_transform(array)\n",
    "\treturn inverted[0, -1]\n",
    "\n",
    "# evaluate the model on a dataset, returns RMSE in transformed units\n",
    "def evaluate(model, raw_data, scaled_dataset, scaler, offset, batch_size):\n",
    "\t# separate\n",
    "\tX, y = scaled_dataset[:,0:-1], scaled_dataset[:,-1]\n",
    "\t# reshape\n",
    "\treshaped = X.reshape(len(X), 1, 1)\n",
    "\t# forecast dataset\n",
    "\toutput = model.predict(reshaped, batch_size=batch_size)\n",
    "\t# invert data transforms on forecast\n",
    "\tpredictions = list()\n",
    "\tfor i in range(len(output)):\n",
    "\t\tyhat = output[i,0]\n",
    "\t\t# invert scaling\n",
    "\t\tyhat = invert_scale(scaler, X[i], yhat)\n",
    "\t\t# invert differencing\n",
    "\t\tyhat = yhat + raw_data[i]\n",
    "\t\t# store forecast\n",
    "\t\tpredictions.append(yhat)\n",
    "\t# report performance\n",
    "\trmse = sqrt(mean_squared_error(raw_data[1:], predictions))\n",
    "\treturn rmse\n",
    "\n",
    "# fit an LSTM network to training data\n",
    "def fit_lstm(train, test, raw, scaler, batch_size, nb_epoch, neurons):\n",
    "\tX, y = train[:, 0:-1], train[:, -1]\n",
    "\tX = X.reshape(X.shape[0], 1, X.shape[1])\n",
    "\t# prepare model\n",
    "\tmodel = Sequential()\n",
    "\tmodel.add(LSTM(neurons, batch_input_shape=(batch_size, X.shape[1], X.shape[2]), stateful=True))\n",
    "\tmodel.add(Dense(1))\n",
    "\tmodel.compile(loss='mean_squared_error', optimizer='adam')\n",
    "\t# fit model\n",
    "\ttrain_rmse, test_rmse = list(), list()\n",
    "\tfor i in range(nb_epoch):\n",
    "\t\tmodel.fit(X, y, epochs=1, batch_size=batch_size, verbose=0, shuffle=False)\n",
    "\t\tmodel.reset_states()\n",
    "\t\t# evaluate model on train data\n",
    "\t\traw_train = raw[-(len(train)+len(test)+1):-len(test)]\n",
    "\t\ttrain_rmse.append(evaluate(model, raw_train, train, scaler, 0, batch_size))\n",
    "\t\tmodel.reset_states()\n",
    "\t\t# evaluate model on test data\n",
    "\t\traw_test = raw[-(len(test)+1):]\n",
    "\t\ttest_rmse.append(evaluate(model, raw_test, test, scaler, 0, batch_size))\n",
    "\t\tmodel.reset_states()\n",
    "\thistory = DataFrame()\n",
    "\thistory['train'], history['test'] = train_rmse, test_rmse\n",
    "\treturn history\n",
    "\n",
    "# run diagnostic experiments\n",
    "def run():\n",
    "    # load dataset\n",
    "    #series = read_csv('shampoo-sales.csv', header=0, parse_dates=[0], index_col=0, squeeze=True, date_parser=parser)\n",
    "    series = dfMonth\n",
    "    # transform data to be stationary\n",
    "    raw_values = series.values\n",
    "    diff_values = difference(raw_values, 1)\n",
    "    # transform data to be supervised learning\n",
    "    supervised = timeseries_to_supervised(diff_values, 1)\n",
    "    supervised_values = supervised.values\n",
    "    # split data into train and test-sets\n",
    "    train, test = supervised_values[0:-12], supervised_values[-12:]\n",
    "    # transform the scale of the data\n",
    "    scaler, train_scaled, test_scaled = scale(train, test)\n",
    "    # fit and evaluate model\n",
    "    train_trimmed = train_scaled[2:, :]\n",
    "    # config\n",
    "    repeats = 10\n",
    "    n_batch = 4\n",
    "    n_epochs = 500\n",
    "    n_neurons = 1\n",
    "    # run diagnostic tests\n",
    "    for i in range(repeats):\n",
    "        history = fit_lstm(train_trimmed, test_scaled, raw_values, scaler, n_batch, n_epochs, n_neurons)\n",
    "        pyplot.plot(history['train'], color='blue')\n",
    "        pyplot.plot(history['test'], color='orange')\n",
    "        print('%d) TrainRMSE=%f, TestRMSE=%f' % (i, history['train'].iloc[-1], history['test'].iloc[-1]))\n",
    "    pyplot.savefig('epochs_diagnostic.png')\n",
    "\n",
    "# entry point\n",
    "run()"
   ]
  },
  {
   "cell_type": "code",
   "execution_count": null,
   "metadata": {},
   "outputs": [],
   "source": [
    "run()"
   ]
  },
  {
   "cell_type": "code",
   "execution_count": null,
   "metadata": {},
   "outputs": [],
   "source": []
  }
 ],
 "metadata": {
  "kernelspec": {
   "display_name": "Python 3",
   "language": "python",
   "name": "python3"
  },
  "language_info": {
   "codemirror_mode": {
    "name": "ipython",
    "version": 3
   },
   "file_extension": ".py",
   "mimetype": "text/x-python",
   "name": "python",
   "nbconvert_exporter": "python",
   "pygments_lexer": "ipython3",
   "version": "3.7.6"
  }
 },
 "nbformat": 4,
 "nbformat_minor": 4
}
